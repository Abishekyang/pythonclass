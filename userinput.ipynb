{
 "cells": [
  {
   "cell_type": "code",
   "execution_count": 1,
   "id": "39ea3953-fe14-4ee8-ae75-5d44446286fd",
   "metadata": {},
   "outputs": [
    {
     "name": "stdin",
     "output_type": "stream",
     "text": [
      "Enter your age: 23\n"
     ]
    }
   ],
   "source": [
    "age = input('Enter your age:')"
   ]
  },
  {
   "cell_type": "code",
   "execution_count": 2,
   "id": "d46888c1-28c3-4674-8795-7f772f044956",
   "metadata": {},
   "outputs": [
    {
     "name": "stdin",
     "output_type": "stream",
     "text": [
      "Please enter your name: Avishek Yangkhurung Rai\n"
     ]
    }
   ],
   "source": [
    "name = input('Please enter your name:')\n"
   ]
  },
  {
   "cell_type": "code",
   "execution_count": 3,
   "id": "d9591ac6-b50b-40aa-b38a-628bad1d4844",
   "metadata": {},
   "outputs": [
    {
     "name": "stdout",
     "output_type": "stream",
     "text": [
      "Welcome to the class, Avishek Yangkhurung Rai\n"
     ]
    }
   ],
   "source": [
    "print(f'Welcome to the class, {name}')"
   ]
  },
  {
   "cell_type": "code",
   "execution_count": 20,
   "id": "15841321-92fd-439b-a350-3e1d7f4ca593",
   "metadata": {},
   "outputs": [
    {
     "name": "stdin",
     "output_type": "stream",
     "text": [
      "Enter your age: 12\n"
     ]
    },
    {
     "name": "stdout",
     "output_type": "stream",
     "text": [
      "You are below 18\n"
     ]
    }
   ],
   "source": [
    "\n",
    "age = int(input('Enter your age:'))\n",
    "\n",
    "    \n",
    "\n",
    "\n",
    "\n",
    "\n",
    "COND = 18\n",
    "\n",
    "if age < COND:\n",
    "    print(f'You are below {COND}')\n",
    "elif age > COND:\n",
    "    print(f'You are above {COND}')\n",
    "else:\n",
    "    print(f'You are {COND}')"
   ]
  },
  {
   "cell_type": "markdown",
   "id": "127f7f7e-39e6-4234-a481-9dc190941c5d",
   "metadata": {},
   "source": [
    "##  Exception Handling"
   ]
  },
  {
   "cell_type": "code",
   "execution_count": 27,
   "id": "d20051b3-a49e-4941-a40f-d69a1f297423",
   "metadata": {},
   "outputs": [
    {
     "name": "stdin",
     "output_type": "stream",
     "text": [
      "Enter your age:  wef\n"
     ]
    },
    {
     "name": "stdout",
     "output_type": "stream",
     "text": [
      "Error: Input must be integer.\n",
      "Done\n"
     ]
    }
   ],
   "source": [
    "# Handling global exception\n",
    "# try, except, finally\n",
    "\n",
    "COND = 18\n",
    "\n",
    "try:\n",
    "    age = int(input('Enter your age: '))\n",
    "    if age < COND:\n",
    "        print(f'You are below {COND}.')\n",
    "    elif age > COND:\n",
    "        print(f'You are above {COND}.')\n",
    "    else:\n",
    "        print(f'You are {COND}.')\n",
    "except ValueError:\n",
    "    print('Error: Input must be integer.')\n",
    "except:\n",
    "    print('Something wrong')\n",
    "finally:\n",
    "    print('Done')"
   ]
  },
  {
   "cell_type": "code",
   "execution_count": 39,
   "id": "fdefe005-f5c5-4842-bbfe-0dd77981d36e",
   "metadata": {},
   "outputs": [
    {
     "name": "stdin",
     "output_type": "stream",
     "text": [
      "Please enter 1st number: 0\n",
      "Please enter 2nd number: 7\n"
     ]
    },
    {
     "name": "stdout",
     "output_type": "stream",
     "text": [
      "Result is 0.0\n",
      "Execution complete.\n"
     ]
    }
   ],
   "source": [
    "# WAP that takes two integers as input, and find out their division. Use exception handling.\n",
    "try:\n",
    "    first_number = int(input('Please enter 1st number:'))\n",
    "    second_number = int(input('Please enter 2nd number:'))\n",
    "    division = (first_number / second_number)\n",
    "    \n",
    "except ZeroDivisionError:\n",
    "    \n",
    "    print(\"You can't divide by zero\")\n",
    "    \n",
    "    \n",
    "    \n",
    "except ValueError:\n",
    "    print('enter a valid number')\n",
    "else:\n",
    "    print('Result is', division)\n",
    "finally:\n",
    "    print('Execution complete.')\n",
    "    \n",
    "\n",
    "\n",
    "    \n",
    "    \n",
    "                   "
   ]
  },
  {
   "cell_type": "code",
   "execution_count": 1,
   "id": "f1199f0b-ed16-4ee3-92d3-5c639648326c",
   "metadata": {},
   "outputs": [
    {
     "name": "stdin",
     "output_type": "stream",
     "text": [
      "Enter first number:  five\n"
     ]
    },
    {
     "name": "stdout",
     "output_type": "stream",
     "text": [
      "Hint: Enter valid\n"
     ]
    }
   ],
   "source": [
    "try:\n",
    "    a = int(input('Enter first number: '))\n",
    "    b = int(input('Enter second number: '))\n",
    "\n",
    "    result = a / b\n",
    "    print(f'{a} / {b} = {result}')\n",
    "except ValueError:\n",
    "    print('Hint: Enter valid')\n",
    "except ZeroDivisionError:\n",
    "    print('Hint: Can not divide by 0')\n",
    "except:\n",
    "    print('Something wrong, try again.')\n",
    "            "
   ]
  },
  {
   "cell_type": "code",
   "execution_count": null,
   "id": "717097d5-0652-4448-9423-7a46e9fbeb90",
   "metadata": {},
   "outputs": [],
   "source": []
  }
 ],
 "metadata": {
  "kernelspec": {
   "display_name": "Python 3 (ipykernel)",
   "language": "python",
   "name": "python3"
  },
  "language_info": {
   "codemirror_mode": {
    "name": "ipython",
    "version": 3
   },
   "file_extension": ".py",
   "mimetype": "text/x-python",
   "name": "python",
   "nbconvert_exporter": "python",
   "pygments_lexer": "ipython3",
   "version": "3.11.7"
  }
 },
 "nbformat": 4,
 "nbformat_minor": 5
}
