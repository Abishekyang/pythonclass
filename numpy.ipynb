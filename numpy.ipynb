{
 "cells": [
  {
   "cell_type": "markdown",
   "id": "7ebf1e97-cc8f-4d6b-b8e4-1b416e04f401",
   "metadata": {},
   "source": [
    "# Working with Numpy"
   ]
  },
  {
   "cell_type": "code",
   "execution_count": 1,
   "id": "77ba38cb-dae4-4b40-99b0-c9d3da109a80",
   "metadata": {},
   "outputs": [],
   "source": [
    "import numpy as np"
   ]
  },
  {
   "cell_type": "code",
   "execution_count": 2,
   "id": "39192df5-8a06-4c89-bff0-e79c662aa65e",
   "metadata": {},
   "outputs": [
    {
     "data": {
      "text/plain": [
       "array([1, 3, 4, 5, 6])"
      ]
     },
     "execution_count": 2,
     "metadata": {},
     "output_type": "execute_result"
    }
   ],
   "source": [
    "arr = np.array([1, 3, 4, 5, 6])\n",
    "arr"
   ]
  },
  {
   "cell_type": "code",
   "execution_count": 4,
   "id": "20824bcc-48fa-4e5c-acf4-8015de59ff0e",
   "metadata": {},
   "outputs": [
    {
     "name": "stdout",
     "output_type": "stream",
     "text": [
      "[1 3 4 5 6]\n"
     ]
    }
   ],
   "source": [
    "print(arr)"
   ]
  },
  {
   "cell_type": "code",
   "execution_count": 5,
   "id": "4706f0f5-77c1-4358-bf7c-e1bcb8d3bb45",
   "metadata": {},
   "outputs": [
    {
     "data": {
      "text/plain": [
       "array([[1, 2, 3],\n",
       "       [4, 5, 6]])"
      ]
     },
     "execution_count": 5,
     "metadata": {},
     "output_type": "execute_result"
    }
   ],
   "source": [
    "arr_2d = np.array([[1, 2, 3], [4, 5, 6]])\n",
    "\n",
    "arr_2d"
   ]
  },
  {
   "cell_type": "code",
   "execution_count": 8,
   "id": "80850846-1b11-4767-8e95-93fd3fa2bf66",
   "metadata": {},
   "outputs": [
    {
     "data": {
      "text/plain": [
       "array([[[1, 2, 3],\n",
       "        [4, 5, 6],\n",
       "        [6, 7, 8]],\n",
       "\n",
       "       [[7, 8, 9],\n",
       "        [4, 5, 6],\n",
       "        [1, 2, 3]]])"
      ]
     },
     "execution_count": 8,
     "metadata": {},
     "output_type": "execute_result"
    }
   ],
   "source": [
    "arr_3d = np.array([[[1, 2, 3], [4, 5, 6], [6, 7, 8]], [[7, 8, 9], [4, 5, 6], [1, 2, 3]]])\n",
    "\n",
    "arr_3d"
   ]
  },
  {
   "cell_type": "code",
   "execution_count": 9,
   "id": "f9a3998a-0977-478a-8e53-84267150caea",
   "metadata": {},
   "outputs": [
    {
     "name": "stdout",
     "output_type": "stream",
     "text": [
      "[[[1 2 3]\n",
      "  [4 5 6]\n",
      "  [6 7 8]]\n",
      "\n",
      " [[7 8 9]\n",
      "  [4 5 6]\n",
      "  [1 2 3]]]\n"
     ]
    }
   ],
   "source": [
    "print(arr_3d)"
   ]
  },
  {
   "cell_type": "code",
   "execution_count": 10,
   "id": "281e9205-7026-4d57-a95c-e1bea76fc0c4",
   "metadata": {},
   "outputs": [
    {
     "data": {
      "text/plain": [
       "(2, 3)"
      ]
     },
     "execution_count": 10,
     "metadata": {},
     "output_type": "execute_result"
    }
   ],
   "source": [
    "arr_2d.shape"
   ]
  },
  {
   "cell_type": "code",
   "execution_count": 11,
   "id": "577ef418-8485-4bb3-8b3a-fe01313dddf8",
   "metadata": {},
   "outputs": [
    {
     "data": {
      "text/plain": [
       "6"
      ]
     },
     "execution_count": 11,
     "metadata": {},
     "output_type": "execute_result"
    }
   ],
   "source": [
    "arr_2d.size"
   ]
  },
  {
   "cell_type": "code",
   "execution_count": 12,
   "id": "9c269d14-c3ac-4cdc-bef5-df12c394b9ae",
   "metadata": {},
   "outputs": [
    {
     "data": {
      "text/plain": [
       "(2, 3, 3)"
      ]
     },
     "execution_count": 12,
     "metadata": {},
     "output_type": "execute_result"
    }
   ],
   "source": [
    "arr_3d.shape"
   ]
  },
  {
   "cell_type": "code",
   "execution_count": 13,
   "id": "6ca81069-c72f-4c4f-84ed-d464185f91a8",
   "metadata": {},
   "outputs": [
    {
     "data": {
      "text/plain": [
       "dtype('int32')"
      ]
     },
     "execution_count": 13,
     "metadata": {},
     "output_type": "execute_result"
    }
   ],
   "source": [
    "arr_3d.dtype"
   ]
  },
  {
   "cell_type": "code",
   "execution_count": 14,
   "id": "01068d49-683a-4bc3-b543-3bc538e0c30e",
   "metadata": {},
   "outputs": [
    {
     "name": "stdout",
     "output_type": "stream",
     "text": [
      "[3 4 5]\n"
     ]
    }
   ],
   "source": [
    "# Slicing and Indexing\n",
    "\n",
    "new_arr = arr[1:4]\n",
    "\n",
    "print(new_arr)"
   ]
  },
  {
   "cell_type": "code",
   "execution_count": 16,
   "id": "52c7802f-a9a8-406c-a060-d9d1b198a6c4",
   "metadata": {},
   "outputs": [
    {
     "data": {
      "text/plain": [
       "5"
      ]
     },
     "execution_count": 16,
     "metadata": {},
     "output_type": "execute_result"
    }
   ],
   "source": [
    "ele = arr_2d[1][1]\n",
    "\n",
    "ele"
   ]
  },
  {
   "cell_type": "markdown",
   "id": "13bfcecb-99fe-4e6c-8f15-4705b181fe93",
   "metadata": {},
   "source": [
    "# Array operations"
   ]
  },
  {
   "cell_type": "code",
   "execution_count": 17,
   "id": "adaacb4d-48f5-4320-be38-65417065e16a",
   "metadata": {},
   "outputs": [],
   "source": [
    "arr1 = np.array([1, 2, 3])\n",
    "arr2 = np.array([4, 5, 6])"
   ]
  },
  {
   "cell_type": "code",
   "execution_count": 20,
   "id": "bde45262-4eb0-44d4-a662-fe1ee626603e",
   "metadata": {},
   "outputs": [
    {
     "name": "stdout",
     "output_type": "stream",
     "text": [
      "[5 7 9]\n"
     ]
    }
   ],
   "source": [
    "ar_sum = arr1 + arr2\n",
    "print(ar_sum)"
   ]
  },
  {
   "cell_type": "code",
   "execution_count": 21,
   "id": "6fcf1f61-cad4-4b4d-9f04-9cdc78e57ee9",
   "metadata": {},
   "outputs": [
    {
     "name": "stdout",
     "output_type": "stream",
     "text": [
      "[ 4 10 18]\n"
     ]
    }
   ],
   "source": [
    "arr_mul = arr1 * arr2\n",
    "\n",
    "print(arr_mul)"
   ]
  },
  {
   "cell_type": "code",
   "execution_count": 23,
   "id": "05167b06-edb9-4415-ba90-a77e32094ce4",
   "metadata": {},
   "outputs": [
    {
     "name": "stdout",
     "output_type": "stream",
     "text": [
      "[ 5 10 15]\n"
     ]
    }
   ],
   "source": [
    "print(arr1 * 5)"
   ]
  },
  {
   "cell_type": "code",
   "execution_count": 24,
   "id": "11f5ee5f-7a8c-478f-b63c-75f7674c1ad9",
   "metadata": {},
   "outputs": [
    {
     "name": "stdout",
     "output_type": "stream",
     "text": [
      "[6 7 8]\n"
     ]
    }
   ],
   "source": [
    "print(arr1 + 5)"
   ]
  },
  {
   "cell_type": "code",
   "execution_count": 26,
   "id": "392a3d19-72d0-489a-8dd8-5fcdc9c16465",
   "metadata": {},
   "outputs": [],
   "source": [
    "# Matrix calculation\n",
    "\n",
    "mat1 = np.array([[2, 3, 4], [4, 5, 6]])\n",
    "mat2 = np.array([[1, 2, 3], [6, 7, 8]])\n"
   ]
  },
  {
   "cell_type": "code",
   "execution_count": 27,
   "id": "5724c35d-13bf-4d48-b090-f3557466a372",
   "metadata": {},
   "outputs": [
    {
     "name": "stdout",
     "output_type": "stream",
     "text": [
      "First Matrix:\n",
      "[[2 3 4]\n",
      " [4 5 6]]\n",
      "Second Matrix:\n",
      "[[1 2 3]\n",
      " [6 7 8]]\n"
     ]
    }
   ],
   "source": [
    "print(f'First Matrix:\\n{mat1}')\n",
    "print(f'Second Matrix:\\n{mat2}')"
   ]
  },
  {
   "cell_type": "code",
   "execution_count": 28,
   "id": "354342bc-af5c-4132-adb3-7337050a7078",
   "metadata": {},
   "outputs": [
    {
     "name": "stdout",
     "output_type": "stream",
     "text": [
      "[[ 3  5  7]\n",
      " [10 12 14]]\n"
     ]
    }
   ],
   "source": [
    "mat_add = mat1 + mat2\n",
    "print(mat_add)"
   ]
  },
  {
   "cell_type": "code",
   "execution_count": 29,
   "id": "1bb95314-4a7b-4d37-9695-e274381f87a6",
   "metadata": {},
   "outputs": [
    {
     "name": "stdout",
     "output_type": "stream",
     "text": [
      "[[ 1  1  1]\n",
      " [-2 -2 -2]]\n"
     ]
    }
   ],
   "source": [
    "# Subtraction\n",
    "\n",
    "mat_sub = mat1 - mat2\n",
    "\n",
    "print(mat_sub)"
   ]
  },
  {
   "cell_type": "code",
   "execution_count": 30,
   "id": "3bb6c290-70cb-476f-b6c5-4210a6a2bce6",
   "metadata": {},
   "outputs": [
    {
     "name": "stdout",
     "output_type": "stream",
     "text": [
      "[[ 6  9 12]\n",
      " [12 15 18]]\n"
     ]
    }
   ],
   "source": [
    "print(mat1 * 3)"
   ]
  },
  {
   "cell_type": "code",
   "execution_count": 31,
   "id": "9040bbfc-0d16-4a9c-9d42-3ac63379e5cf",
   "metadata": {},
   "outputs": [
    {
     "name": "stdout",
     "output_type": "stream",
     "text": [
      "[[ 2  6 12]\n",
      " [24 35 48]]\n"
     ]
    }
   ],
   "source": [
    "print(mat1 * mat2)"
   ]
  },
  {
   "cell_type": "code",
   "execution_count": 33,
   "id": "e338f256-d596-4f67-a0ef-aaaede57f97e",
   "metadata": {},
   "outputs": [
    {
     "ename": "ValueError",
     "evalue": "shapes (2,3) and (2,3) not aligned: 3 (dim 1) != 2 (dim 0)",
     "output_type": "error",
     "traceback": [
      "\u001b[1;31m---------------------------------------------------------------------------\u001b[0m",
      "\u001b[1;31mValueError\u001b[0m                                Traceback (most recent call last)",
      "Cell \u001b[1;32mIn[33], line 1\u001b[0m\n\u001b[1;32m----> 1\u001b[0m \u001b[38;5;28mprint\u001b[39m(np\u001b[38;5;241m.\u001b[39mdot(mat1, mat2))\n",
      "\u001b[1;31mValueError\u001b[0m: shapes (2,3) and (2,3) not aligned: 3 (dim 1) != 2 (dim 0)"
     ]
    }
   ],
   "source": [
    "print(np.dot(mat1, mat2))"
   ]
  },
  {
   "cell_type": "code",
   "execution_count": 34,
   "id": "0134192e-46e8-44cc-a999-18ddc6930321",
   "metadata": {},
   "outputs": [
    {
     "name": "stdout",
     "output_type": "stream",
     "text": [
      "[[10 13]\n",
      " [22 29]]\n"
     ]
    }
   ],
   "source": [
    "mat1 = np.array([[1, 2], [3, 4]])\n",
    "mat2 = np.array([[2, 3], [4, 5]])\n",
    "\n",
    "print(np.dot(mat1, mat2))"
   ]
  },
  {
   "cell_type": "code",
   "execution_count": 35,
   "id": "d6d79a04-456e-4f12-b306-4cf3b0730488",
   "metadata": {},
   "outputs": [
    {
     "name": "stdout",
     "output_type": "stream",
     "text": [
      "[[10 13]\n",
      " [22 29]]\n"
     ]
    }
   ],
   "source": [
    "mat_mul = mat1 @ mat2\n",
    "\n",
    "print(mat_mul)"
   ]
  },
  {
   "cell_type": "code",
   "execution_count": 36,
   "id": "7fd506ad-e6ae-48ff-ace3-7254513edb43",
   "metadata": {},
   "outputs": [
    {
     "name": "stdout",
     "output_type": "stream",
     "text": [
      "[[10 22]\n",
      " [13 29]]\n"
     ]
    }
   ],
   "source": [
    "# Transpose\n",
    "\n",
    "print(mat_mul.T)"
   ]
  },
  {
   "cell_type": "code",
   "execution_count": 38,
   "id": "d064dfb5-9b44-4392-843a-e9a02eed2705",
   "metadata": {},
   "outputs": [
    {
     "name": "stdout",
     "output_type": "stream",
     "text": [
      "[[ 7.25 -3.25]\n",
      " [-5.5   2.5 ]]\n"
     ]
    }
   ],
   "source": [
    "print(np.linalg.inv(mat_mul))"
   ]
  },
  {
   "cell_type": "code",
   "execution_count": 39,
   "id": "d328fd5c-cc24-4cb6-b5c2-b280d971dcbe",
   "metadata": {},
   "outputs": [
    {
     "name": "stdout",
     "output_type": "stream",
     "text": [
      "-2.0000000000000004\n"
     ]
    }
   ],
   "source": [
    "print(np.linalg.det(mat1))"
   ]
  },
  {
   "cell_type": "code",
   "execution_count": 40,
   "id": "843d44ae-cded-4993-ae7f-82de45fbdaef",
   "metadata": {},
   "outputs": [
    {
     "name": "stdout",
     "output_type": "stream",
     "text": [
      "EigResult(eigenvalues=array([-0.37228132,  5.37228132]), eigenvectors=array([[-0.82456484, -0.41597356],\n",
      "       [ 0.56576746, -0.90937671]]))\n"
     ]
    }
   ],
   "source": [
    "print(np.linalg.eig(mat1))"
   ]
  },
  {
   "cell_type": "markdown",
   "id": "eda0ea5f-465b-4bbc-8c1f-7fe6b6a46453",
   "metadata": {},
   "source": [
    "# Vector calculation\n",
    "\n"
   ]
  },
  {
   "cell_type": "code",
   "execution_count": 41,
   "id": "0f1e2465-fde6-47e3-a035-a0d01d1c7a3d",
   "metadata": {},
   "outputs": [
    {
     "name": "stdout",
     "output_type": "stream",
     "text": [
      "v1 = [1 2 3]\n",
      "v2 = [3 4 5]\n"
     ]
    }
   ],
   "source": [
    "v1 = np.array([1, 2, 3])\n",
    "v2 = np.array([3, 4, 5])\n",
    "\n",
    "print('v1 =', v1)\n",
    "print('v2 =', v2)"
   ]
  },
  {
   "cell_type": "code",
   "execution_count": 42,
   "id": "0c5de401-932c-4e25-beb8-d99b7edaf0de",
   "metadata": {},
   "outputs": [
    {
     "name": "stdout",
     "output_type": "stream",
     "text": [
      "26\n"
     ]
    }
   ],
   "source": [
    "dot_product = np.dot(v1, v2)\n",
    "print(dot_product)"
   ]
  },
  {
   "cell_type": "code",
   "execution_count": 43,
   "id": "d9b212fe-6849-4389-98c9-b5fa7c8a83e0",
   "metadata": {},
   "outputs": [
    {
     "data": {
      "text/plain": [
       "26"
      ]
     },
     "execution_count": 43,
     "metadata": {},
     "output_type": "execute_result"
    }
   ],
   "source": [
    "v1 @ v2"
   ]
  },
  {
   "cell_type": "code",
   "execution_count": 44,
   "id": "e49c8630-3ca8-4f24-ba57-6367e8e6b2ef",
   "metadata": {},
   "outputs": [
    {
     "name": "stdout",
     "output_type": "stream",
     "text": [
      "[-2  4 -2]\n"
     ]
    }
   ],
   "source": [
    "cross_product = np.cross(v1, v2)\n",
    "\n",
    "print(cross_product)"
   ]
  },
  {
   "cell_type": "code",
   "execution_count": 45,
   "id": "3f271c1f-3308-42af-9697-6a2ed7afd402",
   "metadata": {},
   "outputs": [
    {
     "data": {
      "text/plain": [
       "'\\ni j k\\n1 2 3\\n3 4 5\\n\\ni (10 - 12) -j (5 - 9) + k (4 - 6)\\n-2i + 4j - 2k\\n[-2 4 -2]\\n'"
      ]
     },
     "execution_count": 45,
     "metadata": {},
     "output_type": "execute_result"
    }
   ],
   "source": [
    "'''\n",
    "i j k\n",
    "1 2 3\n",
    "3 4 5\n",
    "\n",
    "i (10 - 12) -j (5 - 9) + k (4 - 6)\n",
    "-2i + 4j - 2k\n",
    "[-2 4 -2]\n",
    "'''"
   ]
  },
  {
   "cell_type": "markdown",
   "id": "0f4e0001-7409-482a-84ed-6a1bbc53d946",
   "metadata": {},
   "source": [
    "'''\n",
    "# solve linear equation\n",
    "2x + y = 5\n",
    "x + y = 3\n",
    "\n",
    "x = 2\n",
    "y = 1\n",
    "'''"
   ]
  },
  {
   "cell_type": "code",
   "execution_count": 46,
   "id": "eb4a94f6-ab0e-49dc-894f-28c26f759e12",
   "metadata": {},
   "outputs": [],
   "source": [
    "# A * X = B\n",
    " # X = (A inv) B\n"
   ]
  },
  {
   "cell_type": "code",
   "execution_count": 50,
   "id": "c4dddaa5-5634-48fd-9ae7-f6ac120e8462",
   "metadata": {},
   "outputs": [
    {
     "name": "stdout",
     "output_type": "stream",
     "text": [
      "Value of (x, y): [2. 1.]\n"
     ]
    }
   ],
   "source": [
    "A = np.array([[2, 1], [1, 1]])\n",
    "B = np.array([5, 3])\n",
    "\n",
    "X = np.linalg.solve(A, B)\n",
    "print('Value of (x, y):', X)"
   ]
  },
  {
   "cell_type": "code",
   "execution_count": 51,
   "id": "42721b75-bd76-4f51-8986-f6e238b4bc08",
   "metadata": {},
   "outputs": [
    {
     "data": {
      "text/plain": [
       "array([[-0.34107649, -0.11174425,  0.58169009],\n",
       "       [-1.86923009, -1.57096112,  1.1896999 ],\n",
       "       [ 1.32966473, -0.13508153, -0.34772663]])"
      ]
     },
     "execution_count": 51,
     "metadata": {},
     "output_type": "execute_result"
    }
   ],
   "source": [
    "np.random.randn(3, 3)"
   ]
  },
  {
   "cell_type": "code",
   "execution_count": null,
   "id": "186dde80-f37e-4766-89c0-42786cb4ab30",
   "metadata": {},
   "outputs": [],
   "source": []
  }
 ],
 "metadata": {
  "kernelspec": {
   "display_name": "Python 3 (ipykernel)",
   "language": "python",
   "name": "python3"
  },
  "language_info": {
   "codemirror_mode": {
    "name": "ipython",
    "version": 3
   },
   "file_extension": ".py",
   "mimetype": "text/x-python",
   "name": "python",
   "nbconvert_exporter": "python",
   "pygments_lexer": "ipython3",
   "version": "3.11.7"
  }
 },
 "nbformat": 4,
 "nbformat_minor": 5
}
