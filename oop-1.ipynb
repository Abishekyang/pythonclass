{
 "cells": [
  {
   "cell_type": "code",
   "execution_count": 1,
   "id": "14c1ab0d",
   "metadata": {},
   "outputs": [
    {
     "name": "stdout",
     "output_type": "stream",
     "text": [
      "Hello, Sita\n",
      "<__main__.Person object at 0x000001417044CE60>\n",
      "<class '__main__.Person'>\n",
      "This is class Person, which says hello for a person\n"
     ]
    }
   ],
   "source": [
    "# class with method and attribute\n",
    "\n",
    "class Person:\n",
    "    '''This is class Person, which says hello for a person'''\n",
    "    name = 'Sita'\n",
    "\n",
    "    \n",
    "    def say_hello(self):\n",
    "        print(f'Hello, {self.name}')\n",
    "\n",
    "# Creating object\n",
    "p = Person()\n",
    "p.say_hello()\n",
    "print(p)\n",
    "print(p.__class__)\n",
    "print(p.__doc__)"
   ]
  },
  {
   "cell_type": "code",
   "execution_count": 2,
   "id": "d1e7ae82",
   "metadata": {},
   "outputs": [
    {
     "name": "stdout",
     "output_type": "stream",
     "text": [
      "Hello, Sita\n",
      "Person object with name Sita\n",
      "<class '__main__.Person'>\n",
      "This is class Person, which says hello for a person\n"
     ]
    }
   ],
   "source": [
    "# class with method and attribute\n",
    "\n",
    "class Person:\n",
    "    '''This is class Person, which says hello for a person'''\n",
    "    name = 'Sita'\n",
    "\n",
    "    \n",
    "    def say_hello(self):\n",
    "        print(f'Hello, {self.name}')\n",
    "\n",
    "    def __str__(self):\n",
    "        return f'Person object with name {self.name}'\n",
    "\n",
    "# Creating object\n",
    "p = Person()\n",
    "p.say_hello()\n",
    "print(p)\n",
    "print(p.__class__)\n",
    "print(p.__doc__)"
   ]
  },
  {
   "cell_type": "code",
   "execution_count": 6,
   "id": "fae0797f",
   "metadata": {},
   "outputs": [
    {
     "name": "stdout",
     "output_type": "stream",
     "text": [
      "Hello, Sita\n",
      "Person object with name Sita\n",
      "<class '__main__.Person'>\n",
      "This is class Person, which says hello for a person.\n"
     ]
    }
   ],
   "source": [
    "# class with method, attribute, constructor and destructor\n",
    "\n",
    "class Person:\n",
    "    '''This is class Person, which says hello for a person.'''\n",
    "\n",
    "    def __init__(self, name):\n",
    "        self.name = name\n",
    "\n",
    "    \n",
    "\n",
    "    \n",
    "    def say_hello(self):\n",
    "        print(f'Hello, {self.name}')\n",
    "\n",
    "    def __str__(self):\n",
    "        return f'Person object with name {self.name}'\n",
    "    \n",
    "    def __del__(self):\n",
    "        print('I am a destructor')\n",
    "\n",
    "# Creating object\n",
    "p = Person('Sita')\n",
    "p.say_hello()\n",
    "print(p)\n",
    "print(p.__class__)\n",
    "print(p.__doc__)"
   ]
  },
  {
   "cell_type": "code",
   "execution_count": 9,
   "id": "3031156d",
   "metadata": {},
   "outputs": [
    {
     "name": "stdout",
     "output_type": "stream",
     "text": [
      "I am a destructor\n",
      "Hello, Gopal\n",
      "This is class Person, which says hello for a person.\n",
      "Person object with name Gopal\n"
     ]
    }
   ],
   "source": [
    "p1 = Person('Gopal')\n",
    "p1.say_hello()\n",
    "print(p1.__doc__)\n",
    "print(p1)"
   ]
  },
  {
   "cell_type": "code",
   "execution_count": 11,
   "id": "fcb1c045",
   "metadata": {},
   "outputs": [
    {
     "name": "stdout",
     "output_type": "stream",
     "text": [
      "I am a destructor\n",
      "Hello, Avishek\n",
      "This is class Person, which says hello for a person.\n",
      "Person object with name Avishek\n"
     ]
    }
   ],
   "source": [
    "p2 = Person('Avishek')\n",
    "p2.say_hello()\n",
    "print(p2.__doc__)\n",
    "print(p2)"
   ]
  },
  {
   "cell_type": "code",
   "execution_count": 16,
   "id": "abae3f9c",
   "metadata": {},
   "outputs": [
    {
     "name": "stdout",
     "output_type": "stream",
     "text": [
      "I am a destructor\n",
      "I am a destructor\n",
      "I am a destructor\n",
      "This is class Person, which says hello for a person.\n",
      "Person object with name A\n",
      "Hello, A\n",
      "This is class Person, which says hello for a person.\n",
      "Person object with name B\n",
      "Hello, B\n",
      "This is class Person, which says hello for a person.\n",
      "Person object with name C\n",
      "Hello, C\n"
     ]
    }
   ],
   "source": [
    "persons = [Person('A'), Person('B'), Person('C')]\n",
    "\n",
    "for person in persons:\n",
    "    print(person.__doc__)\n",
    "    print(person)\n",
    "    person.say_hello()\n",
    "\n"
   ]
  },
  {
   "cell_type": "code",
   "execution_count": 24,
   "id": "2caba6f3",
   "metadata": {},
   "outputs": [
    {
     "name": "stdout",
     "output_type": "stream",
     "text": [
      "I am a destructor\n",
      "Hello my name is Gopal and I am 23 years old\n"
     ]
    }
   ],
   "source": [
    "'''Q. Write a class Person \n",
    "constructor(name, age)\n",
    "function greet(Hello, my name is {name} and I am {age} years old)\n",
    "'''\n",
    "\n",
    "class Person:\n",
    "\n",
    "    def __init__(self, name, age):\n",
    "        self.name = name\n",
    "        self.age = age\n",
    "\n",
    "    def greet(self):\n",
    "        return f'Hello my name is {self.name} and I am {self.age} years old'\n",
    "    \n",
    "    \n",
    "    def __str__(self):\n",
    "        return f'Person object with name {self.name}'\n",
    "    \n",
    "    def __del__(self):\n",
    "        print('I am a destructor')\n",
    "\n",
    "p = Person('Gopal', 23)\n",
    "print(p.greet())\n",
    "\n",
    "    \n",
    "    \n",
    "        \n"
   ]
  },
  {
   "cell_type": "code",
   "execution_count": 27,
   "id": "d5537f1e",
   "metadata": {},
   "outputs": [
    {
     "name": "stdout",
     "output_type": "stream",
     "text": [
      "Bank Balance is Rs 100\n",
      "Deposited Rs. 1500\n",
      "Bank Balance is Rs. 1600\n",
      "Withdraw Rs. 400 \n",
      "Bank Balance is Rs. 1200\n"
     ]
    }
   ],
   "source": [
    "# Encapsulation\n",
    "\n",
    "class BankBalance:\n",
    "\n",
    "    def __init__(self, balance):\n",
    "        self.__balance = balance\n",
    "\n",
    "    def deposit(self, amount):\n",
    "        print(f'Deposited Rs. {amount}')\n",
    "        self.__balance += amount\n",
    "\n",
    "    def withdraw(self, amount):\n",
    "        print(f'Withdraw Rs. {amount} ')\n",
    "        self.__balance -= amount\n",
    "\n",
    "    def get_balance(self):\n",
    "        return self.__balance\n",
    "    \n",
    "account = BankBalance(100)\n",
    "print(f'Bank Balance is Rs {account.get_balance()}')\n",
    "\n",
    "account.deposit(1500)\n",
    "print(f'Bank Balance is Rs. {account.get_balance()}')\n",
    "\n",
    "account.withdraw(400)\n",
    "print(f'Bank Balance is Rs. {account.get_balance()}')\n",
    "\n"
   ]
  },
  {
   "cell_type": "code",
   "execution_count": null,
   "id": "a20d3bd6",
   "metadata": {},
   "outputs": [],
   "source": []
  }
 ],
 "metadata": {
  "kernelspec": {
   "display_name": "Python 3",
   "language": "python",
   "name": "python3"
  },
  "language_info": {
   "codemirror_mode": {
    "name": "ipython",
    "version": 3
   },
   "file_extension": ".py",
   "mimetype": "text/x-python",
   "name": "python",
   "nbconvert_exporter": "python",
   "pygments_lexer": "ipython3",
   "version": "3.12.2"
  }
 },
 "nbformat": 4,
 "nbformat_minor": 5
}
