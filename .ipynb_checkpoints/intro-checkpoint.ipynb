{
 "cells": [
  {
   "cell_type": "markdown",
   "id": "94fbdb77-5d0e-4382-9c71-5a878a6bbad2",
   "metadata": {},
   "source": [
    "# Intro to python"
   ]
  },
  {
   "cell_type": "code",
   "execution_count": 12,
   "id": "408627e9-7e68-4b17-93f0-58f9d0c130c1",
   "metadata": {},
   "outputs": [
    {
     "name": "stdout",
     "output_type": "stream",
     "text": [
      "Hello, world\n"
     ]
    }
   ],
   "source": [
    "# Print Hello,world\n",
    "print('Hello, world')"
   ]
  },
  {
   "cell_type": "code",
   "execution_count": 13,
   "id": "931ce003-16bb-493f-89d9-5665dddb33dd",
   "metadata": {},
   "outputs": [
    {
     "name": "stdout",
     "output_type": "stream",
     "text": [
      "Hello, world \n",
      "nepal\n",
      "Hello, Nepal\n"
     ]
    }
   ],
   "source": [
    "'''\n",
    "Again printing hello world\n",
    "with \\n\n",
    "'''\n",
    "print('Hello, world \\nnepal')\n",
    "print('Hello, Nepal')"
   ]
  },
  {
   "cell_type": "code",
   "execution_count": 7,
   "id": "d3c74779-659b-4a84-b44c-9060eb89e242",
   "metadata": {},
   "outputs": [
    {
     "name": "stdout",
     "output_type": "stream",
     "text": [
      "my name is \"Ram\"\n"
     ]
    }
   ],
   "source": [
    "print('my name is \"Ram\"')"
   ]
  },
  {
   "cell_type": "code",
   "execution_count": 9,
   "id": "c0941be3-b538-46ab-8034-5fa29e90529a",
   "metadata": {},
   "outputs": [
    {
     "name": "stdout",
     "output_type": "stream",
     "text": [
      "my name is \"Ram\"\n"
     ]
    }
   ],
   "source": [
    "print(\"my name is \\\"Ram\\\"\")"
   ]
  },
  {
   "cell_type": "code",
   "execution_count": 11,
   "id": "37500d91-a697-4e9b-9baa-5c05fbf350dc",
   "metadata": {},
   "outputs": [
    {
     "name": "stdout",
     "output_type": "stream",
     "text": [
      "my name is Ram\n",
      "my name is Ram\n"
     ]
    }
   ],
   "source": [
    "print(\"my name is\", \"Ram\")\n",
    "print(\"my name is \" + \"Ram\")"
   ]
  },
  {
   "cell_type": "code",
   "execution_count": null,
   "id": "ee724a20-58c2-47da-bac0-e664f7ed8c00",
   "metadata": {},
   "outputs": [],
   "source": []
  }
 ],
 "metadata": {
  "kernelspec": {
   "display_name": "Python 3 (ipykernel)",
   "language": "python",
   "name": "python3"
  },
  "language_info": {
   "codemirror_mode": {
    "name": "ipython",
    "version": 3
   },
   "file_extension": ".py",
   "mimetype": "text/x-python",
   "name": "python",
   "nbconvert_exporter": "python",
   "pygments_lexer": "ipython3",
   "version": "3.12.2"
  }
 },
 "nbformat": 4,
 "nbformat_minor": 5
}
