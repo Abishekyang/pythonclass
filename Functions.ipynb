{
 "cells": [
  {
   "cell_type": "code",
   "execution_count": null,
   "id": "68016f3c-dfcc-413a-bd54-9f2a12f4ef13",
   "metadata": {},
   "outputs": [],
   "source": [
    "## Functions\n",
    "- It is a block of reusable code that performs specific task and take input(parameters) and return output\n",
    "- Define using 'def' keyword\n",
    "'''\n",
    "def function_name(parameters(optional)):\n",
    "    body of function\n",
    "    return something (optional)\n",
    "\n",
    "    \n",
    "'''\n",
    "\n",
    "- function declaration\n",
    "- function definition\n",
    "- function calling"
   ]
  },
  {
   "cell_type": "markdown",
   "id": "61cd8d0a-96d3-4e76-b840-3c9bc7760ec2",
   "metadata": {},
   "source": [
    "## No parameter, no return"
   ]
  },
  {
   "cell_type": "code",
   "execution_count": 3,
   "id": "8d44f1ed-3f8e-40f9-bc20-ff107accbb93",
   "metadata": {},
   "outputs": [],
   "source": [
    "# Definition of function\n",
    "def say_hello_world():\n",
    "    print('Hello world!')"
   ]
  },
  {
   "cell_type": "code",
   "execution_count": 4,
   "id": "b326e262-ef76-446b-88e5-5f69099f6496",
   "metadata": {},
   "outputs": [
    {
     "name": "stdout",
     "output_type": "stream",
     "text": [
      "Hello world!\n"
     ]
    }
   ],
   "source": [
    "# calling function\n",
    "say_hello_world()"
   ]
  },
  {
   "cell_type": "markdown",
   "id": "86ce7de6-452f-4d10-b165-d8d5bfd0629e",
   "metadata": {},
   "source": [
    "## Parameter, but no return"
   ]
  },
  {
   "cell_type": "code",
   "execution_count": 5,
   "id": "aea8a3cf-5661-494c-81bb-3e1025fea645",
   "metadata": {},
   "outputs": [],
   "source": [
    "def greet(name):\n",
    "    print(f'Hello, {name}')"
   ]
  },
  {
   "cell_type": "code",
   "execution_count": 9,
   "id": "1e76bf2b-12a9-4152-9af9-a301b07f0864",
   "metadata": {},
   "outputs": [
    {
     "name": "stdout",
     "output_type": "stream",
     "text": [
      "Hello, Ram\n"
     ]
    }
   ],
   "source": [
    "greet('Ram')"
   ]
  },
  {
   "cell_type": "code",
   "execution_count": 10,
   "id": "f5f0bf38-5396-4ced-a069-0ec64f2416cd",
   "metadata": {},
   "outputs": [
    {
     "name": "stdout",
     "output_type": "stream",
     "text": [
      "Hello, Shyam\n"
     ]
    }
   ],
   "source": [
    "greet('Shyam')"
   ]
  },
  {
   "cell_type": "markdown",
   "id": "09b1db16-2553-4b3b-ad8d-4a13b4b50be3",
   "metadata": {},
   "source": [
    "## Parameter and return"
   ]
  },
  {
   "cell_type": "code",
   "execution_count": 11,
   "id": "1a42201b-7f36-438e-9d97-99f9e437742c",
   "metadata": {},
   "outputs": [],
   "source": [
    "def sum(a, b):\n",
    "    s = a + b\n",
    "    return s"
   ]
  },
  {
   "cell_type": "code",
   "execution_count": 13,
   "id": "4bc88f72-96e8-48a7-ba6d-b54eebe15316",
   "metadata": {},
   "outputs": [
    {
     "name": "stdout",
     "output_type": "stream",
     "text": [
      "7\n"
     ]
    }
   ],
   "source": [
    "s = sum(3, 4)\n",
    "print(s)"
   ]
  },
  {
   "cell_type": "code",
   "execution_count": 14,
   "id": "c6ec8ec8-07e6-412d-bb60-6b0be661f1b9",
   "metadata": {},
   "outputs": [
    {
     "name": "stdout",
     "output_type": "stream",
     "text": [
      "11\n"
     ]
    }
   ],
   "source": [
    "print(sum(5, 6))"
   ]
  },
  {
   "cell_type": "code",
   "execution_count": 15,
   "id": "48f2073e-5869-4896-bc6d-0f3e47422f0b",
   "metadata": {},
   "outputs": [
    {
     "name": "stdout",
     "output_type": "stream",
     "text": [
      "11.899999999999999\n"
     ]
    }
   ],
   "source": [
    "print(sum(5.6, 6.3))"
   ]
  },
  {
   "cell_type": "code",
   "execution_count": 16,
   "id": "7e1ae995-776a-41b1-96fd-88fdb1dc7385",
   "metadata": {},
   "outputs": [
    {
     "data": {
      "text/plain": [
       "57"
      ]
     },
     "execution_count": 16,
     "metadata": {},
     "output_type": "execute_result"
    }
   ],
   "source": [
    "sum(55, 2)"
   ]
  },
  {
   "cell_type": "code",
   "execution_count": 23,
   "id": "efe0f8e2-273b-4902-bbbc-fff725089fd1",
   "metadata": {},
   "outputs": [],
   "source": [
    "def multiply(a, b, c):\n",
    "    mul = a * b * c\n",
    "    print(f'The multiplication is, {mul}')"
   ]
  },
  {
   "cell_type": "code",
   "execution_count": 24,
   "id": "25f42e23-2c7a-48f7-87f2-fe0821bd51f0",
   "metadata": {},
   "outputs": [
    {
     "name": "stdout",
     "output_type": "stream",
     "text": [
      "The multiplication is, 24\n"
     ]
    }
   ],
   "source": [
    "multiply(2, 3, 4)"
   ]
  },
  {
   "cell_type": "code",
   "execution_count": 25,
   "id": "9485b965-fbd2-4cd4-960d-ace78207a73d",
   "metadata": {},
   "outputs": [],
   "source": [
    "def multiply(a, b, c):\n",
    "    return a * b * c\n"
   ]
  },
  {
   "cell_type": "code",
   "execution_count": 26,
   "id": "82a65663-8bfd-46ca-b28d-3a66b2f577ee",
   "metadata": {},
   "outputs": [
    {
     "data": {
      "text/plain": [
       "6"
      ]
     },
     "execution_count": 26,
     "metadata": {},
     "output_type": "execute_result"
    }
   ],
   "source": [
    "multiply(1, 2, 3)"
   ]
  },
  {
   "cell_type": "markdown",
   "id": "c24d2d3d-7542-4a28-8cac-d86cc1730e0e",
   "metadata": {},
   "source": [
    "## Default Argument\n"
   ]
  },
  {
   "cell_type": "code",
   "execution_count": 31,
   "id": "bdbf26e7-a587-4dca-b30b-c858bf3c59e0",
   "metadata": {},
   "outputs": [],
   "source": [
    "def multiply(a, b=1, c=1):\n",
    "    return a * b * c"
   ]
  },
  {
   "cell_type": "code",
   "execution_count": 29,
   "id": "9b643760-0ef3-4d76-b18e-50bac097a6af",
   "metadata": {},
   "outputs": [
    {
     "data": {
      "text/plain": [
       "6"
      ]
     },
     "execution_count": 29,
     "metadata": {},
     "output_type": "execute_result"
    }
   ],
   "source": [
    "multiply(2, 3)"
   ]
  },
  {
   "cell_type": "code",
   "execution_count": 30,
   "id": "bc48f0eb-794d-459d-95cb-f3c60258b759",
   "metadata": {},
   "outputs": [
    {
     "data": {
      "text/plain": [
       "27"
      ]
     },
     "execution_count": 30,
     "metadata": {},
     "output_type": "execute_result"
    }
   ],
   "source": [
    "multiply(3, 3, 3)"
   ]
  },
  {
   "cell_type": "code",
   "execution_count": 32,
   "id": "f312d194-452b-4e35-b114-66caa3114801",
   "metadata": {},
   "outputs": [
    {
     "data": {
      "text/plain": [
       "5"
      ]
     },
     "execution_count": 32,
     "metadata": {},
     "output_type": "execute_result"
    }
   ],
   "source": [
    "multiply(5)"
   ]
  },
  {
   "cell_type": "code",
   "execution_count": 43,
   "id": "882503ba-084b-47a1-8586-a687968b812d",
   "metadata": {},
   "outputs": [],
   "source": [
    "def display_info(name, age, *args):\n",
    "    print(f'Name: {name}')\n",
    "    print(f'Age: {age}')\n",
    "    print(f'Address: {address}')\n",
    "    print(f'Working: {working}')"
   ]
  },
  {
   "cell_type": "code",
   "execution_count": 52,
   "id": "63695013-23cf-41c6-af22-561115a1bcca",
   "metadata": {},
   "outputs": [],
   "source": [
    "def display_info(name, age, *args):\n",
    "    print(f'Name: {name}')\n",
    "    print(f'Age: {age}')\n",
    "\n",
    "    #address = args[0]\n",
    "    #working = args[1]\n",
    "    if len(args) > 0:\n",
    "        print(f'Address: {args[0]}')\n",
    "    if len(args) > 1:\n",
    "        print(f'Working: {args[1]}')\n",
    "    \n",
    "    "
   ]
  },
  {
   "cell_type": "code",
   "execution_count": 46,
   "id": "6da25288-de05-4bbd-93e3-44489b4d9e8f",
   "metadata": {},
   "outputs": [
    {
     "name": "stdout",
     "output_type": "stream",
     "text": [
      "Name: Ram\n",
      "Age: 21\n"
     ]
    }
   ],
   "source": [
    "display_info('Ram', 21)"
   ]
  },
  {
   "cell_type": "code",
   "execution_count": 51,
   "id": "d1ddcadb-6841-4d4e-b2d7-46bcb0935b09",
   "metadata": {},
   "outputs": [
    {
     "name": "stdout",
     "output_type": "stream",
     "text": [
      "Name: Hari\n",
      "Age: 20\n",
      "Address: Kathmandu\n",
      "Working: Not Yet\n"
     ]
    }
   ],
   "source": [
    "display_info(name, age, address, working)"
   ]
  },
  {
   "cell_type": "code",
   "execution_count": 41,
   "id": "52920ce9-5423-45dc-ac42-9f01353a81ff",
   "metadata": {},
   "outputs": [
    {
     "name": "stdout",
     "output_type": "stream",
     "text": [
      "Name: Hari\n",
      "Age: 20\n",
      "Address: Kathmandu\n",
      "Working: Not Yet\n"
     ]
    }
   ],
   "source": [
    "display_info(name, age, address, working)"
   ]
  },
  {
   "cell_type": "code",
   "execution_count": 44,
   "id": "5df0e035-f66d-4b71-a3a8-bd5d1e9e0e40",
   "metadata": {},
   "outputs": [
    {
     "name": "stdout",
     "output_type": "stream",
     "text": [
      "Name: Hari\n",
      "Age: 20\n",
      "Address: Kathmandu\n",
      "Working: Not Yet\n"
     ]
    }
   ],
   "source": [
    "display_info(name, age)"
   ]
  },
  {
   "cell_type": "code",
   "execution_count": 53,
   "id": "5bde0f72-db7f-428f-b53f-fb6724de73ba",
   "metadata": {},
   "outputs": [],
   "source": [
    "def my_info(*args, **kwargs):\n",
    "    pass"
   ]
  },
  {
   "cell_type": "code",
   "execution_count": 3,
   "id": "ea5a15bc-a1e7-4ca7-83ca-b3b231d1cd9f",
   "metadata": {},
   "outputs": [],
   "source": [
    "def function_with_both(*args, **kwargs):\n",
    "    for arg in args:\n",
    "        print(arg)\n",
    "    for key, value in kwargs.items():\n",
    "        print(f'{key} : {value}')"
   ]
  },
  {
   "cell_type": "code",
   "execution_count": 4,
   "id": "a3d0a9f8-5396-4fc5-98d8-0a06b655bd02",
   "metadata": {},
   "outputs": [
    {
     "name": "stdout",
     "output_type": "stream",
     "text": [
      "1\n",
      "2\n",
      "3\n",
      "a : 1\n",
      "b : 2\n",
      "c : 3\n"
     ]
    }
   ],
   "source": [
    "function_with_both(1, 2, 3, a=1, b=2, c=3)"
   ]
  },
  {
   "cell_type": "code",
   "execution_count": 14,
   "id": "5e126e49-93f9-4e01-85c2-1eefd586d693",
   "metadata": {},
   "outputs": [],
   "source": [
    "def my_info(*args, **kwargs):\n",
    "    print('Positional arguments:')\n",
    "    for arg in args:\n",
    "        print(arg)\n",
    "    print('Keyword arguments:')\n",
    "    for key, value in kwargs.items():\n",
    "        print(f'{key} : {value}')\n",
    "    print(kwargs)"
   ]
  },
  {
   "cell_type": "code",
   "execution_count": 22,
   "id": "1bdf6628-fc9f-4357-a7d0-087875a831a3",
   "metadata": {},
   "outputs": [],
   "source": [
    "def my_info(*args, **kwargs):\n",
    "    print('Positional arguments:')\n",
    "    for item in args:\n",
    "        print(item)\n",
    "    print('Keyword arguments:')\n",
    "    for item in kwargs:\n",
    "        print(f'{item} : {kwargs[item]}')\n",
    "    "
   ]
  },
  {
   "cell_type": "code",
   "execution_count": 24,
   "id": "7aae3690-0a6d-4acd-b691-964bb8bcfb97",
   "metadata": {},
   "outputs": [
    {
     "name": "stdout",
     "output_type": "stream",
     "text": [
      "Positional arguments:\n",
      "Kathmandu\n",
      "1\n",
      "2\n",
      "Keyword arguments:\n",
      "name : Ram\n",
      "age : 21\n"
     ]
    }
   ],
   "source": [
    "my_info('Kathmandu', 1, 2, name='Ram', age=21)"
   ]
  },
  {
   "cell_type": "code",
   "execution_count": null,
   "id": "f8a2f7c8-29f8-45f4-9b28-7f43df0c23a0",
   "metadata": {},
   "outputs": [],
   "source": []
  }
 ],
 "metadata": {
  "kernelspec": {
   "display_name": "Python 3 (ipykernel)",
   "language": "python",
   "name": "python3"
  },
  "language_info": {
   "codemirror_mode": {
    "name": "ipython",
    "version": 3
   },
   "file_extension": ".py",
   "mimetype": "text/x-python",
   "name": "python",
   "nbconvert_exporter": "python",
   "pygments_lexer": "ipython3",
   "version": "3.11.7"
  }
 },
 "nbformat": 4,
 "nbformat_minor": 5
}
