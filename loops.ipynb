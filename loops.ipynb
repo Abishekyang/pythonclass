{
 "cells": [
  {
   "cell_type": "markdown",
   "id": "7334bf53-a1fe-474e-8294-3c9f1977175a",
   "metadata": {},
   "source": [
    "## Loops in python\n",
    "1. While\n",
    "2. for"
   ]
  },
  {
   "cell_type": "markdown",
   "id": "4aa7055f-57dc-4eeb-ad19-62d90dfd3e2c",
   "metadata": {},
   "source": [
    "## While loop\n",
    "while condition:\n",
    "    body"
   ]
  },
  {
   "cell_type": "code",
   "execution_count": 3,
   "id": "8d676974-3156-494c-a6d4-ad21e31215b7",
   "metadata": {},
   "outputs": [
    {
     "name": "stdout",
     "output_type": "stream",
     "text": [
      "0\n",
      "1\n",
      "2\n",
      "3\n",
      "4\n"
     ]
    }
   ],
   "source": [
    "i = 0\n",
    "\n",
    "while i < 5:\n",
    "    print(i)\n",
    "    i += 1"
   ]
  },
  {
   "cell_type": "markdown",
   "id": "9b08c337-3612-40fc-bf34-97ef0fb18bad",
   "metadata": {},
   "source": [
    "## For loop\n",
    "\n",
    "'''\n",
    "for iterations\n",
    "body\n",
    "'''"
   ]
  },
  {
   "cell_type": "code",
   "execution_count": 4,
   "id": "2397f511-92a8-4887-95d2-821ac5d809ae",
   "metadata": {},
   "outputs": [
    {
     "name": "stdout",
     "output_type": "stream",
     "text": [
      "0\n",
      "1\n",
      "2\n",
      "3\n",
      "4\n",
      "5\n",
      "6\n",
      "7\n",
      "8\n",
      "9\n"
     ]
    }
   ],
   "source": [
    "for i in range(10):\n",
    "    print(i)"
   ]
  },
  {
   "cell_type": "code",
   "execution_count": 5,
   "id": "ebc31df2-0d4f-4ffe-a3a2-f4a1ad4ec25b",
   "metadata": {},
   "outputs": [
    {
     "name": "stdout",
     "output_type": "stream",
     "text": [
      "Ram\n",
      "shyam\n",
      "Hari\n"
     ]
    }
   ],
   "source": [
    "for i in ['Ram', 'shyam', 'Hari']:\n",
    "    print(i)\n"
   ]
  },
  {
   "cell_type": "code",
   "execution_count": 6,
   "id": "b769a7d8-3edc-42da-af04-925921cacfb7",
   "metadata": {},
   "outputs": [],
   "source": [
    "# break and continue\n"
   ]
  },
  {
   "cell_type": "code",
   "execution_count": 12,
   "id": "f4c21d52-d240-4f2a-900e-78788827cf23",
   "metadata": {},
   "outputs": [
    {
     "name": "stdout",
     "output_type": "stream",
     "text": [
      "1\n",
      "2\n",
      "3\n",
      "4\n",
      "6\n",
      "7\n",
      "8\n",
      "9\n",
      "10\n"
     ]
    }
   ],
   "source": [
    "num = 0\n",
    "\n",
    "while num < 10:\n",
    "    num += 1\n",
    "    if num == 5:\n",
    "       \n",
    "        continue\n",
    "    #num += 1\n",
    "    print(num)"
   ]
  },
  {
   "cell_type": "code",
   "execution_count": 13,
   "id": "0cb96345-10dd-4e25-b4a5-b9dc627a11d2",
   "metadata": {},
   "outputs": [
    {
     "name": "stdout",
     "output_type": "stream",
     "text": [
      "1\n",
      "2\n",
      "3\n",
      "4\n"
     ]
    }
   ],
   "source": [
    "num = 0\n",
    "\n",
    "while num < 10:\n",
    "    num += 1\n",
    "    if num == 5:\n",
    "       \n",
    "        break\n",
    "    #num += 1\n",
    "    print(num)"
   ]
  },
  {
   "cell_type": "code",
   "execution_count": 15,
   "id": "105d10d3-c0de-411e-aecf-5fb55d6fb294",
   "metadata": {},
   "outputs": [
    {
     "name": "stdout",
     "output_type": "stream",
     "text": [
      "10\n",
      "9\n",
      "8\n",
      "7\n",
      "6\n",
      "5\n",
      "4\n",
      "3\n",
      "2\n",
      "1\n",
      "0\n"
     ]
    }
   ],
   "source": [
    "n = 10\n",
    "\n",
    "while True:\n",
    "    print(n)\n",
    "    n -= 1\n",
    "    if (n < 0):\n",
    "        break"
   ]
  },
  {
   "cell_type": "code",
   "execution_count": 32,
   "id": "8b76386b-5c3e-4ef9-af0f-4b108b2b6d7b",
   "metadata": {},
   "outputs": [
    {
     "name": "stdout",
     "output_type": "stream",
     "text": [
      " 1 * 1 = 1\n",
      " 1 * 2 = 2\n",
      " 1 * 3 = 3\n",
      " 1 * 4 = 4\n",
      " 1 * 5 = 5\n",
      " 2 * 1 = 2\n",
      " 2 * 2 = 4\n",
      " 2 * 3 = 6\n",
      " 2 * 4 = 8\n",
      " 2 * 5 = 10\n",
      " 3 * 1 = 3\n",
      " 3 * 2 = 6\n",
      " 3 * 3 = 9\n",
      " 3 * 4 = 12\n",
      " 3 * 5 = 15\n",
      " 4 * 1 = 4\n",
      " 4 * 2 = 8\n",
      " 4 * 3 = 12\n",
      " 4 * 4 = 16\n",
      " 4 * 5 = 20\n",
      " 5 * 1 = 5\n",
      " 5 * 2 = 10\n",
      " 5 * 3 = 15\n",
      " 5 * 4 = 20\n",
      " 5 * 5 = 25\n"
     ]
    }
   ],
   "source": [
    "# Nested loop\n",
    "\n",
    "for i in range(1, 6):\n",
    "    for j in range(1, 6):\n",
    "        print(f' {i} * {j} = {i * j}')"
   ]
  },
  {
   "cell_type": "code",
   "execution_count": 32,
   "id": "ef3e0601-7f59-4454-bffa-29eb52b409d1",
   "metadata": {},
   "outputs": [
    {
     "name": "stdout",
     "output_type": "stream",
     "text": [
      "2\n",
      "4\n",
      "6\n",
      "8\n",
      "10\n",
      "12\n",
      "14\n",
      "16\n",
      "18\n",
      "20\n",
      "22\n",
      "24\n",
      "26\n",
      "28\n",
      "30\n",
      "32\n",
      "34\n",
      "36\n",
      "38\n",
      "40\n",
      "42\n",
      "44\n",
      "46\n",
      "48\n",
      "50\n",
      "52\n",
      "54\n",
      "56\n",
      "58\n",
      "60\n",
      "62\n",
      "64\n",
      "66\n",
      "68\n",
      "70\n",
      "72\n",
      "74\n",
      "76\n",
      "78\n",
      "80\n",
      "82\n",
      "84\n",
      "86\n",
      "88\n",
      "90\n",
      "92\n",
      "94\n",
      "96\n",
      "98\n"
     ]
    }
   ],
   "source": [
    "# Q.WAP to display Even numbers from 1 to 99 in while and for l\n",
    "num = 2\n",
    "\n",
    "while num <=  99:\n",
    "    print(num)\n",
    "    num += 2\n",
    "\n",
    "    \n",
    "    \n",
    "    "
   ]
  },
  {
   "cell_type": "code",
   "execution_count": null,
   "id": "29c65985-8cfb-43cc-8e9d-c7991ae17660",
   "metadata": {},
   "outputs": [],
   "source": []
  },
  {
   "cell_type": "code",
   "execution_count": 1,
   "id": "f84cb2ab-327b-42d9-9a5d-25e8fe3a8393",
   "metadata": {},
   "outputs": [
    {
     "name": "stdout",
     "output_type": "stream",
     "text": [
      "2\n",
      "4\n",
      "6\n",
      "8\n",
      "10\n",
      "12\n",
      "14\n",
      "16\n",
      "18\n",
      "20\n",
      "22\n",
      "24\n",
      "26\n",
      "28\n",
      "30\n",
      "32\n",
      "34\n",
      "36\n",
      "38\n",
      "40\n",
      "42\n",
      "44\n",
      "46\n",
      "48\n",
      "50\n",
      "52\n",
      "54\n",
      "56\n",
      "58\n",
      "60\n",
      "62\n",
      "64\n",
      "66\n",
      "68\n",
      "70\n",
      "72\n",
      "74\n",
      "76\n",
      "78\n",
      "80\n",
      "82\n",
      "84\n",
      "86\n",
      "88\n",
      "90\n",
      "92\n",
      "94\n",
      "96\n",
      "98\n",
      "100\n"
     ]
    }
   ],
   "source": [
    "num = 0\n",
    "\n",
    "for num in range(0, 99, 2):\n",
    "    num += 2\n",
    "    print(num)\n",
    "    \n"
   ]
  },
  {
   "cell_type": "code",
   "execution_count": 18,
   "id": "b55e1fb4-0dbe-4442-9599-9824c0ff41b4",
   "metadata": {},
   "outputs": [
    {
     "name": "stdout",
     "output_type": "stream",
     "text": [
      " An even number 2\n",
      " An even number 4\n",
      " An even number 6\n",
      " An even number 8\n",
      " An even number 10\n",
      " An even number 12\n",
      " An even number 14\n",
      " An even number 16\n",
      " An even number 18\n",
      " An even number 20\n",
      " An even number 22\n",
      " An even number 24\n",
      " An even number 26\n",
      " An even number 28\n",
      " An even number 30\n",
      " An even number 32\n",
      " An even number 34\n",
      " An even number 36\n",
      " An even number 38\n",
      " An even number 40\n",
      " An even number 42\n",
      " An even number 44\n",
      " An even number 46\n",
      " An even number 48\n",
      " An even number 50\n",
      " An even number 52\n",
      " An even number 54\n",
      " An even number 56\n",
      " An even number 58\n",
      " An even number 60\n",
      " An even number 62\n",
      " An even number 64\n",
      " An even number 66\n",
      " An even number 68\n",
      " An even number 70\n",
      " An even number 72\n",
      " An even number 74\n",
      " An even number 76\n",
      " An even number 78\n",
      " An even number 80\n",
      " An even number 82\n",
      " An even number 84\n",
      " An even number 86\n",
      " An even number 88\n",
      " An even number 90\n",
      " An even number 92\n",
      " An even number 94\n",
      " An even number 96\n",
      " An even number 98\n"
     ]
    }
   ],
   "source": [
    "for num in range(1, 99):\n",
    "    if num % 2 == 0:\n",
    "        print(f' An even number {num}')"
   ]
  },
  {
   "cell_type": "code",
   "execution_count": 38,
   "id": "f608fd94-bb58-41ea-b4ba-b5995f00f88f",
   "metadata": {},
   "outputs": [
    {
     "ename": "TypeError",
     "evalue": "unsupported operand type(s) for +=: 'builtin_function_or_method' and 'int'",
     "output_type": "error",
     "traceback": [
      "\u001b[1;31m---------------------------------------------------------------------------\u001b[0m",
      "\u001b[1;31mTypeError\u001b[0m                                 Traceback (most recent call last)",
      "Cell \u001b[1;32mIn[38], line 3\u001b[0m\n\u001b[0;32m      1\u001b[0m \u001b[38;5;66;03m# Q. WAP that takes number from user as input, add them and show sum if sum > 100\u001b[39;00m\n\u001b[0;32m      2\u001b[0m num \u001b[38;5;241m=\u001b[39m \u001b[38;5;241m0\u001b[39m\n\u001b[1;32m----> 3\u001b[0m \u001b[38;5;28msum\u001b[39m \u001b[38;5;241m+\u001b[39m\u001b[38;5;241m=\u001b[39m \u001b[38;5;241m100\u001b[39m\n\u001b[0;32m      4\u001b[0m \u001b[38;5;28;01mwhile\u001b[39;00m \u001b[38;5;28msum\u001b[39m \u001b[38;5;241m>\u001b[39m \u001b[38;5;241m100\u001b[39m:\n\u001b[0;32m      5\u001b[0m     num \u001b[38;5;241m=\u001b[39m \u001b[38;5;28mint\u001b[39m(\u001b[38;5;28minput\u001b[39m(\u001b[38;5;124m'\u001b[39m\u001b[38;5;124mContinue to enter a number: \u001b[39m\u001b[38;5;124m'\u001b[39m))\n",
      "\u001b[1;31mTypeError\u001b[0m: unsupported operand type(s) for +=: 'builtin_function_or_method' and 'int'"
     ]
    }
   ],
   "source": [
    "# Q. WAP that takes number from user as input, add them and show sum if sum > 100\n",
    "num = 0\n",
    "sum += 100\n",
    "while sum > 100:\n",
    "    num = int(input('Continue to enter a number: '))\n",
    "    \n",
    "                  "
   ]
  },
  {
   "cell_type": "code",
   "execution_count": 26,
   "id": "6e84d435-0fcc-4c3f-a730-317c29ed4ab3",
   "metadata": {},
   "outputs": [
    {
     "ename": "SyntaxError",
     "evalue": "incomplete input (3312070050.py, line 13)",
     "output_type": "error",
     "traceback": [
      "\u001b[1;36m  Cell \u001b[1;32mIn[26], line 13\u001b[1;36m\u001b[0m\n\u001b[1;33m    \u001b[0m\n\u001b[1;37m    ^\u001b[0m\n\u001b[1;31mSyntaxError\u001b[0m\u001b[1;31m:\u001b[0m incomplete input\n"
     ]
    }
   ],
   "source": [
    "try:\n",
    "    a = int(input('Enter a number:'))\n",
    "    b = int(input('Enter a number:'))\n",
    "    c = int(input('Enter a number:'))\n",
    "    d = int(input('Enter a number:'))\n",
    "    e = int(input('Enter a number:'))\n",
    "    \n",
    "    sum = a + b + c + d + e\n",
    "\n",
    "\n",
    "\n",
    "            \n",
    "\n"
   ]
  },
  {
   "cell_type": "code",
   "execution_count": 13,
   "id": "d4856468-ab2a-4861-ba78-c037d034f947",
   "metadata": {},
   "outputs": [
    {
     "name": "stdin",
     "output_type": "stream",
     "text": [
      "Enter a number:  5\n",
      "Enter a number:  6\n",
      "Enter a number:  7\n",
      "Enter a number:  8\n",
      "Enter a number:  five\n"
     ]
    },
    {
     "name": "stdout",
     "output_type": "stream",
     "text": [
      "Hint: Enter a valid number\n",
      "Execution complete\n"
     ]
    }
   ],
   "source": [
    "try:\n",
    "    \n",
    "    a = int(input('Enter a number: '))\n",
    "    b = int(input('Enter a number: '))\n",
    "    c = int(input('Enter a number: '))\n",
    "    d = int(input('Enter a number: '))\n",
    "    e = int(input('Enter a number: '))\n",
    "\n",
    "    sum = a + b + c + d + e\n",
    "\n",
    "    if sum > 100:\n",
    "        print('The sum is greater than 100.')\n",
    "    elif sum < 100:\n",
    "        print('The sum is smaller than 100.')\n",
    "    else:\n",
    "        print('The sum is 100.')\n",
    "except ValueError:\n",
    "    print('Hint: Enter a valid number')\n",
    "else:\n",
    "    print('Sum is', sum)\n",
    "finally:\n",
    "    print('Execution complete')\n",
    "\n",
    "    \n",
    "          "
   ]
  },
  {
   "cell_type": "code",
   "execution_count": 35,
   "id": "2fcf6a15-a991-43f3-9b95-4c6d99e0ad89",
   "metadata": {},
   "outputs": [
    {
     "name": "stdin",
     "output_type": "stream",
     "text": [
      "Enter a number:  6\n",
      "Enter a number:  7\n",
      "Enter a number:  8\n",
      "Enter a number:  9\n",
      "Enter a number:  90\n"
     ]
    },
    {
     "name": "stdout",
     "output_type": "stream",
     "text": [
      "The sum is greater than 100.\n",
      "Sum is 120\n",
      "Execution complete\n"
     ]
    }
   ],
   "source": [
    "try:\n",
    "    \n",
    "    a = int(input('Enter a number: '))\n",
    "    b = int(input('Enter a number: '))\n",
    "    c = int(input('Enter a number: '))\n",
    "    d = int(input('Enter a number: '))\n",
    "    e = int(input('Enter a number: '))\n",
    "\n",
    "    sum = a + b + c + d + e\n",
    "\n",
    "    if sum > 100:\n",
    "        print('The sum is greater than 100.')\n",
    "    elif sum < 100:\n",
    "        \n",
    "        print('The sum is smaller than 100.')\n",
    "    else:\n",
    "        print('The sum is 100.')\n",
    "except ValueError:\n",
    "    print('Hint: Enter a valid number')\n",
    "else:\n",
    "    print('Sum is', sum)\n",
    "finally:\n",
    "    print('Execution complete')\n",
    "\n",
    "    \n",
    "          "
   ]
  },
  {
   "cell_type": "code",
   "execution_count": 38,
   "id": "8f05ef47-9c38-4a3b-8455-a4edc8d4108f",
   "metadata": {},
   "outputs": [
    {
     "name": "stdin",
     "output_type": "stream",
     "text": [
      "Enter a number:  5\n",
      "Enter a number:  6\n",
      "Enter a number:  7\n",
      "Enter a number:  8\n",
      "Enter a number:  9\n"
     ]
    },
    {
     "name": "stdout",
     "output_type": "stream",
     "text": [
      "The sum is smaller than 100.\n",
      "Sum is 35\n",
      "Execution complete\n"
     ]
    }
   ],
   "source": [
    "try:\n",
    "    \n",
    "    a = int(input('Enter a number: '))\n",
    "    b = int(input('Enter a number: '))\n",
    "    c = int(input('Enter a number: '))\n",
    "    d = int(input('Enter a number: '))\n",
    "    e = int(input('Enter a number: '))\n",
    "\n",
    "    sum = a + b + c + d + e\n",
    "\n",
    "    if sum > 100:\n",
    "        print('The sum is greater than 100.')\n",
    "    elif sum < 100:\n",
    "        \n",
    "        print('The sum is smaller than 100.')\n",
    "    else:\n",
    "        print('The sum is 100.')\n",
    "except ValueError:\n",
    "    print('Hint: Enter a valid number')\n",
    "except:\n",
    "    print('Hint: Sum cannot be less than 100 for it to display on screen.')\n",
    "else:\n",
    "    print('Sum is', sum)\n",
    "finally:\n",
    "    print('Execution complete')\n",
    "\n",
    "    \n",
    "          "
   ]
  },
  {
   "cell_type": "code",
   "execution_count": null,
   "id": "bab5f8bc-1dab-40a3-abc2-6004e977c115",
   "metadata": {},
   "outputs": [],
   "source": []
  },
  {
   "cell_type": "code",
   "execution_count": 37,
   "id": "981b1e20-d6d9-4ad4-ac7c-a475f3f58118",
   "metadata": {},
   "outputs": [
    {
     "name": "stdout",
     "output_type": "stream",
     "text": [
      "Found an even number 0\n",
      "Found an odd number 1\n",
      "Found an even number 2\n",
      "Found an odd number 3\n",
      "Found an even number 4\n",
      "Found an odd number 5\n",
      "Found an even number 6\n",
      "Found an odd number 7\n",
      "Found an even number 8\n",
      "Found an odd number 9\n",
      "Found an even number 10\n",
      "Found an odd number 11\n",
      "Found an even number 12\n",
      "Found an odd number 13\n",
      "Found an even number 14\n",
      "Found an odd number 15\n",
      "Found an even number 16\n",
      "Found an odd number 17\n",
      "Found an even number 18\n",
      "Found an odd number 19\n",
      "Found an even number 20\n",
      "Found an odd number 21\n",
      "Found an even number 22\n",
      "Found an odd number 23\n",
      "Found an even number 24\n",
      "Found an odd number 25\n",
      "Found an even number 26\n",
      "Found an odd number 27\n",
      "Found an even number 28\n",
      "Found an odd number 29\n",
      "Found an even number 30\n",
      "Found an odd number 31\n",
      "Found an even number 32\n",
      "Found an odd number 33\n",
      "Found an even number 34\n",
      "Found an odd number 35\n",
      "Found an even number 36\n",
      "Found an odd number 37\n",
      "Found an even number 38\n",
      "Found an odd number 39\n",
      "Found an even number 40\n",
      "Found an odd number 41\n",
      "Found an even number 42\n",
      "Found an odd number 43\n",
      "Found an even number 44\n",
      "Found an odd number 45\n",
      "Found an even number 46\n",
      "Found an odd number 47\n",
      "Found an even number 48\n",
      "Found an odd number 49\n",
      "Found an even number 50\n",
      "Found an odd number 51\n",
      "Found an even number 52\n",
      "Found an odd number 53\n",
      "Found an even number 54\n",
      "Found an odd number 55\n",
      "Found an even number 56\n",
      "Found an odd number 57\n",
      "Found an even number 58\n",
      "Found an odd number 59\n",
      "Found an even number 60\n",
      "Found an odd number 61\n",
      "Found an even number 62\n",
      "Found an odd number 63\n",
      "Found an even number 64\n",
      "Found an odd number 65\n",
      "Found an even number 66\n",
      "Found an odd number 67\n",
      "Found an even number 68\n",
      "Found an odd number 69\n",
      "Found an even number 70\n",
      "Found an odd number 71\n",
      "Found an even number 72\n",
      "Found an odd number 73\n",
      "Found an even number 74\n",
      "Found an odd number 75\n",
      "Found an even number 76\n",
      "Found an odd number 77\n",
      "Found an even number 78\n",
      "Found an odd number 79\n",
      "Found an even number 80\n",
      "Found an odd number 81\n",
      "Found an even number 82\n",
      "Found an odd number 83\n",
      "Found an even number 84\n",
      "Found an odd number 85\n",
      "Found an even number 86\n",
      "Found an odd number 87\n",
      "Found an even number 88\n",
      "Found an odd number 89\n",
      "Found an even number 90\n",
      "Found an odd number 91\n",
      "Found an even number 92\n",
      "Found an odd number 93\n",
      "Found an even number 94\n",
      "Found an odd number 95\n",
      "Found an even number 96\n",
      "Found an odd number 97\n",
      "Found an even number 98\n",
      "Found an odd number 99\n"
     ]
    }
   ],
   "source": [
    "for num in range(0, 100):\n",
    "    if num % 2 == 0:\n",
    "        print(f\"Found an even number {num}\")\n",
    "        #continue\n",
    "    elif num % 2 == 1:\n",
    "        print(f\"Found an odd number {num}\")\n",
    "    else:\n",
    "        print('The number is 0')\n"
   ]
  },
  {
   "cell_type": "code",
   "execution_count": 5,
   "id": "c1cccae6-f185-4fbf-ab8b-f28cef241c5e",
   "metadata": {},
   "outputs": [
    {
     "ename": "SyntaxError",
     "evalue": "incomplete input (4253130662.py, line 14)",
     "output_type": "error",
     "traceback": [
      "\u001b[1;36m  Cell \u001b[1;32mIn[5], line 14\u001b[1;36m\u001b[0m\n\u001b[1;33m    \u001b[0m\n\u001b[1;37m    ^\u001b[0m\n\u001b[1;31mSyntaxError\u001b[0m\u001b[1;31m:\u001b[0m incomplete input\n"
     ]
    }
   ],
   "source": [
    "try:\n",
    "    while True:\n",
    "        a = int(input('Enter a number: '))\n",
    "        print\n",
    "            \n",
    "    \n",
    "    \n",
    "            #if a > 100:\n",
    "                #print('The number is greater than 100.')\n",
    "            #elif a < 100:\n",
    "                #b = int(input('Enter a number: '))\n",
    "                #sum = a + b\n",
    "        #print\n",
    "    \n",
    "        "
   ]
  },
  {
   "cell_type": "code",
   "execution_count": 8,
   "id": "5644e8e6-de67-4fc9-9589-0b1801054674",
   "metadata": {},
   "outputs": [
    {
     "name": "stdin",
     "output_type": "stream",
     "text": [
      "Enter a number:  57\n",
      "Enter a number:  90\n"
     ]
    },
    {
     "name": "stdout",
     "output_type": "stream",
     "text": [
      "The sum is 147\n"
     ]
    }
   ],
   "source": [
    "sum = 0\n",
    "\n",
    "while True:\n",
    "    try:\n",
    "        num = int(input('Enter a number: '))\n",
    "        sum += num\n",
    "        if sum > 100:\n",
    "        \n",
    "            print(f'The sum is {sum}')\n",
    "            break\n",
    "    except:\n",
    "        print('Enter valid number')\n",
    "        \n",
    "            "
   ]
  },
  {
   "cell_type": "code",
   "execution_count": 9,
   "id": "2a6b5203-97de-4511-b5f7-432db6f20c36",
   "metadata": {},
   "outputs": [
    {
     "name": "stdin",
     "output_type": "stream",
     "text": [
      "Enter a number:  56\n"
     ]
    },
    {
     "name": "stdout",
     "output_type": "stream",
     "text": [
      "sum before 0\n",
      "sum after 56\n"
     ]
    },
    {
     "name": "stdin",
     "output_type": "stream",
     "text": [
      "Enter a number:  55\n"
     ]
    },
    {
     "name": "stdout",
     "output_type": "stream",
     "text": [
      "sum before 56\n",
      "sum after 111\n",
      "The sum is 111\n"
     ]
    }
   ],
   "source": [
    "sum = 0\n",
    "\n",
    "while True:\n",
    "    try:\n",
    "        num = int(input('Enter a number: '))\n",
    "        print('sum before', sum)\n",
    "        sum += num\n",
    "        print('sum after', sum)\n",
    "        if sum > 100:\n",
    "        \n",
    "            print(f'The sum is {sum}')\n",
    "            break\n",
    "    except:\n",
    "        print('Enter valid number')\n",
    "        \n",
    "            "
   ]
  },
  {
   "cell_type": "code",
   "execution_count": 16,
   "id": "537604b9-d13b-445e-bb0c-966b1434073a",
   "metadata": {},
   "outputs": [
    {
     "data": {
      "text/plain": [
       "'\\nThere is a random number say flag\\nTake a number input from user (guess)\\nif guess is equal to flag\\n    display your answer is correct and stop program\\nif guess is less thn flag\\n    display guess higher and continue\\nif guess is higher than flag\\n    display guess lower and continue\\n'"
      ]
     },
     "execution_count": 16,
     "metadata": {},
     "output_type": "execute_result"
    }
   ],
   "source": [
    "## Q. Make a guessing game\n",
    "'''\n",
    "There is a random number say flag\n",
    "Take a number input from user (guess)\n",
    "if guess is equal to flag\n",
    "    display your answer is correct and stop program\n",
    "if guess is less thn flag\n",
    "    display guess higher and continue\n",
    "if guess is higher than flag\n",
    "    display guess lower and continue\n",
    "'''"
   ]
  },
  {
   "cell_type": "code",
   "execution_count": 1,
   "id": "1692a4c8-0191-41ca-a0a2-08ffea30cb18",
   "metadata": {},
   "outputs": [
    {
     "name": "stdin",
     "output_type": "stream",
     "text": [
      "Enter a number:  5\n"
     ]
    },
    {
     "name": "stdout",
     "output_type": "stream",
     "text": [
      "Your guess number :5 is smaller than flag number\n"
     ]
    },
    {
     "name": "stdin",
     "output_type": "stream",
     "text": [
      "Enter a number:  56\n"
     ]
    },
    {
     "name": "stdout",
     "output_type": "stream",
     "text": [
      "Your guess number :56 is smaller than flag number\n"
     ]
    },
    {
     "name": "stdin",
     "output_type": "stream",
     "text": [
      "Enter a number:  78\n"
     ]
    },
    {
     "name": "stdout",
     "output_type": "stream",
     "text": [
      "Your guess number : 78 is larger than flag number\n"
     ]
    },
    {
     "name": "stdin",
     "output_type": "stream",
     "text": [
      "Enter a number:  7/\n"
     ]
    },
    {
     "name": "stdout",
     "output_type": "stream",
     "text": [
      "Hint: Enter a valid number\n"
     ]
    },
    {
     "name": "stdin",
     "output_type": "stream",
     "text": [
      "Enter a number:  70\n"
     ]
    },
    {
     "name": "stdout",
     "output_type": "stream",
     "text": [
      "Your guess number : 70 is larger than flag number\n"
     ]
    },
    {
     "name": "stdin",
     "output_type": "stream",
     "text": [
      "Enter a number:  65\n"
     ]
    },
    {
     "name": "stdout",
     "output_type": "stream",
     "text": [
      "Your guess number : 65 is larger than flag number\n"
     ]
    },
    {
     "name": "stdin",
     "output_type": "stream",
     "text": [
      "Enter a number:  60\n"
     ]
    },
    {
     "name": "stdout",
     "output_type": "stream",
     "text": [
      "Your guess number : 60 is larger than flag number\n"
     ]
    },
    {
     "name": "stdin",
     "output_type": "stream",
     "text": [
      "Enter a number:  58\n"
     ]
    },
    {
     "name": "stdout",
     "output_type": "stream",
     "text": [
      "Your guess number :58 is smaller than flag number\n"
     ]
    },
    {
     "name": "stdin",
     "output_type": "stream",
     "text": [
      "Enter a number:  59\n"
     ]
    },
    {
     "name": "stdout",
     "output_type": "stream",
     "text": [
      "Your guess number : 59 is equal to flag number\n",
      "You won the game\n"
     ]
    }
   ],
   "source": [
    "import random\n",
    "\n",
    "flag = random.randint(1, 100)\n",
    "\n",
    "while True:\n",
    "    try:\n",
    "        guess = int(input('Enter a number: '))\n",
    "        if guess > flag:\n",
    "            print(f'Your guess number : {guess} is larger than flag number')\n",
    "            #continue\n",
    "        elif guess < flag:\n",
    "            print(f'Your guess number :{guess} is smaller than flag number')\n",
    "        else:\n",
    "            print(f'Your guess number : {guess} is equal to flag number')\n",
    "            print('You won the game')\n",
    "            break\n",
    "    except ValueError:\n",
    "        print('Hint: Enter a valid number')\n",
    "    #finally:\n",
    "        #print('The game is still on')\n",
    "        "
   ]
  },
  {
   "cell_type": "code",
   "execution_count": 3,
   "id": "b969c386-990b-40a7-8221-5c61b331f042",
   "metadata": {},
   "outputs": [
    {
     "name": "stdin",
     "output_type": "stream",
     "text": [
      "Enter a number:  7\n"
     ]
    },
    {
     "name": "stdout",
     "output_type": "stream",
     "text": [
      "Your guess number : 7 is larger than flag number\n"
     ]
    },
    {
     "name": "stdin",
     "output_type": "stream",
     "text": [
      "Enter a number:  four\n"
     ]
    },
    {
     "name": "stdout",
     "output_type": "stream",
     "text": [
      "Hint: Enter a valid number\n"
     ]
    },
    {
     "ename": "KeyboardInterrupt",
     "evalue": "Interrupted by user",
     "output_type": "error",
     "traceback": [
      "\u001b[1;31m---------------------------------------------------------------------------\u001b[0m",
      "\u001b[1;31mKeyboardInterrupt\u001b[0m                         Traceback (most recent call last)",
      "Cell \u001b[1;32mIn[3], line 7\u001b[0m\n\u001b[0;32m      5\u001b[0m \u001b[38;5;28;01mwhile\u001b[39;00m \u001b[38;5;28;01mTrue\u001b[39;00m:\n\u001b[0;32m      6\u001b[0m     \u001b[38;5;28;01mtry\u001b[39;00m:\n\u001b[1;32m----> 7\u001b[0m         guess \u001b[38;5;241m=\u001b[39m \u001b[38;5;28mint\u001b[39m(\u001b[38;5;28minput\u001b[39m(\u001b[38;5;124m'\u001b[39m\u001b[38;5;124mEnter a number: \u001b[39m\u001b[38;5;124m'\u001b[39m))\n\u001b[0;32m      8\u001b[0m         \u001b[38;5;28;01mif\u001b[39;00m guess \u001b[38;5;241m>\u001b[39m flag:\n\u001b[0;32m      9\u001b[0m             \u001b[38;5;28mprint\u001b[39m(\u001b[38;5;124mf\u001b[39m\u001b[38;5;124m'\u001b[39m\u001b[38;5;124mYour guess number : \u001b[39m\u001b[38;5;132;01m{\u001b[39;00mguess\u001b[38;5;132;01m}\u001b[39;00m\u001b[38;5;124m is larger than flag number\u001b[39m\u001b[38;5;124m'\u001b[39m)\n",
      "File \u001b[1;32m~\\anaconda3\\Lib\\site-packages\\ipykernel\\kernelbase.py:1262\u001b[0m, in \u001b[0;36mKernel.raw_input\u001b[1;34m(self, prompt)\u001b[0m\n\u001b[0;32m   1260\u001b[0m     msg \u001b[38;5;241m=\u001b[39m \u001b[38;5;124m\"\u001b[39m\u001b[38;5;124mraw_input was called, but this frontend does not support input requests.\u001b[39m\u001b[38;5;124m\"\u001b[39m\n\u001b[0;32m   1261\u001b[0m     \u001b[38;5;28;01mraise\u001b[39;00m StdinNotImplementedError(msg)\n\u001b[1;32m-> 1262\u001b[0m \u001b[38;5;28;01mreturn\u001b[39;00m \u001b[38;5;28mself\u001b[39m\u001b[38;5;241m.\u001b[39m_input_request(\n\u001b[0;32m   1263\u001b[0m     \u001b[38;5;28mstr\u001b[39m(prompt),\n\u001b[0;32m   1264\u001b[0m     \u001b[38;5;28mself\u001b[39m\u001b[38;5;241m.\u001b[39m_parent_ident[\u001b[38;5;124m\"\u001b[39m\u001b[38;5;124mshell\u001b[39m\u001b[38;5;124m\"\u001b[39m],\n\u001b[0;32m   1265\u001b[0m     \u001b[38;5;28mself\u001b[39m\u001b[38;5;241m.\u001b[39mget_parent(\u001b[38;5;124m\"\u001b[39m\u001b[38;5;124mshell\u001b[39m\u001b[38;5;124m\"\u001b[39m),\n\u001b[0;32m   1266\u001b[0m     password\u001b[38;5;241m=\u001b[39m\u001b[38;5;28;01mFalse\u001b[39;00m,\n\u001b[0;32m   1267\u001b[0m )\n",
      "File \u001b[1;32m~\\anaconda3\\Lib\\site-packages\\ipykernel\\kernelbase.py:1305\u001b[0m, in \u001b[0;36mKernel._input_request\u001b[1;34m(self, prompt, ident, parent, password)\u001b[0m\n\u001b[0;32m   1302\u001b[0m \u001b[38;5;28;01mexcept\u001b[39;00m \u001b[38;5;167;01mKeyboardInterrupt\u001b[39;00m:\n\u001b[0;32m   1303\u001b[0m     \u001b[38;5;66;03m# re-raise KeyboardInterrupt, to truncate traceback\u001b[39;00m\n\u001b[0;32m   1304\u001b[0m     msg \u001b[38;5;241m=\u001b[39m \u001b[38;5;124m\"\u001b[39m\u001b[38;5;124mInterrupted by user\u001b[39m\u001b[38;5;124m\"\u001b[39m\n\u001b[1;32m-> 1305\u001b[0m     \u001b[38;5;28;01mraise\u001b[39;00m \u001b[38;5;167;01mKeyboardInterrupt\u001b[39;00m(msg) \u001b[38;5;28;01mfrom\u001b[39;00m \u001b[38;5;28;01mNone\u001b[39;00m\n\u001b[0;32m   1306\u001b[0m \u001b[38;5;28;01mexcept\u001b[39;00m \u001b[38;5;167;01mException\u001b[39;00m:\n\u001b[0;32m   1307\u001b[0m     \u001b[38;5;28mself\u001b[39m\u001b[38;5;241m.\u001b[39mlog\u001b[38;5;241m.\u001b[39mwarning(\u001b[38;5;124m\"\u001b[39m\u001b[38;5;124mInvalid Message:\u001b[39m\u001b[38;5;124m\"\u001b[39m, exc_info\u001b[38;5;241m=\u001b[39m\u001b[38;5;28;01mTrue\u001b[39;00m)\n",
      "\u001b[1;31mKeyboardInterrupt\u001b[0m: Interrupted by user"
     ]
    },
    {
     "name": "stdin",
     "output_type": "stream",
     "text": [
      "Enter a number:  5\n"
     ]
    }
   ],
   "source": [
    "import random\n",
    "\n",
    "flag = random.randint(1, 100)\n",
    "\n",
    "while True:\n",
    "    try:\n",
    "        guess = int(input('Enter a number: '))\n",
    "        if guess > flag:\n",
    "            print(f'Your guess number : {guess} is larger than flag number')\n",
    "            #continue\n",
    "        elif guess < flag:\n",
    "            print(f'Your guess number :{guess} is smaller than flag number')\n",
    "        else:\n",
    "            print(f'Your guess number : {guess} is equal to flag number')\n",
    "            print('You won the game')\n",
    "            break\n",
    "    except ValueError:\n",
    "        print('Hint: Enter a valid number')\n",
    "    #finally:\n",
    "        #print('The game is still on')\n",
    "        "
   ]
  },
  {
   "cell_type": "code",
   "execution_count": 4,
   "id": "05d3b7fc-8e32-4485-9520-7cf2d8ea5b58",
   "metadata": {},
   "outputs": [
    {
     "data": {
      "text/plain": [
       "8"
      ]
     },
     "execution_count": 4,
     "metadata": {},
     "output_type": "execute_result"
    }
   ],
   "source": [
    "import random\n",
    "\n",
    "random.randint(1, 100)\n"
   ]
  },
  {
   "cell_type": "code",
   "execution_count": 15,
   "id": "617906f4-3b8f-40bc-b46b-514cfb5d7a3c",
   "metadata": {},
   "outputs": [
    {
     "data": {
      "text/plain": [
       "0.7489668720359323"
      ]
     },
     "execution_count": 15,
     "metadata": {},
     "output_type": "execute_result"
    }
   ],
   "source": [
    "random.random()\n"
   ]
  },
  {
   "cell_type": "code",
   "execution_count": null,
   "id": "52d9278c-f315-452d-8301-834b433cb182",
   "metadata": {},
   "outputs": [],
   "source": []
  }
 ],
 "metadata": {
  "kernelspec": {
   "display_name": "Python 3 (ipykernel)",
   "language": "python",
   "name": "python3"
  },
  "language_info": {
   "codemirror_mode": {
    "name": "ipython",
    "version": 3
   },
   "file_extension": ".py",
   "mimetype": "text/x-python",
   "name": "python",
   "nbconvert_exporter": "python",
   "pygments_lexer": "ipython3",
   "version": "3.11.7"
  }
 },
 "nbformat": 4,
 "nbformat_minor": 5
}
