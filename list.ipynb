{
 "cells": [
  {
   "cell_type": "markdown",
   "id": "8862c987-72c8-46a2-9d71-c81f725bbaeb",
   "metadata": {},
   "source": [
    "## List\n",
    "\n",
    "- also called dynamic array"
   ]
  },
  {
   "cell_type": "code",
   "execution_count": 4,
   "id": "e5e705c9-5e45-4a76-972b-36bda7be630e",
   "metadata": {},
   "outputs": [],
   "source": [
    "list1 = [11, 2, 8, 4, 5]"
   ]
  },
  {
   "cell_type": "code",
   "execution_count": 2,
   "id": "f04ae68d-7172-4fb4-ac6f-780418707520",
   "metadata": {},
   "outputs": [
    {
     "name": "stdout",
     "output_type": "stream",
     "text": [
      "1\n",
      "2\n",
      "3\n",
      "4\n",
      "5\n"
     ]
    }
   ],
   "source": [
    "for i in list1:\n",
    "    print(i)"
   ]
  },
  {
   "cell_type": "code",
   "execution_count": 3,
   "id": "5d44f96f-e9c4-47f7-aee8-59f4da08fa73",
   "metadata": {},
   "outputs": [
    {
     "data": {
      "text/plain": [
       "['__add__',\n",
       " '__class__',\n",
       " '__class_getitem__',\n",
       " '__contains__',\n",
       " '__delattr__',\n",
       " '__delitem__',\n",
       " '__dir__',\n",
       " '__doc__',\n",
       " '__eq__',\n",
       " '__format__',\n",
       " '__ge__',\n",
       " '__getattribute__',\n",
       " '__getitem__',\n",
       " '__getstate__',\n",
       " '__gt__',\n",
       " '__hash__',\n",
       " '__iadd__',\n",
       " '__imul__',\n",
       " '__init__',\n",
       " '__init_subclass__',\n",
       " '__iter__',\n",
       " '__le__',\n",
       " '__len__',\n",
       " '__lt__',\n",
       " '__mul__',\n",
       " '__ne__',\n",
       " '__new__',\n",
       " '__reduce__',\n",
       " '__reduce_ex__',\n",
       " '__repr__',\n",
       " '__reversed__',\n",
       " '__rmul__',\n",
       " '__setattr__',\n",
       " '__setitem__',\n",
       " '__sizeof__',\n",
       " '__str__',\n",
       " '__subclasshook__',\n",
       " 'append',\n",
       " 'clear',\n",
       " 'copy',\n",
       " 'count',\n",
       " 'extend',\n",
       " 'index',\n",
       " 'insert',\n",
       " 'pop',\n",
       " 'remove',\n",
       " 'reverse',\n",
       " 'sort']"
      ]
     },
     "execution_count": 3,
     "metadata": {},
     "output_type": "execute_result"
    }
   ],
   "source": [
    "dir(list1)"
   ]
  },
  {
   "cell_type": "code",
   "execution_count": 6,
   "id": "3c83ee75-7174-4eaa-9a72-c932e865312c",
   "metadata": {},
   "outputs": [
    {
     "data": {
      "text/plain": [
       "[2, 4, 5, 8, 11]"
      ]
     },
     "execution_count": 6,
     "metadata": {},
     "output_type": "execute_result"
    }
   ],
   "source": [
    "list1.sort()\n",
    "list1"
   ]
  },
  {
   "cell_type": "code",
   "execution_count": 7,
   "id": "63b8dd06-401d-456a-9f84-6a94cadfa692",
   "metadata": {},
   "outputs": [
    {
     "name": "stdout",
     "output_type": "stream",
     "text": [
      "[2, 4, 5, 8, 11]\n",
      "[2, 4, 5, 8, 11]\n"
     ]
    }
   ],
   "source": [
    "list1_cp = list1.copy()\n",
    "print(list1)\n",
    "print(list1_cp)"
   ]
  },
  {
   "cell_type": "code",
   "execution_count": 8,
   "id": "7a5c0bbc-2656-462a-abff-6fc548414f4d",
   "metadata": {},
   "outputs": [],
   "source": [
    "list1_cp.sort()"
   ]
  },
  {
   "cell_type": "code",
   "execution_count": 9,
   "id": "4c8dc094-1d92-486f-9e5c-46d5e9715efc",
   "metadata": {},
   "outputs": [
    {
     "data": {
      "text/plain": [
       "[2, 4, 5, 8, 11]"
      ]
     },
     "execution_count": 9,
     "metadata": {},
     "output_type": "execute_result"
    }
   ],
   "source": [
    "list1_cp"
   ]
  },
  {
   "cell_type": "code",
   "execution_count": 10,
   "id": "28fec0c5-d892-4314-8057-e3aab2749247",
   "metadata": {},
   "outputs": [
    {
     "data": {
      "text/plain": [
       "[11, 8, 5, 4, 2]"
      ]
     },
     "execution_count": 10,
     "metadata": {},
     "output_type": "execute_result"
    }
   ],
   "source": [
    "# Reverse\n",
    "list1_cp.reverse()\n",
    "list1_cp"
   ]
  },
  {
   "cell_type": "code",
   "execution_count": 13,
   "id": "de5f80cc-d6d3-42b0-930f-ba36cb403365",
   "metadata": {},
   "outputs": [
    {
     "data": {
      "text/plain": [
       "[2, 4, 5, 8, 11, 20, 20, 20]"
      ]
     },
     "execution_count": 13,
     "metadata": {},
     "output_type": "execute_result"
    }
   ],
   "source": [
    "# Append\n",
    "list1.append(20)\n",
    "list1"
   ]
  },
  {
   "cell_type": "code",
   "execution_count": 14,
   "id": "fa674298-0733-4705-8a81-62085815eae7",
   "metadata": {},
   "outputs": [],
   "source": [
    "list1.append('Hello')"
   ]
  },
  {
   "cell_type": "code",
   "execution_count": 15,
   "id": "9a7c6eda-4ffa-4b8f-93e9-133c5c39c6da",
   "metadata": {},
   "outputs": [
    {
     "data": {
      "text/plain": [
       "[2, 4, 5, 8, 11, 20, 20, 20, 'Hello']"
      ]
     },
     "execution_count": 15,
     "metadata": {},
     "output_type": "execute_result"
    }
   ],
   "source": [
    "list1"
   ]
  },
  {
   "cell_type": "code",
   "execution_count": 16,
   "id": "046b121d-719b-45a4-b9d6-90d4f7cf6369",
   "metadata": {},
   "outputs": [
    {
     "data": {
      "text/plain": [
       "[2, 4, 5, 8, 11, 20, 20, 20, 'Hello', [3, 4, 5]]"
      ]
     },
     "execution_count": 16,
     "metadata": {},
     "output_type": "execute_result"
    }
   ],
   "source": [
    "a = [3, 4, 5]\n",
    "list1.append(a)\n",
    "list1"
   ]
  },
  {
   "cell_type": "code",
   "execution_count": 17,
   "id": "ede6e63d-9b9c-4df9-a099-89f2d2ec2b04",
   "metadata": {},
   "outputs": [
    {
     "data": {
      "text/plain": [
       "[]"
      ]
     },
     "execution_count": 17,
     "metadata": {},
     "output_type": "execute_result"
    }
   ],
   "source": [
    "l = list()\n",
    "l"
   ]
  },
  {
   "cell_type": "code",
   "execution_count": 22,
   "id": "09c9a262-dacd-4c17-b951-bca481aaeb3c",
   "metadata": {},
   "outputs": [],
   "source": [
    "a = [1, 3, 4]\n",
    "b = ['a', 'b']"
   ]
  },
  {
   "cell_type": "code",
   "execution_count": 23,
   "id": "e1b378b6-df00-4bfc-a2a1-0dc6fd1584e8",
   "metadata": {},
   "outputs": [
    {
     "data": {
      "text/plain": [
       "[[1, 3, 4],\n",
       " ['a', 'b'],\n",
       " [1, 3, 4],\n",
       " ['a', 'b'],\n",
       " 1,\n",
       " 3,\n",
       " 4,\n",
       " 'a',\n",
       " 'b',\n",
       " [1, 3, 4],\n",
       " ['a', 'b']]"
      ]
     },
     "execution_count": 23,
     "metadata": {},
     "output_type": "execute_result"
    }
   ],
   "source": [
    "l.append(a)\n",
    "l.append(b)\n",
    "l"
   ]
  },
  {
   "cell_type": "code",
   "execution_count": 24,
   "id": "ee469425-005c-4469-871a-8cd6394379b1",
   "metadata": {},
   "outputs": [
    {
     "data": {
      "text/plain": [
       "[[1, 3, 4],\n",
       " ['a', 'b'],\n",
       " [1, 3, 4],\n",
       " ['a', 'b'],\n",
       " 1,\n",
       " 3,\n",
       " 4,\n",
       " 'a',\n",
       " 'b',\n",
       " [1, 3, 4],\n",
       " ['a', 'b'],\n",
       " 1,\n",
       " 3,\n",
       " 4,\n",
       " 'a',\n",
       " 'b']"
      ]
     },
     "execution_count": 24,
     "metadata": {},
     "output_type": "execute_result"
    }
   ],
   "source": [
    "l.extend(a)\n",
    "l.extend(b)\n",
    "l"
   ]
  },
  {
   "cell_type": "code",
   "execution_count": 25,
   "id": "cc1ba834-2393-49ed-bd2d-e64648c9847a",
   "metadata": {},
   "outputs": [
    {
     "data": {
      "text/plain": [
       "[[1, 3, 4],\n",
       " ['a', 'b'],\n",
       " [1, 3, 4],\n",
       " ['a', 'b'],\n",
       " 1,\n",
       " 3,\n",
       " 4,\n",
       " 'a',\n",
       " 'b',\n",
       " [1, 3, 4],\n",
       " ['a', 'b'],\n",
       " 1,\n",
       " 3,\n",
       " 4,\n",
       " 'a',\n",
       " 'b',\n",
       " 0,\n",
       " 1,\n",
       " 2,\n",
       " 3,\n",
       " 4,\n",
       " 5]"
      ]
     },
     "execution_count": 25,
     "metadata": {},
     "output_type": "execute_result"
    }
   ],
   "source": [
    "l.extend (range(6))\n",
    "l"
   ]
  },
  {
   "cell_type": "code",
   "execution_count": 26,
   "id": "27867c49-fb48-4087-ab3d-ac9610933729",
   "metadata": {},
   "outputs": [
    {
     "data": {
      "text/plain": [
       "<method-wrapper '__str__' of list object at 0x0000021605A2F840>"
      ]
     },
     "execution_count": 26,
     "metadata": {},
     "output_type": "execute_result"
    }
   ],
   "source": [
    "l.__str__"
   ]
  },
  {
   "cell_type": "code",
   "execution_count": 27,
   "id": "0fe924fd-cddd-4bb1-a897-29bc596f1fe4",
   "metadata": {},
   "outputs": [
    {
     "data": {
      "text/plain": [
       "4"
      ]
     },
     "execution_count": 27,
     "metadata": {},
     "output_type": "execute_result"
    }
   ],
   "source": [
    "l.index(1)"
   ]
  },
  {
   "cell_type": "code",
   "execution_count": 29,
   "id": "cf5ddbab-990c-462e-8568-e4888400c18e",
   "metadata": {},
   "outputs": [
    {
     "data": {
      "text/plain": [
       "7"
      ]
     },
     "execution_count": 29,
     "metadata": {},
     "output_type": "execute_result"
    }
   ],
   "source": [
    "l.index('a')"
   ]
  },
  {
   "cell_type": "code",
   "execution_count": 30,
   "id": "a2ee946b-5fbd-4726-b09a-5ab87c78cfef",
   "metadata": {},
   "outputs": [
    {
     "ename": "ValueError",
     "evalue": "9 is not in list",
     "output_type": "error",
     "traceback": [
      "\u001b[1;31m---------------------------------------------------------------------------\u001b[0m",
      "\u001b[1;31mValueError\u001b[0m                                Traceback (most recent call last)",
      "Cell \u001b[1;32mIn[30], line 1\u001b[0m\n\u001b[1;32m----> 1\u001b[0m l\u001b[38;5;241m.\u001b[39mindex(\u001b[38;5;241m9\u001b[39m)\n",
      "\u001b[1;31mValueError\u001b[0m: 9 is not in list"
     ]
    }
   ],
   "source": [
    "l.index(9)"
   ]
  },
  {
   "cell_type": "code",
   "execution_count": 31,
   "id": "c464c774-f6eb-44a9-8e63-047ba4751426",
   "metadata": {},
   "outputs": [
    {
     "data": {
      "text/plain": [
       "[[1, 3, 4],\n",
       " ['a', 'b'],\n",
       " [1, 3, 4],\n",
       " 'New data',\n",
       " ['a', 'b'],\n",
       " 1,\n",
       " 3,\n",
       " 4,\n",
       " 'a',\n",
       " 'b',\n",
       " [1, 3, 4],\n",
       " ['a', 'b'],\n",
       " 1,\n",
       " 3,\n",
       " 4,\n",
       " 'a',\n",
       " 'b',\n",
       " 0,\n",
       " 1,\n",
       " 2,\n",
       " 3,\n",
       " 4,\n",
       " 5]"
      ]
     },
     "execution_count": 31,
     "metadata": {},
     "output_type": "execute_result"
    }
   ],
   "source": [
    "l.insert(3, 'New data')\n",
    "l"
   ]
  },
  {
   "cell_type": "code",
   "execution_count": 32,
   "id": "f42437fe-3d7f-41a4-88ef-ff02ebba2f63",
   "metadata": {},
   "outputs": [
    {
     "data": {
      "text/plain": [
       "[[1, 3, 4],\n",
       " ['a', 'b'],\n",
       " [1, 3, 4],\n",
       " 'New data',\n",
       " ['a', 'b'],\n",
       " 1,\n",
       " 3,\n",
       " 4,\n",
       " 'a',\n",
       " 'b',\n",
       " [1, 3, 4],\n",
       " ['a', 'b'],\n",
       " 1,\n",
       " 3,\n",
       " 4,\n",
       " 'a',\n",
       " 'b',\n",
       " 0,\n",
       " 1,\n",
       " 2,\n",
       " 3,\n",
       " 4]"
      ]
     },
     "execution_count": 32,
     "metadata": {},
     "output_type": "execute_result"
    }
   ],
   "source": [
    "l.pop()\n",
    "l"
   ]
  },
  {
   "cell_type": "code",
   "execution_count": 34,
   "id": "575e1303-2d09-4729-a267-6665e15930c7",
   "metadata": {},
   "outputs": [
    {
     "data": {
      "text/plain": [
       "[[1, 3, 4],\n",
       " ['a', 'b'],\n",
       " [1, 3, 4],\n",
       " 1,\n",
       " 3,\n",
       " 4,\n",
       " 'a',\n",
       " 'b',\n",
       " [1, 3, 4],\n",
       " ['a', 'b'],\n",
       " 1,\n",
       " 3,\n",
       " 4,\n",
       " 'a',\n",
       " 'b',\n",
       " 0,\n",
       " 1,\n",
       " 2,\n",
       " 3,\n",
       " 4]"
      ]
     },
     "execution_count": 34,
     "metadata": {},
     "output_type": "execute_result"
    }
   ],
   "source": [
    "l.pop(3)\n",
    "l"
   ]
  },
  {
   "cell_type": "code",
   "execution_count": 38,
   "id": "bf29c709-73fe-43a6-8c6e-837585f424d3",
   "metadata": {},
   "outputs": [
    {
     "data": {
      "text/plain": [
       "[[1, 3, 4],\n",
       " ['a', 'b'],\n",
       " [1, 3, 4],\n",
       " 1,\n",
       " 3,\n",
       " 'a',\n",
       " 'b',\n",
       " [1, 3, 4],\n",
       " ['a', 'b'],\n",
       " 1,\n",
       " 3,\n",
       " 4,\n",
       " 'a',\n",
       " 'b',\n",
       " 0,\n",
       " 1,\n",
       " 3,\n",
       " 4]"
      ]
     },
     "execution_count": 38,
     "metadata": {},
     "output_type": "execute_result"
    }
   ],
   "source": [
    "l.remove(4)\n",
    "l"
   ]
  },
  {
   "cell_type": "code",
   "execution_count": 39,
   "id": "19eb55c2-2874-4ad6-bdac-cdff75deb697",
   "metadata": {},
   "outputs": [
    {
     "data": {
      "text/plain": [
       "3"
      ]
     },
     "execution_count": 39,
     "metadata": {},
     "output_type": "execute_result"
    }
   ],
   "source": [
    "l.count(3)"
   ]
  },
  {
   "cell_type": "code",
   "execution_count": 41,
   "id": "f3aaac3c-f32f-4f32-8437-a598d5d04f5f",
   "metadata": {},
   "outputs": [],
   "source": [
    "l.remove('a')\n",
    "l.remove('b')"
   ]
  },
  {
   "cell_type": "code",
   "execution_count": 45,
   "id": "6cf27099-e458-4b5d-ab04-d97e5f1a62b9",
   "metadata": {},
   "outputs": [
    {
     "ename": "ValueError",
     "evalue": "list.remove(x): x not in list",
     "output_type": "error",
     "traceback": [
      "\u001b[1;31m---------------------------------------------------------------------------\u001b[0m",
      "\u001b[1;31mValueError\u001b[0m                                Traceback (most recent call last)",
      "Cell \u001b[1;32mIn[45], line 1\u001b[0m\n\u001b[1;32m----> 1\u001b[0m l\u001b[38;5;241m.\u001b[39mremove(\u001b[38;5;124m'\u001b[39m\u001b[38;5;124ma\u001b[39m\u001b[38;5;124m'\u001b[39m)\n\u001b[0;32m      2\u001b[0m l\u001b[38;5;241m.\u001b[39mremove(\u001b[38;5;124m'\u001b[39m\u001b[38;5;124mb\u001b[39m\u001b[38;5;124m'\u001b[39m)\n\u001b[0;32m      3\u001b[0m l\n",
      "\u001b[1;31mValueError\u001b[0m: list.remove(x): x not in list"
     ]
    }
   ],
   "source": [
    "l.remove('a')\n",
    "l.remove('b')\n",
    "l\n",
    "         "
   ]
  },
  {
   "cell_type": "code",
   "execution_count": 44,
   "id": "88338276-16fd-4348-bd07-7371e2780e2a",
   "metadata": {},
   "outputs": [
    {
     "ename": "TypeError",
     "evalue": "'<' not supported between instances of 'list' and 'int'",
     "output_type": "error",
     "traceback": [
      "\u001b[1;31m---------------------------------------------------------------------------\u001b[0m",
      "\u001b[1;31mTypeError\u001b[0m                                 Traceback (most recent call last)",
      "Cell \u001b[1;32mIn[44], line 1\u001b[0m\n\u001b[1;32m----> 1\u001b[0m l\u001b[38;5;241m.\u001b[39msort(reverse\u001b[38;5;241m=\u001b[39m\u001b[38;5;28;01mTrue\u001b[39;00m)\n",
      "\u001b[1;31mTypeError\u001b[0m: '<' not supported between instances of 'list' and 'int'"
     ]
    }
   ],
   "source": [
    "l.sort(reverse=True)"
   ]
  },
  {
   "cell_type": "code",
   "execution_count": 46,
   "id": "52b7e6de-88bf-488b-a7fd-f7dca1580d9b",
   "metadata": {},
   "outputs": [
    {
     "data": {
      "text/plain": [
       "[[1, 3, 4],\n",
       " ['a', 'b'],\n",
       " [1, 3, 4],\n",
       " 1,\n",
       " 3,\n",
       " [1, 3, 4],\n",
       " ['a', 'b'],\n",
       " 4,\n",
       " 4,\n",
       " 3,\n",
       " 3,\n",
       " 1,\n",
       " 1]"
      ]
     },
     "execution_count": 46,
     "metadata": {},
     "output_type": "execute_result"
    }
   ],
   "source": [
    "del l[-1]\n",
    "l"
   ]
  },
  {
   "cell_type": "code",
   "execution_count": 47,
   "id": "98840b63-0474-414f-8070-6c58a346f63a",
   "metadata": {},
   "outputs": [
    {
     "data": {
      "text/plain": [
       "[[1, 3, 4],\n",
       " ['a', 'b'],\n",
       " [1, 3, 4],\n",
       " 1,\n",
       " 3,\n",
       " [1, 3, 4],\n",
       " ['a', 'b'],\n",
       " 4,\n",
       " 4,\n",
       " 3,\n",
       " 3,\n",
       " 1,\n",
       " 1,\n",
       " [1, 3, 4],\n",
       " ['a', 'b'],\n",
       " [1, 3, 4],\n",
       " 1,\n",
       " 3,\n",
       " [1, 3, 4],\n",
       " ['a', 'b'],\n",
       " 4,\n",
       " 4,\n",
       " 3,\n",
       " 3,\n",
       " 1,\n",
       " 1,\n",
       " [1, 3, 4],\n",
       " ['a', 'b'],\n",
       " [1, 3, 4],\n",
       " 1,\n",
       " 3,\n",
       " [1, 3, 4],\n",
       " ['a', 'b'],\n",
       " 4,\n",
       " 4,\n",
       " 3,\n",
       " 3,\n",
       " 1,\n",
       " 1]"
      ]
     },
     "execution_count": 47,
     "metadata": {},
     "output_type": "execute_result"
    }
   ],
   "source": [
    "l1 = l*3\n",
    "l1"
   ]
  },
  {
   "cell_type": "code",
   "execution_count": 48,
   "id": "840fcc9e-d97b-49af-9867-953c72ca07db",
   "metadata": {},
   "outputs": [],
   "source": [
    "l.clear()"
   ]
  },
  {
   "cell_type": "code",
   "execution_count": 49,
   "id": "9d085e04-57c4-4d34-af78-5735d4c35483",
   "metadata": {},
   "outputs": [
    {
     "data": {
      "text/plain": [
       "[]"
      ]
     },
     "execution_count": 49,
     "metadata": {},
     "output_type": "execute_result"
    }
   ],
   "source": [
    "l"
   ]
  },
  {
   "cell_type": "code",
   "execution_count": 50,
   "id": "16011a4d-cb7e-4838-85cd-e66f63d5fccf",
   "metadata": {},
   "outputs": [
    {
     "data": {
      "text/plain": [
       "[[1, 3, 4],\n",
       " ['a', 'b'],\n",
       " [1, 3, 4],\n",
       " 1,\n",
       " 3,\n",
       " [1, 3, 4],\n",
       " ['a', 'b'],\n",
       " 4,\n",
       " 4,\n",
       " 3,\n",
       " 3,\n",
       " 1,\n",
       " 1,\n",
       " [1, 3, 4],\n",
       " ['a', 'b'],\n",
       " [1, 3, 4],\n",
       " 1,\n",
       " 3,\n",
       " [1, 3, 4],\n",
       " ['a', 'b'],\n",
       " 4,\n",
       " 4,\n",
       " 3,\n",
       " 3,\n",
       " 1,\n",
       " 1,\n",
       " [1, 3, 4],\n",
       " ['a', 'b'],\n",
       " [1, 3, 4],\n",
       " 1,\n",
       " 3,\n",
       " [1, 3, 4],\n",
       " ['a', 'b'],\n",
       " 4,\n",
       " 4,\n",
       " 3,\n",
       " 3,\n",
       " 1,\n",
       " 1]"
      ]
     },
     "execution_count": 50,
     "metadata": {},
     "output_type": "execute_result"
    }
   ],
   "source": [
    "l1"
   ]
  },
  {
   "cell_type": "code",
   "execution_count": 52,
   "id": "92947ebe-96d3-420f-aa2d-5b7521d9f422",
   "metadata": {},
   "outputs": [
    {
     "data": {
      "text/plain": [
       "[4, 3, 4, 3, 2, 4, 3]"
      ]
     },
     "execution_count": 52,
     "metadata": {},
     "output_type": "execute_result"
    }
   ],
   "source": [
    "l1 = [4, 4, 3, 3, 2, 4, 4, 3, 3, 2, 4, 4, 3, 3, 2]\n",
    "del l1[::2]\n",
    "l1"
   ]
  },
  {
   "cell_type": "code",
   "execution_count": 53,
   "id": "b76d59e8-d7d1-4852-8658-8686e26d42c5",
   "metadata": {},
   "outputs": [
    {
     "ename": "NameError",
     "evalue": "name 'l1' is not defined",
     "output_type": "error",
     "traceback": [
      "\u001b[1;31m---------------------------------------------------------------------------\u001b[0m",
      "\u001b[1;31mNameError\u001b[0m                                 Traceback (most recent call last)",
      "Cell \u001b[1;32mIn[53], line 2\u001b[0m\n\u001b[0;32m      1\u001b[0m \u001b[38;5;28;01mdel\u001b[39;00m l1\n\u001b[1;32m----> 2\u001b[0m l1\n",
      "\u001b[1;31mNameError\u001b[0m: name 'l1' is not defined"
     ]
    }
   ],
   "source": [
    "del l1\n",
    "l1"
   ]
  },
  {
   "cell_type": "code",
   "execution_count": 55,
   "id": "2bc39f3b-a28e-44a7-9a9c-01892e760022",
   "metadata": {},
   "outputs": [
    {
     "name": "stdout",
     "output_type": "stream",
     "text": [
      "list is empty\n"
     ]
    }
   ],
   "source": [
    "lst = []\n",
    "if not lst:\n",
    "    print('list is empty')"
   ]
  },
  {
   "cell_type": "code",
   "execution_count": 56,
   "id": "f4bff0d3-2edf-431f-927a-3d06211ad755",
   "metadata": {},
   "outputs": [],
   "source": [
    "lst = ['one', 2, 'three', 4,]"
   ]
  },
  {
   "cell_type": "code",
   "execution_count": 57,
   "id": "b9f23924-a01e-4f97-81d7-024bd067dba3",
   "metadata": {},
   "outputs": [
    {
     "data": {
      "text/plain": [
       "True"
      ]
     },
     "execution_count": 57,
     "metadata": {},
     "output_type": "execute_result"
    }
   ],
   "source": [
    "'one' in lst"
   ]
  },
  {
   "cell_type": "code",
   "execution_count": 58,
   "id": "8050e7aa-a6d8-4cbb-925e-bbc35ae3ba29",
   "metadata": {},
   "outputs": [
    {
     "data": {
      "text/plain": [
       "False"
      ]
     },
     "execution_count": 58,
     "metadata": {},
     "output_type": "execute_result"
    }
   ],
   "source": [
    "'two' in lst"
   ]
  },
  {
   "cell_type": "code",
   "execution_count": 59,
   "id": "c6b5a973-a3f5-43b1-bdf7-215e0bf19c4f",
   "metadata": {},
   "outputs": [
    {
     "data": {
      "text/plain": [
       "4"
      ]
     },
     "execution_count": 59,
     "metadata": {},
     "output_type": "execute_result"
    }
   ],
   "source": [
    "len(lst)"
   ]
  },
  {
   "cell_type": "code",
   "execution_count": 60,
   "id": "bb960ef0-72f4-4f0f-b6f8-39b905c2bb6c",
   "metadata": {},
   "outputs": [
    {
     "name": "stdout",
     "output_type": "stream",
     "text": [
      "one\n",
      "2\n",
      "three\n",
      "4\n"
     ]
    }
   ],
   "source": [
    "for l in lst:\n",
    "    print(l)"
   ]
  },
  {
   "cell_type": "code",
   "execution_count": 61,
   "id": "073c12b7-769f-4e37-9ef9-ce693a0a908d",
   "metadata": {},
   "outputs": [
    {
     "name": "stdout",
     "output_type": "stream",
     "text": [
      "one\n",
      "2\n",
      "three\n",
      "4\n"
     ]
    }
   ],
   "source": [
    "for i in range(len(lst)):\n",
    "    print(lst[i])"
   ]
  },
  {
   "cell_type": "code",
   "execution_count": 63,
   "id": "8f22b9b3-8ccb-415f-9ba7-6077fda15935",
   "metadata": {},
   "outputs": [
    {
     "data": {
      "text/plain": [
       "['one', 2, 'three', 4, 'one', 2, 5, 6]"
      ]
     },
     "execution_count": 63,
     "metadata": {},
     "output_type": "execute_result"
    }
   ],
   "source": [
    "lst.extend(['one', 2, 5, 6])\n",
    "lst"
   ]
  },
  {
   "cell_type": "code",
   "execution_count": 64,
   "id": "f786a1c1-90dd-40c5-8f9a-041478800396",
   "metadata": {},
   "outputs": [
    {
     "data": {
      "text/plain": [
       "{2, 4, 5, 6, 'one', 'three'}"
      ]
     },
     "execution_count": 64,
     "metadata": {},
     "output_type": "execute_result"
    }
   ],
   "source": [
    "s = set(lst)\n",
    "s"
   ]
  },
  {
   "cell_type": "code",
   "execution_count": 65,
   "id": "c5ce7063-1c3b-4dbc-b925-476bcee26012",
   "metadata": {},
   "outputs": [
    {
     "data": {
      "text/plain": [
       "['one', 2, 4, 5, 6, 'three']"
      ]
     },
     "execution_count": 65,
     "metadata": {},
     "output_type": "execute_result"
    }
   ],
   "source": [
    "new_lst = list(s)\n",
    "new_lst"
   ]
  },
  {
   "cell_type": "code",
   "execution_count": 67,
   "id": "e0d5b3ba-cd9a-424b-a812-b08744702b1e",
   "metadata": {},
   "outputs": [
    {
     "data": {
      "text/plain": [
       "['one', 2, 4, 5, 6, 'three']"
      ]
     },
     "execution_count": 67,
     "metadata": {},
     "output_type": "execute_result"
    }
   ],
   "source": [
    "lst = list(set(lst))\n",
    "lst"
   ]
  },
  {
   "cell_type": "code",
   "execution_count": 68,
   "id": "36580ebc-c799-4ba0-a0a2-b5398a91f3a4",
   "metadata": {},
   "outputs": [],
   "source": [
    "# Multidimensional list, set, tuple and dictionary\n",
    "# difference between list, set, tuple and dictionary"
   ]
  },
  {
   "cell_type": "code",
   "execution_count": 2,
   "id": "9a699db8-7dca-4f08-960b-96166eb26377",
   "metadata": {},
   "outputs": [
    {
     "name": "stdout",
     "output_type": "stream",
     "text": [
      "['apple', 'banana', 'cherry']\n"
     ]
    }
   ],
   "source": [
    "thislist = list(('apple', 'banana', 'cherry'))\n",
    "print(thislist)"
   ]
  },
  {
   "cell_type": "code",
   "execution_count": 3,
   "id": "fc54d75a-b1bb-4fbf-b910-d261c742ef47",
   "metadata": {},
   "outputs": [
    {
     "name": "stdout",
     "output_type": "stream",
     "text": [
      "['apple', 'banana', 'watermelon', 'cherry']\n"
     ]
    }
   ],
   "source": [
    "thislist.insert(2, 'watermelon')\n",
    "print(thislist)"
   ]
  },
  {
   "cell_type": "code",
   "execution_count": 4,
   "id": "cdeafb4c-b5ae-4430-b919-bf59548df94a",
   "metadata": {},
   "outputs": [
    {
     "name": "stdout",
     "output_type": "stream",
     "text": [
      "['apple', 'banana', 'cherry', 'mango', 'pineapple', 'papaya']\n"
     ]
    }
   ],
   "source": [
    "lst1 = ['apple', 'banana', 'cherry']\n",
    "lst2 = ['mango', 'pineapple', 'papaya']\n",
    "lst1.extend(lst2)\n",
    "print(lst1)"
   ]
  },
  {
   "cell_type": "code",
   "execution_count": 5,
   "id": "89284be4-4094-4840-a91d-52ab6d3ba76d",
   "metadata": {},
   "outputs": [
    {
     "name": "stdout",
     "output_type": "stream",
     "text": [
      "['apple', 'banana', 'cherry', 'kiwi', 'orange']\n"
     ]
    }
   ],
   "source": [
    "thislist = ['apple', 'banana', 'cherry']\n",
    "thistuple = ('kiwi', 'orange')\n",
    "thislist.extend(thistuple)\n",
    "print(thislist)"
   ]
  },
  {
   "cell_type": "code",
   "execution_count": 6,
   "id": "3317f20d-44b9-42bc-8804-320b0bed07a8",
   "metadata": {},
   "outputs": [
    {
     "name": "stdout",
     "output_type": "stream",
     "text": [
      "['apple', 'cherry', 'kiwi', 'orange']\n"
     ]
    }
   ],
   "source": [
    "thislist.remove('banana')\n",
    "print(thislist)"
   ]
  },
  {
   "cell_type": "code",
   "execution_count": 7,
   "id": "1fac23f7-92a2-4d35-a25e-e220953d7771",
   "metadata": {},
   "outputs": [
    {
     "name": "stdout",
     "output_type": "stream",
     "text": [
      "['apple', 'cherry', 'banana', 'kiwi']\n"
     ]
    }
   ],
   "source": [
    "thislist = ['apple', 'banana', 'cherry', 'banana', 'kiwi']\n",
    "thislist.remove('banana')\n",
    "print(thislist)"
   ]
  },
  {
   "cell_type": "code",
   "execution_count": 8,
   "id": "0aa9fc74-f684-4fba-a9a5-22cb2d51b15d",
   "metadata": {},
   "outputs": [
    {
     "name": "stdout",
     "output_type": "stream",
     "text": [
      "['apple', 'banana', 'kiwi']\n"
     ]
    }
   ],
   "source": [
    "thislist.pop(1)\n",
    "print(thislist)"
   ]
  },
  {
   "cell_type": "code",
   "execution_count": 9,
   "id": "95f06179-7ca8-4b3a-ac08-781b7b3ef8f8",
   "metadata": {},
   "outputs": [
    {
     "name": "stdout",
     "output_type": "stream",
     "text": [
      "apple\n",
      "banana\n",
      "cherry\n"
     ]
    }
   ],
   "source": [
    "thislist = ['apple', 'banana', 'cherry']\n",
    "for i in range(len(thislist)):\n",
    "    print(thislist[i])"
   ]
  },
  {
   "cell_type": "code",
   "execution_count": 10,
   "id": "a99c4f41-e4ca-4106-8659-7e4b80477b42",
   "metadata": {},
   "outputs": [
    {
     "name": "stdout",
     "output_type": "stream",
     "text": [
      "apple\n",
      "banana\n",
      "cherry\n"
     ]
    }
   ],
   "source": [
    "thislist = ['apple', 'banana', 'cherry']\n",
    "i = 0\n",
    "\n",
    "while i < len(thislist):\n",
    "    print(thislist[i])\n",
    "    i += 1"
   ]
  },
  {
   "cell_type": "code",
   "execution_count": 12,
   "id": "9545dc64-3bad-4d6a-ad2e-1a9a035ac956",
   "metadata": {},
   "outputs": [
    {
     "name": "stdout",
     "output_type": "stream",
     "text": [
      "apple\n",
      "banana\n",
      "cherry\n"
     ]
    },
    {
     "data": {
      "text/plain": [
       "[None, None, None]"
      ]
     },
     "execution_count": 12,
     "metadata": {},
     "output_type": "execute_result"
    }
   ],
   "source": [
    "thislist = ['apple', 'banana', 'cherry']\n",
    "[print(x) for x in thislist]"
   ]
  },
  {
   "cell_type": "code",
   "execution_count": 13,
   "id": "fe38065b-96ab-428d-902f-60c3fc7affa6",
   "metadata": {},
   "outputs": [
    {
     "name": "stdout",
     "output_type": "stream",
     "text": [
      "['apple', 'banana', 'mango']\n"
     ]
    }
   ],
   "source": [
    "fruits = ['apple', 'banana', 'cherry', 'kiwi', 'mango']\n",
    "newlist = []\n",
    "\n",
    "for x in fruits:\n",
    "    if 'a' in x:\n",
    "        newlist.append(x)\n",
    "\n",
    "print(newlist)"
   ]
  },
  {
   "cell_type": "code",
   "execution_count": 14,
   "id": "fa420b1e-b3f6-45f2-97e1-760ce59e8d0c",
   "metadata": {},
   "outputs": [
    {
     "name": "stdout",
     "output_type": "stream",
     "text": [
      "['apple', 'banana', 'mango']\n"
     ]
    }
   ],
   "source": [
    "fruits = ['apple', 'banana', 'cherry', 'kiwi', 'mango']\n",
    "\n",
    "newlist = [x for x in fruits if 'a' in x]\n",
    "print(newlist)"
   ]
  },
  {
   "cell_type": "code",
   "execution_count": 15,
   "id": "750530f4-ba34-4354-9814-6e7a19595c02",
   "metadata": {},
   "outputs": [],
   "source": [
    "# List "
   ]
  },
  {
   "cell_type": "code",
   "execution_count": 17,
   "id": "6e23206d-368a-4793-9a97-041b596284cb",
   "metadata": {},
   "outputs": [
    {
     "name": "stdout",
     "output_type": "stream",
     "text": [
      "['banana', 'cherry', 'kiwi', 'mango']\n"
     ]
    }
   ],
   "source": [
    "# List Comprehension\n",
    "# newlist = [expression for item in iterable if condition == True]\n",
    "\n",
    "newlist = [x for x in fruits if x != 'apple']\n",
    "print(newlist)"
   ]
  },
  {
   "cell_type": "code",
   "execution_count": 18,
   "id": "3a03b5ab-4988-4c92-a3a9-6eab377468bb",
   "metadata": {},
   "outputs": [
    {
     "name": "stdout",
     "output_type": "stream",
     "text": [
      "['apple', 'banana', 'cherry', 'kiwi', 'mango']\n"
     ]
    }
   ],
   "source": [
    "newlist = [x for x in fruits]\n",
    "print(newlist)"
   ]
  },
  {
   "cell_type": "code",
   "execution_count": 19,
   "id": "b111f205-4484-4351-b27a-17c5ba4ba231",
   "metadata": {},
   "outputs": [
    {
     "name": "stdout",
     "output_type": "stream",
     "text": [
      "[0, 1, 2, 3, 4, 5, 6, 7, 8, 9]\n"
     ]
    }
   ],
   "source": [
    "newlist = [x for x in range(10)]\n",
    "print(newlist)"
   ]
  },
  {
   "cell_type": "code",
   "execution_count": 20,
   "id": "6d059f04-0b74-47c8-9ebb-147412089452",
   "metadata": {},
   "outputs": [
    {
     "name": "stdout",
     "output_type": "stream",
     "text": [
      "[0, 1, 2, 3, 4]\n"
     ]
    }
   ],
   "source": [
    "newlist = [x for x in range(10) if x < 5]\n",
    "print(newlist)"
   ]
  },
  {
   "cell_type": "code",
   "execution_count": 21,
   "id": "819231b1-913b-4540-ac1a-37ce0dc19559",
   "metadata": {},
   "outputs": [
    {
     "name": "stdout",
     "output_type": "stream",
     "text": [
      "['APPLE', 'BANANA', 'CHERRY', 'KIWI', 'MANGO']\n"
     ]
    }
   ],
   "source": [
    "newlist = [x.upper() for x in fruits]\n",
    "print(newlist)"
   ]
  },
  {
   "cell_type": "code",
   "execution_count": 22,
   "id": "2842b6cc-162c-4c48-b49b-fe952fa84a4d",
   "metadata": {},
   "outputs": [
    {
     "name": "stdout",
     "output_type": "stream",
     "text": [
      "['hello', 'hello', 'hello', 'hello', 'hello']\n"
     ]
    }
   ],
   "source": [
    "newlist = ['hello' for x in fruits]\n",
    "print(newlist)"
   ]
  },
  {
   "cell_type": "code",
   "execution_count": 23,
   "id": "5bab4a4a-f4c2-4016-81bc-ee895ca69a56",
   "metadata": {},
   "outputs": [
    {
     "name": "stdout",
     "output_type": "stream",
     "text": [
      "['apple', 'orange', 'cherry', 'kiwi', 'mango']\n"
     ]
    }
   ],
   "source": [
    "newlist = [x if x != 'banana' else 'orange' for x in fruits]\n",
    "print(newlist)           "
   ]
  },
  {
   "cell_type": "code",
   "execution_count": 24,
   "id": "b330b560-a542-4043-a8a1-4e50b561bddd",
   "metadata": {},
   "outputs": [
    {
     "name": "stdout",
     "output_type": "stream",
     "text": [
      "['banana', 'kiwi', 'mango', 'orange', 'pineapple']\n"
     ]
    }
   ],
   "source": [
    "thislist = ['orange', 'mango', 'kiwi', 'pineapple', 'banana']\n",
    "thislist.sort()\n",
    "print(thislist)"
   ]
  },
  {
   "cell_type": "code",
   "execution_count": 25,
   "id": "5bf4edd5-b443-409d-9c20-3cb66b715475",
   "metadata": {},
   "outputs": [
    {
     "name": "stdout",
     "output_type": "stream",
     "text": [
      "['pineapple', 'orange', 'mango', 'kiwi', 'banana']\n"
     ]
    }
   ],
   "source": [
    "thislist.sort(reverse = True)\n",
    "print(thislist)"
   ]
  },
  {
   "cell_type": "code",
   "execution_count": 26,
   "id": "e16dd66a-9fd9-4225-9f74-67b69ee2ad08",
   "metadata": {},
   "outputs": [
    {
     "name": "stdout",
     "output_type": "stream",
     "text": [
      "[50, 65, 23, 82, 100]\n"
     ]
    }
   ],
   "source": [
    "# Customize Sort Function\n",
    "\n",
    "def myfunc(n):\n",
    "    return abs(n - 50)\n",
    "\n",
    "thislist = [100, 50, 65, 82, 23]\n",
    "thislist.sort(key = myfunc)\n",
    "print(thislist)"
   ]
  },
  {
   "cell_type": "code",
   "execution_count": 27,
   "id": "e3ba2202-a304-4fb1-88c3-4af658f33319",
   "metadata": {},
   "outputs": [
    {
     "name": "stdout",
     "output_type": "stream",
     "text": [
      "['banana', 'cherry', 'Kiwi', 'Orange']\n"
     ]
    }
   ],
   "source": [
    "thislist = ['banana', 'Orange', 'Kiwi', 'cherry']\n",
    "thislist.sort(key = str.lower)\n",
    "print(thislist)"
   ]
  },
  {
   "cell_type": "code",
   "execution_count": 28,
   "id": "7ba58ec1-bc0a-4cb3-8e71-7eac85a5ba7a",
   "metadata": {},
   "outputs": [
    {
     "name": "stdout",
     "output_type": "stream",
     "text": [
      "['apple', 'banana', 'cherry']\n"
     ]
    }
   ],
   "source": [
    "thislist = ['apple', 'banana', 'cherry']\n",
    "mylist = thislist.copy()\n",
    "print(mylist)"
   ]
  },
  {
   "cell_type": "code",
   "execution_count": 29,
   "id": "834f6128-3047-4490-9529-e6ca6c484ec4",
   "metadata": {},
   "outputs": [
    {
     "name": "stdout",
     "output_type": "stream",
     "text": [
      "['apple', 'banana', 'cherry']\n"
     ]
    }
   ],
   "source": [
    "mylist = list(thislist)\n",
    "print(mylist)"
   ]
  },
  {
   "cell_type": "code",
   "execution_count": 30,
   "id": "6502315b-a93e-468c-9de3-9b4970d01a36",
   "metadata": {},
   "outputs": [
    {
     "name": "stdout",
     "output_type": "stream",
     "text": [
      "['apple', 'banana', 'cherry']\n"
     ]
    }
   ],
   "source": [
    "mylist = thislist[:]\n",
    "print(mylist)"
   ]
  },
  {
   "cell_type": "code",
   "execution_count": 2,
   "id": "214b34f1-e742-4eab-850a-ddf2699b114c",
   "metadata": {},
   "outputs": [],
   "source": [
    "d2_list = [[1, 2, 3], ['Ram', 'Shyam', 'Hari'], [True, False], [4.5, 5.6, 7.9]]"
   ]
  },
  {
   "cell_type": "code",
   "execution_count": 3,
   "id": "8b74725c-61bb-4dac-82da-edac4305dbec",
   "metadata": {},
   "outputs": [
    {
     "name": "stdout",
     "output_type": "stream",
     "text": [
      "[[1, 2, 3], ['Ram', 'Shyam', 'Hari'], [True, False], [4.5, 5.6, 7.9]]\n"
     ]
    }
   ],
   "source": [
    "print(d2_list)"
   ]
  },
  {
   "cell_type": "code",
   "execution_count": 4,
   "id": "dfd70b4e-7784-4f4f-b832-2acf21182e72",
   "metadata": {},
   "outputs": [
    {
     "data": {
      "text/plain": [
       "True"
      ]
     },
     "execution_count": 4,
     "metadata": {},
     "output_type": "execute_result"
    }
   ],
   "source": [
    "[1, 4] < [3, 2]"
   ]
  },
  {
   "cell_type": "code",
   "execution_count": 5,
   "id": "038df37d-62e3-4f48-bc53-f03e8c334fc4",
   "metadata": {},
   "outputs": [
    {
     "data": {
      "text/plain": [
       "False"
      ]
     },
     "execution_count": 5,
     "metadata": {},
     "output_type": "execute_result"
    }
   ],
   "source": [
    "[1, 4] > [3, 2]"
   ]
  },
  {
   "cell_type": "code",
   "execution_count": 6,
   "id": "6cfaf067-e084-437b-84e4-436cdd180685",
   "metadata": {},
   "outputs": [
    {
     "data": {
      "text/plain": [
       "True"
      ]
     },
     "execution_count": 6,
     "metadata": {},
     "output_type": "execute_result"
    }
   ],
   "source": [
    "[1, 4] > [1, 2]"
   ]
  },
  {
   "cell_type": "code",
   "execution_count": 7,
   "id": "cb124f8b-aa3f-4bf6-b7aa-3824f1bdfd96",
   "metadata": {},
   "outputs": [],
   "source": [
    "# Nested list, multidimensional list"
   ]
  },
  {
   "cell_type": "code",
   "execution_count": 8,
   "id": "adbfc1e8-a235-4d7a-b4ef-4cdca1b34992",
   "metadata": {},
   "outputs": [],
   "source": [
    "lst = [[2, 3, 4], [4, 5, 6], [1, 4, 3]]"
   ]
  },
  {
   "cell_type": "code",
   "execution_count": 9,
   "id": "72f2a20e-fce8-40e8-b3bb-e8de4eaadce1",
   "metadata": {},
   "outputs": [
    {
     "data": {
      "text/plain": [
       "[[2, 3, 4], [4, 5, 6], [1, 4, 3]]"
      ]
     },
     "execution_count": 9,
     "metadata": {},
     "output_type": "execute_result"
    }
   ],
   "source": [
    "lst"
   ]
  },
  {
   "cell_type": "code",
   "execution_count": 10,
   "id": "a92e327e-3af7-410e-bf68-b84449aec558",
   "metadata": {},
   "outputs": [
    {
     "name": "stdout",
     "output_type": "stream",
     "text": [
      "[2, 3, 4]\n",
      "[4, 5, 6]\n",
      "[1, 4, 3]\n"
     ]
    }
   ],
   "source": [
    "for items in lst:\n",
    "    print(items)"
   ]
  },
  {
   "cell_type": "code",
   "execution_count": 12,
   "id": "80874480-5420-407c-ab9e-9e96229989c0",
   "metadata": {},
   "outputs": [
    {
     "name": "stdout",
     "output_type": "stream",
     "text": [
      "2\n",
      "3\n",
      "4\n",
      "4\n",
      "5\n",
      "6\n",
      "1\n",
      "4\n",
      "3\n"
     ]
    }
   ],
   "source": [
    "for row in lst:\n",
    "    for col in row:\n",
    "        print(col)"
   ]
  },
  {
   "cell_type": "code",
   "execution_count": 13,
   "id": "c8478328-d442-470b-95ed-8a3fd57cc227",
   "metadata": {},
   "outputs": [],
   "source": [
    "lst3 = [[[1, 2, 3], [4, 5, 6], [7, 8, 9]]]"
   ]
  },
  {
   "cell_type": "code",
   "execution_count": 14,
   "id": "be8bbfa3-c603-4e10-9e22-2fd3a40ee78c",
   "metadata": {},
   "outputs": [
    {
     "name": "stdout",
     "output_type": "stream",
     "text": [
      "[[[1, 2, 3], [4, 5, 6], [7, 8, 9]]]\n"
     ]
    }
   ],
   "source": [
    "print(lst3)"
   ]
  },
  {
   "cell_type": "code",
   "execution_count": 20,
   "id": "007f44cc-bf4f-45ac-9455-0201b008eff4",
   "metadata": {},
   "outputs": [],
   "source": [
    "lst3 = [[[1, 2, 3], [4, 5, 6], [7, 8, 9]], [[9, 87, 56], [45, 43,  23], [67, 89, 90]], [[67, 34, 45], [87, 55, 66], [43, 45, 56]]]"
   ]
  },
  {
   "cell_type": "code",
   "execution_count": 21,
   "id": "58375b20-7820-422c-93be-87df4365130c",
   "metadata": {},
   "outputs": [
    {
     "name": "stdout",
     "output_type": "stream",
     "text": [
      "[[[1, 2, 3], [4, 5, 6], [7, 8, 9]], [[9, 87, 56], [45, 43, 23], [67, 89, 90]], [[67, 34, 45], [87, 55, 66], [43, 45, 56]]]\n"
     ]
    }
   ],
   "source": [
    "print(lst3)"
   ]
  },
  {
   "cell_type": "code",
   "execution_count": 28,
   "id": "4ebbbbdf-15e0-42fc-85f2-5b88c12babd9",
   "metadata": {},
   "outputs": [
    {
     "name": "stdout",
     "output_type": "stream",
     "text": [
      "1\n",
      "2\n",
      "3\n",
      "4\n",
      "5\n",
      "6\n",
      "7\n",
      "8\n",
      "9\n",
      "9\n",
      "87\n",
      "56\n",
      "45\n",
      "43\n",
      "23\n",
      "67\n",
      "89\n",
      "90\n",
      "67\n",
      "34\n",
      "45\n",
      "87\n",
      "55\n",
      "66\n",
      "43\n",
      "45\n",
      "56\n"
     ]
    }
   ],
   "source": [
    "for items in lst3:\n",
    "    for row in items:\n",
    "        for col in row:\n",
    "            print(col)"
   ]
  },
  {
   "cell_type": "code",
   "execution_count": 25,
   "id": "45e3f8d1-0502-4bee-bf96-e6744c6d4f33",
   "metadata": {},
   "outputs": [],
   "source": [
    "lst_3d = [[[1, 2], [2, 3]], [[3, 4], [5, 6]]]"
   ]
  },
  {
   "cell_type": "markdown",
   "id": "c5cde9be-760b-4505-8f77-28b3dc2c72a5",
   "metadata": {},
   "source": [
    "for items in lst_3d:\n",
    "    print(items)\n"
   ]
  },
  {
   "cell_type": "code",
   "execution_count": 26,
   "id": "d8f1416d-b67e-47d6-a638-1dd62da035b5",
   "metadata": {},
   "outputs": [
    {
     "name": "stdout",
     "output_type": "stream",
     "text": [
      "[[1, 2], [2, 3]]\n",
      "[[1, 2], [2, 3]]\n",
      "[[3, 4], [5, 6]]\n",
      "[[3, 4], [5, 6]]\n"
     ]
    }
   ],
   "source": [
    "for items in lst_3d:\n",
    "    for row in items:\n",
    "        print(items)"
   ]
  },
  {
   "cell_type": "code",
   "execution_count": 27,
   "id": "d14639fc-4104-4f00-a46f-5e9c59d784fb",
   "metadata": {},
   "outputs": [
    {
     "name": "stdout",
     "output_type": "stream",
     "text": [
      "1\n",
      "2\n",
      "2\n",
      "3\n",
      "3\n",
      "4\n",
      "5\n",
      "6\n"
     ]
    }
   ],
   "source": [
    "for items in lst_3d:\n",
    "    for row in items:\n",
    "        for col in row:\n",
    "            print(col)"
   ]
  },
  {
   "cell_type": "code",
   "execution_count": 32,
   "id": "3c62e319-03ec-4061-8568-bc4f38ca2bec",
   "metadata": {},
   "outputs": [
    {
     "data": {
      "text/plain": [
       "5"
      ]
     },
     "execution_count": 32,
     "metadata": {},
     "output_type": "execute_result"
    }
   ],
   "source": [
    "lst[1][1]"
   ]
  },
  {
   "cell_type": "code",
   "execution_count": 34,
   "id": "be99cf92-7341-4012-8896-6a60ba3e7d8c",
   "metadata": {},
   "outputs": [
    {
     "data": {
      "text/plain": [
       "5"
      ]
     },
     "execution_count": 34,
     "metadata": {},
     "output_type": "execute_result"
    }
   ],
   "source": [
    "lst_3d[1][1][0]"
   ]
  },
  {
   "cell_type": "code",
   "execution_count": 35,
   "id": "3cb7b70e-5bc2-482b-80b5-ee2bdde3f25e",
   "metadata": {},
   "outputs": [],
   "source": [
    "# List comprehension"
   ]
  },
  {
   "cell_type": "code",
   "execution_count": 36,
   "id": "26359c3d-e974-4b84-8af9-3cd5dada5429",
   "metadata": {},
   "outputs": [
    {
     "data": {
      "text/plain": [
       "[0, 1, 2, 3, 4]"
      ]
     },
     "execution_count": 36,
     "metadata": {},
     "output_type": "execute_result"
    }
   ],
   "source": [
    "[i for i in range(5)]"
   ]
  },
  {
   "cell_type": "code",
   "execution_count": 38,
   "id": "cd68217d-2496-4cf0-beea-46cc683db5d4",
   "metadata": {},
   "outputs": [
    {
     "data": {
      "text/plain": [
       "[2, 3, 4, 4, 5, 6, 1, 4, 3]"
      ]
     },
     "execution_count": 38,
     "metadata": {},
     "output_type": "execute_result"
    }
   ],
   "source": [
    "[col for row in lst for col in row]"
   ]
  },
  {
   "cell_type": "code",
   "execution_count": 41,
   "id": "b0b2e182-6e2c-4973-914c-b90aa7ab14e0",
   "metadata": {},
   "outputs": [
    {
     "data": {
      "text/plain": [
       "[1, 2, 2, 3, 3, 4, 5, 6]"
      ]
     },
     "execution_count": 41,
     "metadata": {},
     "output_type": "execute_result"
    }
   ],
   "source": [
    "[col for items in lst_3d for row in items for col in row]"
   ]
  },
  {
   "cell_type": "code",
   "execution_count": null,
   "id": "c266058e-3cc9-4b5b-bced-2dee59d0f09a",
   "metadata": {},
   "outputs": [],
   "source": []
  }
 ],
 "metadata": {
  "kernelspec": {
   "display_name": "Python 3 (ipykernel)",
   "language": "python",
   "name": "python3"
  },
  "language_info": {
   "codemirror_mode": {
    "name": "ipython",
    "version": 3
   },
   "file_extension": ".py",
   "mimetype": "text/x-python",
   "name": "python",
   "nbconvert_exporter": "python",
   "pygments_lexer": "ipython3",
   "version": "3.11.7"
  }
 },
 "nbformat": 4,
 "nbformat_minor": 5
}
