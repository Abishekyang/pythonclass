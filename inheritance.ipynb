{
 "cells": [
  {
   "cell_type": "markdown",
   "id": "62967454",
   "metadata": {},
   "source": [
    "3 Inheritance\n",
    "\n",
    "1. Parent class\n",
    "2. Child class\n",
    "\n",
    "'''\n",
    "class ParentClass:\n",
    "    pass\n",
    "\n",
    "class ChildClass(ParentClass):\n",
    "    pass\n",
    "'''\n",
    "\n",
    "**Parent Class**\n",
    "- Base class, from which other class can inherit\n",
    "\n",
    "**Child Class**\n",
    "- Derived class that inherits from the parent class"
   ]
  },
  {
   "cell_type": "markdown",
   "id": "24fcd4b9",
   "metadata": {},
   "source": [
    "## Types of Inheritance\n",
    "\n",
    "1. Single\n",
    "Parent Class <--------- Child Class\n",
    "\n",
    "2. Multiple\n",
    "Parent Class 1, Parent Class 2 <-----------Child Class\n",
    "\n",
    "3. Multilevel\n",
    "Parent class <---------Child Class <--------- Grand Chid Class\n",
    "\n",
    "4. Hierarichal\n",
    "Parent Class <---------Child Class 1, Child Class 2\n",
    "\n",
    "5. Hybrid\n",
    "- any two or more combinations"
   ]
  },
  {
   "cell_type": "code",
   "execution_count": 3,
   "id": "c082ab66",
   "metadata": {},
   "outputs": [
    {
     "name": "stdout",
     "output_type": "stream",
     "text": [
      "Animal has 2 eyes\n",
      "Bhau Bhau\n"
     ]
    }
   ],
   "source": [
    "class Animal:\n",
    "\n",
    "    def get_eyes(self):\n",
    "        return 'Animal has 2 eyes'\n",
    "    \n",
    "class Dog(Animal):\n",
    "    def speak(self):\n",
    "        return 'Bhau Bhau'\n",
    "    \n",
    "dog = Dog()\n",
    "print(dog.get_eyes())\n",
    "print(dog.speak())\n",
    "\n",
    "\n",
    "\n",
    "    \n",
    "    \n",
    "    \n",
    "\n",
    "\n",
    "\n",
    "\n",
    "\n",
    "        "
   ]
  },
  {
   "cell_type": "code",
   "execution_count": 9,
   "id": "1076b521",
   "metadata": {},
   "outputs": [
    {
     "name": "stdout",
     "output_type": "stream",
     "text": [
      "Name Akash\n"
     ]
    }
   ],
   "source": [
    "class Person:\n",
    "\n",
    "    def __init__(self, name):\n",
    "        self.name = name\n",
    "\n",
    "    def info(self):\n",
    "        print('Name', self.name)\n",
    "\n",
    "    \n",
    "\n",
    "\n",
    "\n",
    "class Employee(Person):\n",
    "    def __init__(self, name, company):\n",
    "        self.company = company\n",
    "        super().__init__(name)\n",
    "\n",
    "    def info(self):\n",
    "        print('Name', self.name)\n",
    "        print('Company', self.company)\n",
    "\n",
    "p = Person('Akash')\n",
    "p.info()\n",
    "\n"
   ]
  },
  {
   "cell_type": "code",
   "execution_count": 11,
   "id": "5e497c5d",
   "metadata": {},
   "outputs": [
    {
     "name": "stdout",
     "output_type": "stream",
     "text": [
      "Name Hari\n",
      "Company STN\n"
     ]
    }
   ],
   "source": [
    "e = Employee('Hari', 'STN')\n",
    "e.info()"
   ]
  },
  {
   "cell_type": "code",
   "execution_count": null,
   "id": "46017f4b",
   "metadata": {},
   "outputs": [
    {
     "name": "stdout",
     "output_type": "stream",
     "text": [
      "Name Gopal\n",
      "Company STN\n",
      "Pyrhon Django\n"
     ]
    }
   ],
   "source": [
    "class Programmer(Employee):\n",
    "    def __init__(self, name, company, skill):\n",
    "        super().__init__(name, company)\n",
    "        self.skill = skill\n",
    "\n",
    "\n",
    "programmer = Programmer('Gopal', 'STN', 'Python Django')\n",
    "programmer.info()\n",
    "print(programmer.skill)\n"
   ]
  },
  {
   "cell_type": "code",
   "execution_count": 15,
   "id": "5fe4952d",
   "metadata": {},
   "outputs": [
    {
     "name": "stdout",
     "output_type": "stream",
     "text": [
      "['Wood Cutting', 'Carpentry', 'Cooking', 'Painting', 'Coding']\n"
     ]
    }
   ],
   "source": [
    "class Father:\n",
    "    def skills(self):\n",
    "        return ['Wood Cutting', 'Carpentry']\n",
    "    \n",
    "class Mother:\n",
    "    def skills(self):\n",
    "        return ['Cooking', 'Painting']\n",
    "    \n",
    "class Child(Father, Mother):\n",
    "    def skills(self):\n",
    "        return Father.skills(self) + Mother.skills(self) + ['Coding']\n",
    "    \n",
    "print(Child().skills())\n"
   ]
  },
  {
   "cell_type": "code",
   "execution_count": 18,
   "id": "91c2f725",
   "metadata": {},
   "outputs": [
    {
     "name": "stdout",
     "output_type": "stream",
     "text": [
      "Flying int he sky\n",
      "flying in the sky using fuel\n"
     ]
    }
   ],
   "source": [
    "# Polymorphism\n",
    "\n",
    "class Bird:\n",
    "\n",
    "    def fly(self):\n",
    "        return 'Flying int he sky'\n",
    "    \n",
    "class Airplane:\n",
    "    def fly(self):\n",
    "        return 'flying in the sky using fuel'\n",
    "    \n",
    "def flying(obj):\n",
    "    print(obj.fly())\n",
    "\n",
    "b = Bird()\n",
    "a = Airplane()\n",
    "\n",
    "flying(b)\n",
    "flying(a)\n"
   ]
  },
  {
   "cell_type": "code",
   "execution_count": 24,
   "id": "20b68b99",
   "metadata": {},
   "outputs": [],
   "source": [
    "# Abstraction\n",
    "\n",
    "# Cannot create object of abstract class, just need to override abstract methods\n",
    "\n",
    "from abc import abstractmethod, ABC\n",
    "\n",
    "class Shape(ABC):\n",
    "\n",
    "    @abstractmethod\n",
    "    def area(self):\n",
    "        pass\n",
    "\n",
    "class Circle(Shape):\n",
    "    def __init__(self, radius):\n",
    "        self.radius = radius\n",
    "\n",
    "    def area(self):\n",
    "        return 3.14 * self.radius * self.radius\n",
    "    \n",
    "class Square:\n",
    "    def __init__(self, length):\n",
    "        self.length = length\n",
    "\n",
    "    def area(self):\n",
    "        return self.length * self.length\n"
   ]
  },
  {
   "cell_type": "code",
   "execution_count": 21,
   "id": "3c5ddf9d",
   "metadata": {},
   "outputs": [
    {
     "name": "stdout",
     "output_type": "stream",
     "text": [
      "78.5\n"
     ]
    }
   ],
   "source": [
    "c = Circle(5)\n",
    "print(c.area())"
   ]
  },
  {
   "cell_type": "code",
   "execution_count": 25,
   "id": "2f3c67c7",
   "metadata": {},
   "outputs": [
    {
     "name": "stdout",
     "output_type": "stream",
     "text": [
      "25\n"
     ]
    }
   ],
   "source": [
    "print(Square(5).area())"
   ]
  },
  {
   "cell_type": "code",
   "execution_count": 26,
   "id": "d54c1941",
   "metadata": {},
   "outputs": [
    {
     "ename": "TypeError",
     "evalue": "Can't instantiate abstract class Shape without an implementation for abstract method 'area'",
     "output_type": "error",
     "traceback": [
      "\u001b[1;31m---------------------------------------------------------------------------\u001b[0m",
      "\u001b[1;31mTypeError\u001b[0m                                 Traceback (most recent call last)",
      "Cell \u001b[1;32mIn[26], line 1\u001b[0m\n\u001b[1;32m----> 1\u001b[0m \u001b[43mShape\u001b[49m\u001b[43m(\u001b[49m\u001b[43m)\u001b[49m\u001b[38;5;241m.\u001b[39marea()\n",
      "\u001b[1;31mTypeError\u001b[0m: Can't instantiate abstract class Shape without an implementation for abstract method 'area'"
     ]
    }
   ],
   "source": [
    "Shape().area()"
   ]
  },
  {
   "cell_type": "code",
   "execution_count": 30,
   "id": "57eecb9f",
   "metadata": {},
   "outputs": [
    {
     "ename": "TypeError",
     "evalue": "Can't instantiate abstract class Shape without an implementation for abstract method 'area'",
     "output_type": "error",
     "traceback": [
      "\u001b[1;31m---------------------------------------------------------------------------\u001b[0m",
      "\u001b[1;31mTypeError\u001b[0m                                 Traceback (most recent call last)",
      "Cell \u001b[1;32mIn[30], line 1\u001b[0m\n\u001b[1;32m----> 1\u001b[0m \u001b[43mShape\u001b[49m\u001b[43m(\u001b[49m\u001b[43m)\u001b[49m\u001b[38;5;241m.\u001b[39marea()\n",
      "\u001b[1;31mTypeError\u001b[0m: Can't instantiate abstract class Shape without an implementation for abstract method 'area'"
     ]
    }
   ],
   "source": [
    "Shape().area()"
   ]
  },
  {
   "cell_type": "code",
   "execution_count": 31,
   "id": "cf597a49",
   "metadata": {},
   "outputs": [],
   "source": [
    "# Static Methods\n",
    "\n",
    "class Math:\n",
    "    @staticmethod\n",
    "    def add(a, b):\n",
    "        return a + b\n",
    "    \n",
    "    @staticmethod\n",
    "    def multiply(a, b):\n",
    "        return a * b\n"
   ]
  },
  {
   "cell_type": "code",
   "execution_count": 32,
   "id": "5a051132",
   "metadata": {},
   "outputs": [
    {
     "name": "stdout",
     "output_type": "stream",
     "text": [
      "9\n",
      "20\n"
     ]
    }
   ],
   "source": [
    "m = Math()\n",
    "print(m.add(5, 4))\n",
    "print(m.multiply(5, 4))"
   ]
  },
  {
   "cell_type": "code",
   "execution_count": null,
   "id": "288d2383",
   "metadata": {},
   "outputs": [],
   "source": []
  }
 ],
 "metadata": {
  "kernelspec": {
   "display_name": "Python 3",
   "language": "python",
   "name": "python3"
  },
  "language_info": {
   "codemirror_mode": {
    "name": "ipython",
    "version": 3
   },
   "file_extension": ".py",
   "mimetype": "text/x-python",
   "name": "python",
   "nbconvert_exporter": "python",
   "pygments_lexer": "ipython3",
   "version": "3.12.2"
  }
 },
 "nbformat": 4,
 "nbformat_minor": 5
}
