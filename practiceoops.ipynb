{
 "cells": [
  {
   "cell_type": "code",
   "execution_count": 1,
   "id": "ca4f3689",
   "metadata": {},
   "outputs": [
    {
     "name": "stdout",
     "output_type": "stream",
     "text": [
      "John\n",
      "36\n"
     ]
    }
   ],
   "source": [
    "class Person:\n",
    "    def __init__(self, name, age):\n",
    "        self.name = name\n",
    "        self.age = age\n",
    "\n",
    "p1 = Person('John', 36)\n",
    "\n",
    "print(p1.name)\n",
    "print(p1.age)"
   ]
  },
  {
   "cell_type": "code",
   "execution_count": 2,
   "id": "b4e1b3b4",
   "metadata": {},
   "outputs": [
    {
     "name": "stdout",
     "output_type": "stream",
     "text": [
      "<__main__.Person object at 0x000001BA0666BB30>\n"
     ]
    }
   ],
   "source": [
    "class Person:\n",
    "    def __init__(self, name, age):\n",
    "        self.name = name\n",
    "        self.age = age\n",
    "\n",
    "p1 = Person('John', 36)\n",
    "\n",
    "print(p1)"
   ]
  },
  {
   "cell_type": "code",
   "execution_count": 3,
   "id": "306655e7",
   "metadata": {},
   "outputs": [
    {
     "name": "stdout",
     "output_type": "stream",
     "text": [
      "John(36)\n"
     ]
    }
   ],
   "source": [
    "class Person:\n",
    "    def __init__(self, name, age):\n",
    "        self.name = name\n",
    "        self.age = age\n",
    "\n",
    "    def __str__(self):\n",
    "        return f'{self.name}({self.age})'\n",
    "\n",
    "p1 = Person('John', 36)\n",
    "\n",
    "print(p1)"
   ]
  },
  {
   "cell_type": "code",
   "execution_count": 5,
   "id": "fb5f02a3",
   "metadata": {},
   "outputs": [
    {
     "name": "stdout",
     "output_type": "stream",
     "text": [
      "Hello my name is John\n"
     ]
    }
   ],
   "source": [
    "class Person:\n",
    "    def __init__(self, name, age):\n",
    "        self.name = name\n",
    "        self.age = age\n",
    "\n",
    "    def myfunc(self):\n",
    "        print('Hello my name is ' + self.name)\n",
    "\n",
    "p1 = Person('John', 36)\n",
    "\n",
    "p1.myfunc()\n"
   ]
  },
  {
   "cell_type": "code",
   "execution_count": 6,
   "id": "59c27cb7",
   "metadata": {},
   "outputs": [
    {
     "name": "stdout",
     "output_type": "stream",
     "text": [
      "<__main__.Person object at 0x000001BA06669AF0>\n"
     ]
    }
   ],
   "source": [
    "p1.age = 40\n",
    "\n",
    "print(p1)"
   ]
  },
  {
   "cell_type": "code",
   "execution_count": 7,
   "id": "78961ffd",
   "metadata": {},
   "outputs": [
    {
     "ename": "AttributeError",
     "evalue": "'Person' object has no attribute 'age'",
     "output_type": "error",
     "traceback": [
      "\u001b[1;31m---------------------------------------------------------------------------\u001b[0m",
      "\u001b[1;31mAttributeError\u001b[0m                            Traceback (most recent call last)",
      "Cell \u001b[1;32mIn[7], line 3\u001b[0m\n\u001b[0;32m      1\u001b[0m \u001b[38;5;28;01mdel\u001b[39;00m p1\u001b[38;5;241m.\u001b[39mage\n\u001b[1;32m----> 3\u001b[0m \u001b[38;5;28mprint\u001b[39m(\u001b[43mp1\u001b[49m\u001b[38;5;241;43m.\u001b[39;49m\u001b[43mage\u001b[49m)\n",
      "\u001b[1;31mAttributeError\u001b[0m: 'Person' object has no attribute 'age'"
     ]
    }
   ],
   "source": [
    "del p1.age\n",
    "\n",
    "print(p1.age)"
   ]
  },
  {
   "cell_type": "code",
   "execution_count": 8,
   "id": "38dd4188",
   "metadata": {},
   "outputs": [
    {
     "ename": "NameError",
     "evalue": "name 'p1' is not defined",
     "output_type": "error",
     "traceback": [
      "\u001b[1;31m---------------------------------------------------------------------------\u001b[0m",
      "\u001b[1;31mNameError\u001b[0m                                 Traceback (most recent call last)",
      "Cell \u001b[1;32mIn[8], line 3\u001b[0m\n\u001b[0;32m      1\u001b[0m \u001b[38;5;28;01mdel\u001b[39;00m p1\n\u001b[1;32m----> 3\u001b[0m \u001b[38;5;28mprint\u001b[39m(\u001b[43mp1\u001b[49m)\n",
      "\u001b[1;31mNameError\u001b[0m: name 'p1' is not defined"
     ]
    }
   ],
   "source": [
    "del p1\n",
    "\n",
    "print(p1)"
   ]
  },
  {
   "cell_type": "code",
   "execution_count": 12,
   "id": "0f785efb",
   "metadata": {},
   "outputs": [
    {
     "name": "stdout",
     "output_type": "stream",
     "text": [
      "John Doe\n"
     ]
    }
   ],
   "source": [
    "class Person:\n",
    "    def __init__(self, fname, lname):\n",
    "        self.firstname = fname\n",
    "        self.lastname = lname\n",
    "\n",
    "    def printname(self):\n",
    "        print(self.firstname, self.lastname)\n",
    "\n",
    "# Use the Person class to create an object, and then execute the printname method\n",
    "\n",
    "x = Person('John', 'Doe')\n",
    "x.printname()"
   ]
  },
  {
   "cell_type": "code",
   "execution_count": 13,
   "id": "eef41295",
   "metadata": {},
   "outputs": [
    {
     "name": "stdout",
     "output_type": "stream",
     "text": [
      "Mike Olsen\n"
     ]
    }
   ],
   "source": [
    "class Student(Person):\n",
    "    pass\n",
    "\n",
    "x = Student('Mike', 'Olsen')\n",
    "x.printname()"
   ]
  },
  {
   "cell_type": "code",
   "execution_count": 14,
   "id": "7bb839a1",
   "metadata": {},
   "outputs": [
    {
     "name": "stdout",
     "output_type": "stream",
     "text": [
      "Mike Olsen\n"
     ]
    }
   ],
   "source": [
    "class Student(Person):\n",
    "    def __init__(self, fname, lname):\n",
    "        Person.__init__(self, fname, lname)\n",
    "\n",
    "x = Student('Mike', 'Olsen')\n",
    "x.printname()"
   ]
  },
  {
   "cell_type": "code",
   "execution_count": 18,
   "id": "673c9ff8",
   "metadata": {},
   "outputs": [
    {
     "name": "stdout",
     "output_type": "stream",
     "text": [
      "2019\n"
     ]
    }
   ],
   "source": [
    "class Student(Person):\n",
    "    def __init__(self, fname, lname, year):\n",
    "        super().__init__(fname, lname)\n",
    "        self.graduationyear = year\n",
    "\n",
    "x = Student('Mike', 'Olsen', 2019)\n",
    "print(x.graduationyear)"
   ]
  },
  {
   "cell_type": "code",
   "execution_count": 19,
   "id": "0fe7fc4e",
   "metadata": {},
   "outputs": [
    {
     "name": "stdout",
     "output_type": "stream",
     "text": [
      "Welcome Mike Olsen to the class of 2024\n"
     ]
    }
   ],
   "source": [
    "class Person:\n",
    "    def __init__(self, fname, lname):\n",
    "        self.firstname = fname\n",
    "        self.lastname = lname\n",
    "\n",
    "    def printname(self):\n",
    "        print(self.firstname, self.lastname)\n",
    "\n",
    "\n",
    "class Student(Person):\n",
    "    def __init__(self, fname, lname, year):\n",
    "        super().__init__(fname, lname)\n",
    "        self.graduationyear = year\n",
    "\n",
    "    def welcome(self):\n",
    "        print('Welcome', self.firstname, self.lastname, 'to the class of', self.graduationyear)\n",
    "\n",
    "x = Student('Mike', 'Olsen', 2024)\n",
    "x.welcome()"
   ]
  },
  {
   "cell_type": "code",
   "execution_count": 20,
   "id": "18dacf94",
   "metadata": {},
   "outputs": [
    {
     "name": "stdout",
     "output_type": "stream",
     "text": [
      "apple\n",
      "banana\n",
      "cherry\n"
     ]
    }
   ],
   "source": [
    "mytuple = ('apple', 'banana', 'cherry')\n",
    "myit = iter(mytuple)\n",
    "\n",
    "print(next(myit))\n",
    "print(next(myit))\n",
    "print(next(myit))"
   ]
  },
  {
   "cell_type": "code",
   "execution_count": 21,
   "id": "7d90c95d",
   "metadata": {},
   "outputs": [
    {
     "name": "stdout",
     "output_type": "stream",
     "text": [
      "b\n",
      "a\n",
      "n\n",
      "a\n",
      "n\n",
      "a\n"
     ]
    }
   ],
   "source": [
    "mystr = 'banana'\n",
    "myit = iter(mystr)\n",
    "\n",
    "print(next(myit))\n",
    "print(next(myit))\n",
    "print(next(myit))\n",
    "print(next(myit))\n",
    "print(next(myit))\n",
    "print(next(myit))"
   ]
  },
  {
   "cell_type": "code",
   "execution_count": 22,
   "id": "07a6d076",
   "metadata": {},
   "outputs": [
    {
     "name": "stdout",
     "output_type": "stream",
     "text": [
      "apple\n",
      "banana\n",
      "cherry\n"
     ]
    }
   ],
   "source": [
    "mytuple = ('apple', 'banana', 'cherry')\n",
    "\n",
    "for x in mytuple:\n",
    "    print(x)"
   ]
  },
  {
   "cell_type": "code",
   "execution_count": 23,
   "id": "0137e778",
   "metadata": {},
   "outputs": [
    {
     "name": "stdout",
     "output_type": "stream",
     "text": [
      "b\n",
      "a\n",
      "n\n",
      "a\n",
      "n\n",
      "a\n"
     ]
    }
   ],
   "source": [
    "mystr = 'banana'\n",
    "\n",
    "for x in mystr:\n",
    "    print(x)"
   ]
  },
  {
   "cell_type": "code",
   "execution_count": 25,
   "id": "9d26da8c",
   "metadata": {},
   "outputs": [
    {
     "name": "stdout",
     "output_type": "stream",
     "text": [
      "1\n",
      "2\n",
      "3\n",
      "4\n",
      "5\n",
      "6\n"
     ]
    }
   ],
   "source": [
    "class MyNumbers:\n",
    "    def __iter__(self):\n",
    "        self.a = 1\n",
    "        return self\n",
    "\n",
    "    def __next__(self):\n",
    "        x = self.a\n",
    "        self.a += 1\n",
    "        return x\n",
    "\n",
    "myclass = MyNumbers()\n",
    "myiter = iter(myclass)\n",
    "\n",
    "print(next(myiter))\n",
    "print(next(myiter))\n",
    "print(next(myiter))\n",
    "print(next(myiter))\n",
    "print(next(myiter))\n",
    "print(next(myiter))"
   ]
  },
  {
   "cell_type": "code",
   "execution_count": 26,
   "id": "7b727ebb",
   "metadata": {},
   "outputs": [
    {
     "name": "stdout",
     "output_type": "stream",
     "text": [
      "1\n",
      "2\n",
      "3\n",
      "4\n",
      "5\n",
      "6\n",
      "7\n",
      "8\n",
      "9\n",
      "10\n",
      "11\n",
      "12\n",
      "13\n",
      "14\n",
      "15\n",
      "16\n",
      "17\n",
      "18\n",
      "19\n",
      "20\n"
     ]
    }
   ],
   "source": [
    "class MyNumbers:\n",
    "    def __iter__(self):\n",
    "        self.a = 1\n",
    "        return self\n",
    "\n",
    "    def __next__(self):\n",
    "        if self.a <= 20:\n",
    "            x = self.a\n",
    "            self.a += 1\n",
    "            return x\n",
    "        else:\n",
    "            raise StopIteration\n",
    "\n",
    "myclass = MyNumbers()\n",
    "myiter = iter(myclass)\n",
    "\n",
    "for x in myiter:\n",
    "    print(x)"
   ]
  },
  {
   "cell_type": "code",
   "execution_count": 27,
   "id": "338aefb3",
   "metadata": {},
   "outputs": [
    {
     "name": "stdout",
     "output_type": "stream",
     "text": [
      "Drive!\n",
      "Sail!\n",
      "Fly!\n"
     ]
    }
   ],
   "source": [
    "class Car:\n",
    "    def __init__(self, brand, model):\n",
    "        self.brand = brand\n",
    "        self.model = model\n",
    "\n",
    "    def move(self):\n",
    "        print('Drive!')\n",
    "\n",
    "class Boat:\n",
    "    def __init__(self, brand, model):\n",
    "        self.brand = brand\n",
    "        self.model = model\n",
    "\n",
    "    def move(self):\n",
    "        print('Sail!')\n",
    "\n",
    "class Plane:\n",
    "    def __init__(self, brand, model):\n",
    "        self.brand = brand\n",
    "        self.model = model\n",
    "\n",
    "    def move(self):\n",
    "        print('Fly!')\n",
    "\n",
    "car1 = Car('Ford', 'Mustang')\n",
    "boat1 = Boat('Ibiza', 'Touring 20')\n",
    "plane1 = Plane('Boeing', '747')\n",
    "\n",
    "for x in (car1, boat1, plane1):\n",
    "    x.move()\n"
   ]
  },
  {
   "cell_type": "code",
   "execution_count": 28,
   "id": "696b2916",
   "metadata": {},
   "outputs": [
    {
     "name": "stdout",
     "output_type": "stream",
     "text": [
      "Ford\n",
      "Mustang\n",
      "Move!\n",
      "Ibiza\n",
      "touring 20\n",
      "Sail!\n",
      "Boeing\n",
      "747\n",
      "Fly!\n"
     ]
    }
   ],
   "source": [
    "class Vehicle:\n",
    "    def __init__(self, brand, model):\n",
    "        self.brand = brand\n",
    "        self.model = model\n",
    "\n",
    "    def move(self):\n",
    "        print('Move!')\n",
    "\n",
    "class Car(Vehicle):\n",
    "    pass\n",
    "\n",
    "class Boat(Vehicle):\n",
    "    def move(self):\n",
    "        print('Sail!')\n",
    "\n",
    "class Plane(Vehicle):\n",
    "    def move(self):\n",
    "        print('Fly!')\n",
    "\n",
    "car1 = Car('Ford', 'Mustang')\n",
    "boat1 = Boat('Ibiza', 'touring 20')\n",
    "plane1 = Plane('Boeing', '747')\n",
    "\n",
    "for x in (car1, boat1, plane1):\n",
    "    print(x.brand)\n",
    "    print(x.model)\n",
    "    x.move()"
   ]
  },
  {
   "cell_type": "code",
   "execution_count": 29,
   "id": "4e69612f",
   "metadata": {},
   "outputs": [
    {
     "name": "stdout",
     "output_type": "stream",
     "text": [
      "Buddy\n",
      "Canine\n"
     ]
    }
   ],
   "source": [
    "class Dog:\n",
    "    species = 'Canine'\n",
    "\n",
    "    def __init__(self, name, age):\n",
    "        self.name = name\n",
    "        self.age = age\n",
    "\n",
    "dog1 = Dog('Buddy', 3)\n",
    "\n",
    "print(dog1.name)\n",
    "print(dog1.species)"
   ]
  },
  {
   "cell_type": "code",
   "execution_count": 30,
   "id": "cb97299c",
   "metadata": {},
   "outputs": [
    {
     "name": "stdout",
     "output_type": "stream",
     "text": [
      "Buddy 3 Canine\n",
      "Charlie 5 Canine\n",
      "Canine\n"
     ]
    }
   ],
   "source": [
    "dog2 = Dog('Charlie', 5)\n",
    "\n",
    "print(dog1.name, dog1.age, dog1.species)\n",
    "print(dog2.name, dog2.age, dog2.species)\n",
    "\n",
    "print(Dog.species)"
   ]
  },
  {
   "cell_type": "code",
   "execution_count": 31,
   "id": "d7f657e9",
   "metadata": {},
   "outputs": [
    {
     "name": "stdout",
     "output_type": "stream",
     "text": [
      "Buddy\n"
     ]
    }
   ],
   "source": [
    "class Dog:\n",
    "    def __init__(self, name, age):\n",
    "        self.name = name\n",
    "        self.age = age\n",
    "\n",
    "dog1 = Dog('Buddy', 3)\n",
    "print(dog1.name)"
   ]
  },
  {
   "cell_type": "code",
   "execution_count": 32,
   "id": "1ba640d2",
   "metadata": {},
   "outputs": [
    {
     "name": "stdout",
     "output_type": "stream",
     "text": [
      "Max\n"
     ]
    }
   ],
   "source": [
    "dog1.name = 'Max'\n",
    "print(dog1.name)"
   ]
  },
  {
   "cell_type": "code",
   "execution_count": 33,
   "id": "a389716a",
   "metadata": {},
   "outputs": [
    {
     "name": "stdout",
     "output_type": "stream",
     "text": [
      "Feline\n",
      "Canine\n"
     ]
    }
   ],
   "source": [
    "Dog.species = 'Feline'\n",
    "print(dog1.species)\n",
    "print(dog2.species)"
   ]
  },
  {
   "cell_type": "code",
   "execution_count": 34,
   "id": "58bb2202",
   "metadata": {},
   "outputs": [
    {
     "name": "stdout",
     "output_type": "stream",
     "text": [
      "Dog's Name: Buddy\n",
      "Labrador woofs\n",
      "Dog's Name: Max\n",
      "MaxGuides the way!\n",
      "Dog's Name: Charlie\n",
      "Friendly!\n",
      "Golden Retriever Barks\n"
     ]
    }
   ],
   "source": [
    "# Single Inheritance\n",
    "class Dog:\n",
    "    def __init__(self, name):\n",
    "        self.name = name\n",
    "\n",
    "    def display_name(self):\n",
    "        print(f\"Dog's Name: {self.name}\")\n",
    "\n",
    "class Labrador(Dog):  # Single Inheritance\n",
    "    def sound(self):\n",
    "        print('Labrador woofs')\n",
    "\n",
    "# Multilevel Inheritance\n",
    "class GuideDog(Labrador):  # Multilevel Inheritance\n",
    "    def guide(self):\n",
    "        print(f'{self.name}Guides the way!')\n",
    "\n",
    "# Multiple Inheritance\n",
    "class Friendly:\n",
    "    def greet(self):\n",
    "        print('Friendly!')\n",
    "\n",
    "class GoldenRetriever(Dog, Friendly):  # Multiple Inheritance\n",
    "    def sound(self):\n",
    "        print('Golden Retriever Barks')\n",
    "\n",
    "# Example Usage\n",
    "lab = Labrador('Buddy')\n",
    "lab.display_name()\n",
    "lab.sound()\n",
    "\n",
    "guide_dog = GuideDog('Max')\n",
    "guide_dog.display_name()\n",
    "guide_dog.guide()\n",
    "\n",
    "retriever = GoldenRetriever('Charlie')\n",
    "retriever.display_name()\n",
    "retriever.greet()\n",
    "retriever.sound()"
   ]
  },
  {
   "cell_type": "code",
   "execution_count": 35,
   "id": "c29aab2a",
   "metadata": {},
   "outputs": [
    {
     "name": "stdout",
     "output_type": "stream",
     "text": [
      "Smartphone of Samsung supports Android 14\n"
     ]
    }
   ],
   "source": [
    "class Smartphone:\n",
    "    def __init__(self, device, brand):\n",
    "        self.device = device\n",
    "        self.brand = brand\n",
    "\n",
    "    def description(self):\n",
    "        return f'{self.device} of {self.brand} supports Android 14'\n",
    "        \n",
    "        \n",
    "phoneObj = Smartphone('Smartphone', 'Samsung')\n",
    "print(phoneObj.description())"
   ]
  },
  {
   "cell_type": "code",
   "execution_count": 36,
   "id": "36328513",
   "metadata": {},
   "outputs": [
    {
     "name": "stdout",
     "output_type": "stream",
     "text": [
      "Selling Price: 25000\n",
      "Selling Price: 25000\n",
      "Selling Price: 35000\n"
     ]
    }
   ],
   "source": [
    "class Desktop:\n",
    "    def __init__(self):\n",
    "        self.__max_price = 25000\n",
    "\n",
    "    def sell(self):\n",
    "        return f'Selling Price: {self.__max_price}'\n",
    "\n",
    "    def set_max_price(self, price):\n",
    "        if price > self.__max_price:\n",
    "            self.__max_price = price\n",
    "\n",
    "\n",
    "desktopObj = Desktop()\n",
    "print(desktopObj.sell())\n",
    "\n",
    "desktopObj.__max_price = 35000\n",
    "print(desktopObj.sell())\n",
    "\n",
    "desktopObj.set_max_price(35000)\n",
    "print(desktopObj.sell())"
   ]
  },
  {
   "cell_type": "code",
   "execution_count": 2,
   "id": "f6b1f8fe",
   "metadata": {},
   "outputs": [
    {
     "name": "stdout",
     "output_type": "stream",
     "text": [
      "Calling child constructor\n",
      "Calling child method\n",
      "Calling parent method\n",
      "Parent attribute : 200\n"
     ]
    }
   ],
   "source": [
    "class Parent:\n",
    "    parentAtttr = 100\n",
    "    def __init__(self):\n",
    "        print('Calling parent constructor')\n",
    "\n",
    "    def parentMethod(self):\n",
    "        print('Calling parent method')\n",
    "\n",
    "    def setAttr(self, attr):\n",
    "        Parent.parentAttr = attr\n",
    "\n",
    "    def getAttr(self):\n",
    "        print('Parent attribute :', Parent.parentAttr)\n",
    "\n",
    "# define cjild class\n",
    "class Child(Parent):\n",
    "    def __init__(self):\n",
    "        print('Calling child constructor')\n",
    "\n",
    "    def childMethod(self):\n",
    "        print('Calling child method')\n",
    "\n",
    "\n",
    "# instance of child\n",
    "c = Child()\n",
    "\n",
    "# child calls its method\n",
    "c.childMethod()\n",
    "\n",
    "# calls parent's method\n",
    "c.parentMethod()\n",
    "\n",
    "# again call parent's method\n",
    "c.setAttr(200)\n",
    "\n",
    "# again call parent's method\n",
    "c.getAttr()"
   ]
  },
  {
   "cell_type": "code",
   "execution_count": 3,
   "id": "1f0b7d2b",
   "metadata": {},
   "outputs": [
    {
     "name": "stdout",
     "output_type": "stream",
     "text": [
      "Calling child method\n"
     ]
    }
   ],
   "source": [
    "# define parent class\n",
    "\n",
    "class Parent:\n",
    "    def myMethod(self):\n",
    "        print('Calling parentmethod')\n",
    "\n",
    "# define child class\n",
    "class Child(Parent):\n",
    "    def myMethod(self):\n",
    "        print('Calling child method')\n",
    "\n",
    "# instance of child\n",
    "c = Child()\n",
    "\n",
    "# child calls overriden method\n",
    "c.myMethod()"
   ]
  },
  {
   "cell_type": "code",
   "execution_count": null,
   "id": "3d2e00cd",
   "metadata": {},
   "outputs": [],
   "source": []
  },
  {
   "cell_type": "markdown",
   "id": "0bb24c69",
   "metadata": {},
   "source": [
    "# 1. __init__(self[,args...])\n",
    "Constructor (with any optional arguments)\n",
    "Sample Call: obj = className(args)"
   ]
  },
  {
   "cell_type": "code",
   "execution_count": 5,
   "id": "22aadb89",
   "metadata": {},
   "outputs": [
    {
     "name": "stdout",
     "output_type": "stream",
     "text": [
      "Vector (7, 8)\n"
     ]
    }
   ],
   "source": [
    "class Vector:\n",
    "    def __init__(self, a, b):\n",
    "        self.a = a\n",
    "        self.b = b\n",
    "\n",
    "    def __str__(self):\n",
    "        return 'Vector (%d, %d)' % (self.a, self.b)\n",
    "    \n",
    "    def __add__(self, other):\n",
    "        return Vector(self.a + other.a, self.b + other.b)\n",
    "    \n",
    "\n",
    "v1 = Vector(2, 10)\n",
    "v2 = Vector(5, -2)\n",
    "\n",
    "print(v1 + v2)"
   ]
  },
  {
   "cell_type": "code",
   "execution_count": 6,
   "id": "3215314f",
   "metadata": {},
   "outputs": [],
   "source": [
    "class Employee:\n",
    "    'Common base class for all employees'\n",
    "    empCount = 0\n",
    "\n",
    "    def __init__(self, name, salary):\n",
    "        self.name = name\n",
    "        self.salary = salary\n",
    "        Employee.empCount += 1\n",
    "\n",
    "    def displayCount(self):\n",
    "        print ('Total employee %d' % Employee.empCount)\n",
    "\n",
    "    def displayEmployee(self):\n",
    "        print('Name : ', self.name, ', Salary: ', self.salary)\n",
    "\n",
    "    "
   ]
  },
  {
   "cell_type": "code",
   "execution_count": 7,
   "id": "6ffa8f57",
   "metadata": {},
   "outputs": [],
   "source": [
    "emp1 = Employee('Zara', 2000)\n",
    "emp2 = Employee('Manni', 5000)"
   ]
  },
  {
   "cell_type": "code",
   "execution_count": 8,
   "id": "ce89cc11",
   "metadata": {},
   "outputs": [
    {
     "name": "stdout",
     "output_type": "stream",
     "text": [
      "Name :  Zara , Salary:  2000\n",
      "Name :  Manni , Salary:  5000\n",
      "Total employee 2\n"
     ]
    }
   ],
   "source": [
    "emp1.displayEmployee()\n",
    "emp2.displayEmployee()\n",
    "print('Total employee %d' % Employee.empCount)"
   ]
  },
  {
   "cell_type": "code",
   "execution_count": 11,
   "id": "65d16585",
   "metadata": {},
   "outputs": [],
   "source": [
    "emp1.age = 7\n",
    "emp1.age = 8\n"
   ]
  },
  {
   "cell_type": "code",
   "execution_count": 12,
   "id": "a0450019",
   "metadata": {},
   "outputs": [],
   "source": [
    "hasattr(emp1, 'age')\n",
    "\n",
    "getattr(emp1, 'age')\n",
    "\n",
    "setattr(emp1, 'age', 8)\n",
    "\n",
    "delattr(emp1, 'age')"
   ]
  },
  {
   "cell_type": "code",
   "execution_count": 14,
   "id": "b0b753a0",
   "metadata": {},
   "outputs": [
    {
     "name": "stdout",
     "output_type": "stream",
     "text": [
      "Employee.__doc__: Common base class for all employees\n",
      "Employee.__name__: Employee\n",
      "Employee.__module__: __main__\n",
      "Employee.__bases__: (<class 'object'>,)\n",
      "Employee.__dict__: {'__module__': '__main__', '__doc__': 'Common base class for all employees', 'empCount': 0, '__init__': <function Employee.__init__ at 0x00000226231A9C60>, 'displayCount': <function Employee.displayCount at 0x00000226231AA980>, 'displayEmployee': <function Employee.displayEmployee at 0x00000226231A9EE0>, '__dict__': <attribute '__dict__' of 'Employee' objects>, '__weakref__': <attribute '__weakref__' of 'Employee' objects>}\n"
     ]
    }
   ],
   "source": [
    "class Employee:\n",
    "    'Common base class for all employees'\n",
    "    empCount = 0\n",
    "\n",
    "    def __init__(self, name, salary):\n",
    "        self.name = name\n",
    "        self.salary = salary\n",
    "        Employee.empCount += 1\n",
    "\n",
    "    def displayCount(self):\n",
    "        print('total Employee %d' % Employee.empCount)\n",
    "\n",
    "    def displayEmployee(self):\n",
    "        print('Nmae : ', self.name, ', Salary: ', self.salary)\n",
    "\n",
    "\n",
    "print('Employee.__doc__:', Employee.__doc__)\n",
    "print('Employee.__name__:', Employee.__name__)\n",
    "print('Employee.__module__:', Employee.__module__)\n",
    "print('Employee.__bases__:', Employee.__bases__)\n",
    "print('Employee.__dict__:', Employee.__dict__)\n"
   ]
  },
  {
   "cell_type": "code",
   "execution_count": 15,
   "id": "847ab426",
   "metadata": {},
   "outputs": [
    {
     "name": "stdout",
     "output_type": "stream",
     "text": [
      "<class 'function'>\n"
     ]
    }
   ],
   "source": [
    "def SayHello():\n",
    "    print('Hello world')\n",
    "    return\n",
    "print(type(SayHello))"
   ]
  },
  {
   "cell_type": "code",
   "execution_count": 1,
   "id": "f4ba42cb",
   "metadata": {},
   "outputs": [],
   "source": [
    "# CReate object <40>\n",
    "a = 40\n",
    "# # Increase ref. count of <40>\n",
    "b = a\n",
    "# Increase ref. count of <40>\n",
    "c = [b]\n",
    "\n",
    "del a\n",
    "\n",
    "# Decrease ref. count of <40>\n",
    "b = 100\n",
    "\n",
    "# Decrease ref. count of <40>\n",
    "c[0] = -1"
   ]
  },
  {
   "cell_type": "code",
   "execution_count": 2,
   "id": "801adedf",
   "metadata": {},
   "outputs": [
    {
     "name": "stdout",
     "output_type": "stream",
     "text": [
      "2305121327232 2305121327232 2305121327232\n",
      "Point destroyed\n"
     ]
    }
   ],
   "source": [
    "class Point:\n",
    "\n",
    "    def __init__(self, x=0, y=0):\n",
    "        self.x = x\n",
    "        self.y = y\n",
    "\n",
    "    def __del__(self):\n",
    "        class_name = self.__class__.__name__\n",
    "        print(class_name, 'destroyed')\n",
    "\n",
    "pt1 = Point()\n",
    "pt2 = pt1\n",
    "pt3 = pt1\n",
    "\n",
    "# prints the ids of the objects\n",
    "print(id(pt1), id(pt2), id(pt3))\n",
    "del pt1\n",
    "del pt2\n",
    "del pt3\n",
    "\n",
    "    \n"
   ]
  },
  {
   "cell_type": "code",
   "execution_count": 8,
   "id": "58d9bf75",
   "metadata": {},
   "outputs": [
    {
     "name": "stdout",
     "output_type": "stream",
     "text": [
      "1\n",
      "2\n",
      "2\n"
     ]
    }
   ],
   "source": [
    "class JustCounter:\n",
    "    __secretCount = 0\n",
    "\n",
    "    def count(self):\n",
    "        self.__secretCount += 1\n",
    "        print(self.__secretCount)\n",
    "\n",
    "counter = JustCounter()\n",
    "counter.count()\n",
    "counter.count()\n",
    "print(counter._JustCounter__secretCount)\n"
   ]
  },
  {
   "cell_type": "code",
   "execution_count": 9,
   "id": "02015c32",
   "metadata": {},
   "outputs": [
    {
     "name": "stdout",
     "output_type": "stream",
     "text": [
      "Name of the Employee: Bhavesh Aggarwal\n",
      "age of the employee: 30\n"
     ]
    }
   ],
   "source": [
    "class Employee:\n",
    "    name = 'Bhavesh Aggarwal'\n",
    "    age = '30'\n",
    "\n",
    "# instance of the class\n",
    "emp = Employee()\n",
    "\n",
    "# accessing class attributes\n",
    "print('Name of the Employee:', emp.name)\n",
    "print('age of the employee:', emp.age)"
   ]
  },
  {
   "cell_type": "code",
   "execution_count": 10,
   "id": "5e946190",
   "metadata": {},
   "outputs": [
    {
     "name": "stdout",
     "output_type": "stream",
     "text": [
      "Name: Bhavana , Age:  24\n",
      "employee Count: 1\n",
      "\n",
      "Name: Rajesh , Age:  26\n",
      "employee Count: 2\n"
     ]
    }
   ],
   "source": [
    "class Employee:\n",
    "    # class attribute\n",
    "    empCount = 0\n",
    "\n",
    "    def __init__(self, name, age):\n",
    "        self.__name = name\n",
    "        self.__age = age\n",
    "\n",
    "        # Modifying class attributes\n",
    "        Employee.empCount += 1\n",
    "        print('Name:', self.__name, ', Age: ', self.__age)\n",
    "        # accessing class attribute\n",
    "        print('employee Count:', Employee.empCount)\n",
    "\n",
    "e1 = Employee('Bhavana', 24)\n",
    "print()\n",
    "e2 = Employee('Rajesh', 26)\n",
    "\n",
    "    "
   ]
  },
  {
   "cell_type": "code",
   "execution_count": 11,
   "id": "9a18f66a",
   "metadata": {},
   "outputs": [
    {
     "name": "stdout",
     "output_type": "stream",
     "text": [
      "Employee.__doc__: None\n",
      "Employee.__name__: Employee\n",
      "Employee.__module__: __main__\n",
      "Employee.__bases__: (<class 'object'>,)\n",
      "Employee.__dict__:\", Employee.__dict__)\n"
     ]
    }
   ],
   "source": [
    "class Employee:\n",
    "\n",
    "    def __init__(self, name='Bhavana', age=24):\n",
    "        self.name = name\n",
    "        self.age = age\n",
    "\n",
    "    def displayEmployee(self):\n",
    "        print('Nmae : ', self.name, ', age: ', self.age)\n",
    "\n",
    "print('Employee.__doc__:', Employee.__doc__)\n",
    "print('Employee.__name__:', Employee.__name__)\n",
    "print('Employee.__module__:', Employee.__module__)\n",
    "print('Employee.__bases__:', Employee.__bases__)\n",
    "print('Employee.__dict__:\", Employee.__dict__)')\n"
   ]
  },
  {
   "cell_type": "code",
   "execution_count": 13,
   "id": "69358d3a",
   "metadata": {},
   "outputs": [
    {
     "name": "stdout",
     "output_type": "stream",
     "text": [
      "Name: Ram , Grade: B\n",
      "Name: Shyam , Grade: C\n"
     ]
    }
   ],
   "source": [
    "class Student:\n",
    "\n",
    "    def __init__(self, name, grade):\n",
    "        self.__name = name\n",
    "        self.__grade = grade\n",
    "        print('Name:', self.__name, ', Grade:', self.__grade)\n",
    "\n",
    "# Creating instances\n",
    "student1 = Student('Ram', 'B')\n",
    "student2 = Student('Shyam', 'C')"
   ]
  },
  {
   "cell_type": "code",
   "execution_count": 16,
   "id": "d3cc7f8a",
   "metadata": {},
   "outputs": [
    {
     "name": "stdout",
     "output_type": "stream",
     "text": [
      "3\n",
      "3\n"
     ]
    }
   ],
   "source": [
    "class Employee:\n",
    "    empCount = 0\n",
    "\n",
    "    def __init__(self, name, age):\n",
    "        self.__name = name\n",
    "        self.__age = age\n",
    "        Employee.empCount += 1\n",
    "\n",
    "    def showcount(self):\n",
    "        print(self.empCount)\n",
    "\n",
    "    counter = classmethod(showcount)\n",
    "\n",
    "e1 = Employee('Bhavana', 24)\n",
    "e2 = Employee('Rajesh', 26)\n",
    "e3 = Employee('John', 27)\n",
    "\n",
    "e1.showcount()\n",
    "Employee.counter()"
   ]
  },
  {
   "cell_type": "code",
   "execution_count": 17,
   "id": "570063e3",
   "metadata": {},
   "outputs": [
    {
     "name": "stdout",
     "output_type": "stream",
     "text": [
      "4\n"
     ]
    }
   ],
   "source": [
    "class Employee:\n",
    "    empCount = 0\n",
    "\n",
    "    def __init__(self, name, age):\n",
    "        self.name = name\n",
    "        self.age = age\n",
    "        Employee.empCount += 1\n",
    "\n",
    "    @classmethod\n",
    "    def showcount(cls):\n",
    "        print(cls.empCount)\n",
    "\n",
    "    @classmethod\n",
    "    def newemployee(cls, name, age):\n",
    "        return cls(name, age)\n",
    "    \n",
    "e1 = Employee('Bhavana', 24)\n",
    "e2 = Employee('Rajesh', 26)\n",
    "e3 = Employee('Johm', 27)\n",
    "e4 = Employee.newemployee('Anil', 21)\n",
    "\n",
    "Employee.showcount()"
   ]
  },
  {
   "cell_type": "code",
   "execution_count": 18,
   "id": "df6742c9",
   "metadata": {},
   "outputs": [
    {
     "name": "stdout",
     "output_type": "stream",
     "text": [
      "4000\n"
     ]
    }
   ],
   "source": [
    "class Cloth:\n",
    "    # Class attribute\n",
    "    price = 4000\n",
    "\n",
    "    @classmethod\n",
    "    def showPrice(cls):\n",
    "        return cls.price\n",
    "    \n",
    "# Accessing class attribute\n",
    "print(Cloth.showPrice())"
   ]
  },
  {
   "cell_type": "code",
   "execution_count": 19,
   "id": "0dbb4283",
   "metadata": {},
   "outputs": [
    {
     "name": "stdout",
     "output_type": "stream",
     "text": [
      "Name of the brand is Raymond\n"
     ]
    }
   ],
   "source": [
    "class Cloth:\n",
    "    pass\n",
    "\n",
    "# class method\n",
    "@classmethod\n",
    "def brandName(cls):\n",
    "    print('Name of the brand is Raymond')\n",
    "\n",
    "# adding dynamically\n",
    "setattr(Cloth, 'brand_name', brandName)\n",
    "newObj = Cloth()\n",
    "newObj.brand_name()"
   ]
  },
  {
   "cell_type": "code",
   "execution_count": 20,
   "id": "df685b86",
   "metadata": {},
   "outputs": [
    {
     "ename": "AttributeError",
     "evalue": "type object 'Cloth' has no attribute 'brandName'",
     "output_type": "error",
     "traceback": [
      "\u001b[1;31m---------------------------------------------------------------------------\u001b[0m",
      "\u001b[1;31mAttributeError\u001b[0m                            Traceback (most recent call last)",
      "Cell \u001b[1;32mIn[20], line 1\u001b[0m\n\u001b[1;32m----> 1\u001b[0m \u001b[38;5;28;01mdel\u001b[39;00m \u001b[43mCloth\u001b[49m\u001b[38;5;241;43m.\u001b[39;49m\u001b[43mbrandName\u001b[49m\n\u001b[0;32m      2\u001b[0m \u001b[38;5;28mprint\u001b[39m(\u001b[38;5;124m'\u001b[39m\u001b[38;5;124mMethod deleted\u001b[39m\u001b[38;5;124m'\u001b[39m)\n",
      "\u001b[1;31mAttributeError\u001b[0m: type object 'Cloth' has no attribute 'brandName'"
     ]
    }
   ],
   "source": [
    "del Cloth.brandName\n",
    "print('Method deleted')"
   ]
  },
  {
   "cell_type": "code",
   "execution_count": 21,
   "id": "321de853",
   "metadata": {},
   "outputs": [
    {
     "name": "stdout",
     "output_type": "stream",
     "text": [
      "3\n",
      "3\n"
     ]
    }
   ],
   "source": [
    "class Employee:\n",
    "    empCount = 0\n",
    "\n",
    "    def __init__(self, name, age):\n",
    "        self.name = name\n",
    "        self.age = age\n",
    "        Employee.empCount += 1\n",
    "\n",
    "    # creating static method\n",
    "    def showcount():\n",
    "        print(Employee.empCount)\n",
    "        return\n",
    "    counter = staticmethod(showcount)\n",
    "\n",
    "e1 = Employee('Bhavana', 24)\n",
    "e2 = Employee('Rajesh', 26)\n",
    "e3 = Employee('John', 27)\n",
    "\n",
    "e1.counter()\n",
    "Employee.counter()"
   ]
  },
  {
   "cell_type": "code",
   "execution_count": null,
   "id": "78cf4c3d",
   "metadata": {},
   "outputs": [],
   "source": []
  }
 ],
 "metadata": {
  "kernelspec": {
   "display_name": "Python 3",
   "language": "python",
   "name": "python3"
  },
  "language_info": {
   "codemirror_mode": {
    "name": "ipython",
    "version": 3
   },
   "file_extension": ".py",
   "mimetype": "text/x-python",
   "name": "python",
   "nbconvert_exporter": "python",
   "pygments_lexer": "ipython3",
   "version": "3.12.2"
  }
 },
 "nbformat": 4,
 "nbformat_minor": 5
}
