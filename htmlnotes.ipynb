{
 "cells": [
  {
   "cell_type": "markdown",
   "id": "68278858",
   "metadata": {},
   "source": [
    "# Django\n",
    "- web framework\n",
    "\n",
    "1. Web(web application, website)\n",
    "\n",
    "Browser -------> skilltrainingnepal.com ---------->(Request) ---------->"
   ]
  }
 ],
 "metadata": {
  "language_info": {
   "name": "python"
  }
 },
 "nbformat": 4,
 "nbformat_minor": 5
}
