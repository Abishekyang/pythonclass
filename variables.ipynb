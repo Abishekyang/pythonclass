{
 "cells": [
  {
   "cell_type": "code",
   "execution_count": null,
   "id": "eed90ced-3dba-4f30-860b-ef6471bebf0e",
   "metadata": {},
   "outputs": [],
   "source": [
    "#keywords,  identifiers and variables\n",
    "keywords: Reserved words tht have a specific meaning, 35 keywords\n",
    "Identifiers: User define names to represent a variable, class or any object\n",
    "Naming conventions for identifiers:\n",
    "-lowercase ( a to ) and uppercase letters (A to )\n",
    "- digits (0 to 9)\n",
    "-Underscore (_)\n",
    "-Can not use any other special characters\n",
    "- Can not start with digits\n",
    "- Should not use keywords as identifers\n",
    "\n",
    "Variables: Represent an entity whose value can change"
   ]
  },
  {
   "cell_type": "markdown",
   "id": "fee20473-ec53-43a1-bee7-1a4a30e618ee",
   "metadata": {},
   "source": []
  },
  {
   "cell_type": "code",
   "execution_count": 9,
   "id": "03c7cd04-bb79-42d8-b494-8c341594115d",
   "metadata": {},
   "outputs": [
    {
     "name": "stdout",
     "output_type": "stream",
     "text": [
      "['False', 'None', 'True', 'and', 'as', 'assert', 'async', 'await', 'break', 'class', 'continue', 'def', 'del', 'elif', 'else', 'except', 'finally', 'for', 'from', 'global', 'if', 'import', 'in', 'is', 'lambda', 'nonlocal', 'not', 'or', 'pass', 'raise', 'return', 'try', 'while', 'with', 'yield']\n",
      "35\n"
     ]
    }
   ],
   "source": [
    "import keyword\n",
    "print(keyword.kwlist)\n",
    "print(len(keyword.kwlist))\n"
   ]
  },
  {
   "cell_type": "markdown",
   "id": "37f0ed1f-c565-4a93-b12e-54ab1c6b112c",
   "metadata": {},
   "source": [
    "name = "
   ]
  },
  {
   "cell_type": "code",
   "execution_count": null,
   "id": "91eaeffc-e4a9-4a17-a1ab-3f8471e63eb0",
   "metadata": {},
   "outputs": [],
   "source": [
    "name = 'Hari'"
   ]
  },
  {
   "cell_type": "code",
   "execution_count": 15,
   "id": "0d507561-4098-4274-97b4-d5911583605b",
   "metadata": {},
   "outputs": [],
   "source": [
    "# 3name = 'Ram' : cannot use\n",
    "\n",
    "name3 = 'Ram'\n",
    "_name = 'Ram'\n",
    "Name = 'Shyam'"
   ]
  },
  {
   "cell_type": "code",
   "execution_count": 17,
   "id": "2d185695-14d5-418c-8672-2890b3cba3f2",
   "metadata": {},
   "outputs": [
    {
     "name": "stdout",
     "output_type": "stream",
     "text": [
      "Ram Shyam\n"
     ]
    }
   ],
   "source": [
    "print(name3, Name)\n"
   ]
  },
  {
   "cell_type": "code",
   "execution_count": 18,
   "id": "0c71ce0b-5288-4100-b5da-c90a9aa763c2",
   "metadata": {},
   "outputs": [
    {
     "data": {
      "text/plain": [
       "'Radha'"
      ]
     },
     "execution_count": 18,
     "metadata": {},
     "output_type": "execute_result"
    }
   ],
   "source": [
    "name = 'Radha'\n",
    "name"
   ]
  },
  {
   "cell_type": "code",
   "execution_count": 19,
   "id": "06e8d4a0-1ac1-41ee-9f8b-d1b22296a593",
   "metadata": {},
   "outputs": [
    {
     "data": {
      "text/plain": [
       "'Radha'"
      ]
     },
     "execution_count": 19,
     "metadata": {},
     "output_type": "execute_result"
    }
   ],
   "source": [
    "name"
   ]
  },
  {
   "cell_type": "code",
   "execution_count": 20,
   "id": "0d8e3bb8-1543-4f22-97c7-2ab426fb7c3f",
   "metadata": {},
   "outputs": [],
   "source": [
    "a, b, c, d = (3, 4 , 5, 6)"
   ]
  },
  {
   "cell_type": "code",
   "execution_count": 21,
   "id": "36b3ff30-a464-480b-a48c-665d5a23ac1c",
   "metadata": {},
   "outputs": [
    {
     "name": "stdout",
     "output_type": "stream",
     "text": [
      "3 4 5 6\n"
     ]
    }
   ],
   "source": [
    "print(a, b, c, d)"
   ]
  },
  {
   "cell_type": "markdown",
   "id": "f533c1af-669d-4e31-8d8d-94faaa6f5b4d",
   "metadata": {},
   "source": [
    "sum_of_numbers   # Snake Case\n",
    "sumOfNumbers    # Camel Case\n",
    "SumOfNumbers   # Pascal Case\n",
    "\n",
    "Snake Case: variables, functions\n",
    "Pascal Case: Class"
   ]
  },
  {
   "cell_type": "code",
   "execution_count": 22,
   "id": "e1b2968f-7bda-46e9-ba95-6045bc329e56",
   "metadata": {},
   "outputs": [
    {
     "data": {
      "text/plain": [
       "'STN'"
      ]
     },
     "execution_count": 22,
     "metadata": {},
     "output_type": "execute_result"
    }
   ],
   "source": [
    "p = 'STN'\n",
    "p"
   ]
  },
  {
   "cell_type": "code",
   "execution_count": 23,
   "id": "ece1cb13-a80a-4806-8b00-2bd31f7f12c3",
   "metadata": {},
   "outputs": [
    {
     "data": {
      "text/plain": [
       "5"
      ]
     },
     "execution_count": 23,
     "metadata": {},
     "output_type": "execute_result"
    }
   ],
   "source": [
    "p = 5\n",
    "p"
   ]
  },
  {
   "cell_type": "code",
   "execution_count": 24,
   "id": "b4e0284f-2292-4d18-94d8-f23d1ae843f4",
   "metadata": {},
   "outputs": [
    {
     "data": {
      "text/plain": [
       "5.5"
      ]
     },
     "execution_count": 24,
     "metadata": {},
     "output_type": "execute_result"
    }
   ],
   "source": [
    "p = 5.5\n",
    "p"
   ]
  },
  {
   "cell_type": "code",
   "execution_count": 25,
   "id": "7a94ddb7-a17d-4e46-9311-78954eb861a2",
   "metadata": {},
   "outputs": [
    {
     "data": {
      "text/plain": [
       "('Radha', 'Hari')"
      ]
     },
     "execution_count": 25,
     "metadata": {},
     "output_type": "execute_result"
    }
   ],
   "source": [
    "p, q = name, 'Hari'\n",
    "p, q\n"
   ]
  },
  {
   "cell_type": "code",
   "execution_count": 28,
   "id": "d4add648-e6c2-4eba-ba22-1fe5396bea88",
   "metadata": {},
   "outputs": [
    {
     "name": "stdout",
     "output_type": "stream",
     "text": [
      "<class 'str'>\n"
     ]
    }
   ],
   "source": [
    "name = 'Sita'\n",
    "type(name)\n",
    "print(type(name))\n"
   ]
  },
  {
   "cell_type": "code",
   "execution_count": 29,
   "id": "4c36a131-1413-4bc7-8d8b-088a3e31f3a3",
   "metadata": {},
   "outputs": [
    {
     "name": "stdout",
     "output_type": "stream",
     "text": [
      "<class 'int'>\n"
     ]
    }
   ],
   "source": [
    "num = 6\n",
    "print(type(num))"
   ]
  },
  {
   "cell_type": "code",
   "execution_count": 30,
   "id": "7ca12671-a421-4477-a560-2b7895ae69b3",
   "metadata": {},
   "outputs": [
    {
     "name": "stdout",
     "output_type": "stream",
     "text": [
      "<class 'float'>\n"
     ]
    }
   ],
   "source": [
    "num1 = 6.5\n",
    "print(type(num1))"
   ]
  },
  {
   "cell_type": "code",
   "execution_count": 31,
   "id": "38a41864-87a0-4cf0-b426-29c3af08d36c",
   "metadata": {},
   "outputs": [
    {
     "name": "stdout",
     "output_type": "stream",
     "text": [
      "<class 'int'>\n"
     ]
    }
   ],
   "source": [
    "name = 7\n",
    "print(type(name))"
   ]
  },
  {
   "cell_type": "code",
   "execution_count": 34,
   "id": "fd4e34f3-e782-401d-a73d-e2758770b81a",
   "metadata": {},
   "outputs": [
    {
     "name": "stdout",
     "output_type": "stream",
     "text": [
      "<class 'bool'>\n",
      "<class 'bool'>\n"
     ]
    }
   ],
   "source": [
    "print(type(True))\n",
    "print(type(False))"
   ]
  },
  {
   "cell_type": "code",
   "execution_count": 35,
   "id": "893db44d-911f-4121-b052-6f911a198691",
   "metadata": {},
   "outputs": [
    {
     "name": "stdout",
     "output_type": "stream",
     "text": [
      "<class 'tuple'>\n"
     ]
    }
   ],
   "source": [
    "numbers = (3, 4, 5, 6)\n",
    "print(type(numbers))\n"
   ]
  },
  {
   "cell_type": "code",
   "execution_count": 36,
   "id": "aa0efbfd-ae0e-4506-8944-41226d287a80",
   "metadata": {},
   "outputs": [
    {
     "name": "stdout",
     "output_type": "stream",
     "text": [
      "<class 'list'>\n"
     ]
    }
   ],
   "source": [
    "numbers = [3, 4, 5, 6]\n",
    "print(type(numbers))\n",
    "           "
   ]
  },
  {
   "cell_type": "code",
   "execution_count": 39,
   "id": "8141244a-9aa8-4fbd-8b27-f20f811f3bdc",
   "metadata": {},
   "outputs": [
    {
     "name": "stdout",
     "output_type": "stream",
     "text": [
      "<class 'set'>\n",
      "{3, 4, 5, 6}\n"
     ]
    }
   ],
   "source": [
    "numbers = {3, 4, 5, 6, 3, 4}\n",
    "print(type(numbers))\n",
    "print(numbers)"
   ]
  },
  {
   "cell_type": "code",
   "execution_count": null,
   "id": "9d95031e-f7b3-4ff9-954e-63cf9e1157a4",
   "metadata": {},
   "outputs": [],
   "source": []
  },
  {
   "cell_type": "code",
   "execution_count": 42,
   "id": "852e35f9-1c86-4163-b6ac-7edd40595133",
   "metadata": {},
   "outputs": [
    {
     "name": "stdout",
     "output_type": "stream",
     "text": [
      "<class 'dict'>\n"
     ]
    }
   ],
   "source": [
    "numbers = {\n",
    "   3: 'Three', \n",
    "   4: 'Four', \n",
    "   5: 'five', \n",
    "   6: 'Six'\n",
    "  }\n",
    "# key value pair\n",
    "print(type(numbers))"
   ]
  },
  {
   "cell_type": "code",
   "execution_count": 57,
   "id": "991c6e45-1b94-4f4a-bbc9-bd4fa6cad164",
   "metadata": {},
   "outputs": [
    {
     "data": {
      "text/plain": [
       "dict_keys([3, 4, 5, 6])"
      ]
     },
     "execution_count": 57,
     "metadata": {},
     "output_type": "execute_result"
    }
   ],
   "source": [
    "numbers.keys()"
   ]
  },
  {
   "cell_type": "code",
   "execution_count": 58,
   "id": "64a85730-383f-4502-baab-8248f990952c",
   "metadata": {},
   "outputs": [
    {
     "data": {
      "text/plain": [
       "dict_values(['Three', 'Four', 'five', 'Six'])"
      ]
     },
     "execution_count": 58,
     "metadata": {},
     "output_type": "execute_result"
    }
   ],
   "source": [
    "numbers.values()"
   ]
  },
  {
   "cell_type": "code",
   "execution_count": 59,
   "id": "0457e7c0-d2a6-4c59-87f4-401cb716ffe3",
   "metadata": {},
   "outputs": [
    {
     "data": {
      "text/plain": [
       "'Three'"
      ]
     },
     "execution_count": 59,
     "metadata": {},
     "output_type": "execute_result"
    }
   ],
   "source": [
    "numbers[3]"
   ]
  },
  {
   "cell_type": "code",
   "execution_count": 44,
   "id": "33669674-86dc-447d-949b-cc4ffcb2c516",
   "metadata": {},
   "outputs": [
    {
     "data": {
      "text/plain": [
       "'Skill Training Nepal'"
      ]
     },
     "execution_count": 44,
     "metadata": {},
     "output_type": "execute_result"
    }
   ],
   "source": [
    "For = 'Skill Training Nepal'\n",
    "For"
   ]
  },
  {
   "cell_type": "code",
   "execution_count": 49,
   "id": "37df8500-9795-4b34-816a-0956564a7057",
   "metadata": {},
   "outputs": [
    {
     "name": "stdout",
     "output_type": "stream",
     "text": [
      "S\n",
      "20\n",
      "l\n",
      "l\n"
     ]
    }
   ],
   "source": [
    "# String slicings\n",
    "print(For[0])\n",
    "print(len(For))\n",
    "print(For[19])\n",
    "print(For[-1])"
   ]
  },
  {
   "cell_type": "code",
   "execution_count": 51,
   "id": "f35dd6a4-e13b-418a-b625-73bb8282f043",
   "metadata": {},
   "outputs": [
    {
     "name": "stdout",
     "output_type": "stream",
     "text": [
      "T\n"
     ]
    }
   ],
   "source": [
    "print(For[6])"
   ]
  },
  {
   "cell_type": "code",
   "execution_count": 52,
   "id": "1ed00e57-0408-4fc0-8bb4-932279bc7b22",
   "metadata": {},
   "outputs": [
    {
     "name": "stdout",
     "output_type": "stream",
     "text": [
      "Training\n"
     ]
    }
   ],
   "source": [
    "print(For[6:14])"
   ]
  },
  {
   "cell_type": "code",
   "execution_count": 53,
   "id": "69d750b2-f2eb-4b60-bd78-62f771db20d4",
   "metadata": {},
   "outputs": [
    {
     "data": {
      "text/plain": [
       "'Skill'"
      ]
     },
     "execution_count": 53,
     "metadata": {},
     "output_type": "execute_result"
    }
   ],
   "source": [
    "For[0:5]"
   ]
  },
  {
   "cell_type": "code",
   "execution_count": 54,
   "id": "1f6ebb96-b387-4de1-8d8f-67bce4124748",
   "metadata": {},
   "outputs": [
    {
     "data": {
      "text/plain": [
       "'Skill'"
      ]
     },
     "execution_count": 54,
     "metadata": {},
     "output_type": "execute_result"
    }
   ],
   "source": [
    "For[:5]"
   ]
  },
  {
   "cell_type": "code",
   "execution_count": 56,
   "id": "a02d2973-bfb7-4292-930f-aa9f1391b91c",
   "metadata": {},
   "outputs": [
    {
     "data": {
      "text/plain": [
       "'Nepal'"
      ]
     },
     "execution_count": 56,
     "metadata": {},
     "output_type": "execute_result"
    }
   ],
   "source": [
    "nep = For[15:]\n",
    "nep"
   ]
  },
  {
   "cell_type": "code",
   "execution_count": 1,
   "id": "b28f88eb-2852-44e8-8090-1c5f99ef9c39",
   "metadata": {},
   "outputs": [],
   "source": [
    "name = 'Skill Training Nepal'"
   ]
  },
  {
   "cell_type": "code",
   "execution_count": 2,
   "id": "8f97b505-cc87-4d60-bc94-0ea373c463cd",
   "metadata": {},
   "outputs": [
    {
     "name": "stdout",
     "output_type": "stream",
     "text": [
      "Training Center: Skill Training Nepal\n"
     ]
    }
   ],
   "source": [
    "print('Training Center:', name)"
   ]
  },
  {
   "cell_type": "code",
   "execution_count": 3,
   "id": "99fc642f-9688-4a02-8fc9-4b989de3d0fc",
   "metadata": {},
   "outputs": [
    {
     "name": "stdout",
     "output_type": "stream",
     "text": [
      "Training Center: Skill Training Nepal\n"
     ]
    }
   ],
   "source": [
    "print('Training Center: ' + name)"
   ]
  },
  {
   "cell_type": "code",
   "execution_count": 4,
   "id": "8b784ad5-a381-4b91-a131-872e2c820b13",
   "metadata": {},
   "outputs": [
    {
     "name": "stdout",
     "output_type": "stream",
     "text": [
      "Training Center: Skill Training Nepal\n"
     ]
    }
   ],
   "source": [
    "print(f'Training Center: {name}')"
   ]
  },
  {
   "cell_type": "code",
   "execution_count": 5,
   "id": "45de4ab0-f9c4-4a0f-a269-24730641de0f",
   "metadata": {},
   "outputs": [
    {
     "name": "stdout",
     "output_type": "stream",
     "text": [
      "Training Center: Skill Training Nepal\n"
     ]
    }
   ],
   "source": [
    "print('Training Center: {}'.format(name))"
   ]
  },
  {
   "cell_type": "code",
   "execution_count": null,
   "id": "8afb1cd8-0481-4ea7-95b7-1463b4c17489",
   "metadata": {},
   "outputs": [],
   "source": []
  }
 ],
 "metadata": {
  "kernelspec": {
   "display_name": "Python 3 (ipykernel)",
   "language": "python",
   "name": "python3"
  },
  "language_info": {
   "codemirror_mode": {
    "name": "ipython",
    "version": 3
   },
   "file_extension": ".py",
   "mimetype": "text/x-python",
   "name": "python",
   "nbconvert_exporter": "python",
   "pygments_lexer": "ipython3",
   "version": "3.11.7"
  }
 },
 "nbformat": 4,
 "nbformat_minor": 5
}
