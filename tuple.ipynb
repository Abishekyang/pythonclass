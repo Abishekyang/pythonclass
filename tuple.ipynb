{
 "cells": [
  {
   "cell_type": "markdown",
   "id": "5493bd6e-ec67-4785-944e-a623d1b047be",
   "metadata": {},
   "source": [
    "## Tuple are used to store multiple items in a single variable.\n",
    "- A Tuple is a collection which is ordered and unchangeableand allow duplicate values.\n",
    "- Tuples are written with round brackets.\n"
   ]
  },
  {
   "cell_type": "code",
   "execution_count": 1,
   "id": "0d565765-0637-46c2-92ad-c0cf0c85b05b",
   "metadata": {},
   "outputs": [
    {
     "name": "stdout",
     "output_type": "stream",
     "text": [
      "('apple', 'banana', 'cherry')\n"
     ]
    }
   ],
   "source": [
    "thistuple = ('apple', 'banana', 'cherry')\n",
    "print(thistuple)\n",
    "             "
   ]
  },
  {
   "cell_type": "code",
   "execution_count": 2,
   "id": "eba44256-7d6e-4804-a34e-e28c297a5049",
   "metadata": {},
   "outputs": [
    {
     "name": "stdout",
     "output_type": "stream",
     "text": [
      "3\n"
     ]
    }
   ],
   "source": [
    "print(len(thistuple))"
   ]
  },
  {
   "cell_type": "code",
   "execution_count": 3,
   "id": "e1f475dc-52c4-4f46-9895-6fbdebffe269",
   "metadata": {},
   "outputs": [
    {
     "name": "stdout",
     "output_type": "stream",
     "text": [
      "<class 'tuple'>\n",
      "<class 'str'>\n"
     ]
    }
   ],
   "source": [
    "thistuple = ('apple',)\n",
    "print(type(thistuple))\n",
    "\n",
    "mytuple = ('apple')\n",
    "print(type(mytuple))"
   ]
  },
  {
   "cell_type": "code",
   "execution_count": 4,
   "id": "6dfbe888-fb68-4dd6-8eac-fbcbf6295519",
   "metadata": {},
   "outputs": [
    {
     "name": "stdout",
     "output_type": "stream",
     "text": [
      "('apple', 'banana', 'cherry')\n"
     ]
    }
   ],
   "source": [
    "thistuple = tuple(('apple', 'banana', 'cherry'))\n",
    "print(thistuple)"
   ]
  },
  {
   "cell_type": "code",
   "execution_count": 5,
   "id": "4ffb65ec-9be1-4a39-92f8-b8607fdf5c2d",
   "metadata": {},
   "outputs": [
    {
     "name": "stdout",
     "output_type": "stream",
     "text": [
      "Yes, \"apple\" is in the fruits tuple\n"
     ]
    }
   ],
   "source": [
    "thistuple = ('apple', 'banana', 'cherry')\n",
    "if 'apple' in thistuple:\n",
    "    print('Yes, \"apple\" is in the fruits tuple')"
   ]
  },
  {
   "cell_type": "code",
   "execution_count": 6,
   "id": "79e3d0bc-4b49-4ae6-95f0-18710ddc6887",
   "metadata": {},
   "outputs": [
    {
     "name": "stdout",
     "output_type": "stream",
     "text": [
      "('apple', 'kiwi', 'cherry')\n"
     ]
    }
   ],
   "source": [
    "x = ('apple', 'banana', 'cherry')\n",
    "y = list(x)\n",
    "y[1] = 'kiwi'\n",
    "x = tuple(y)\n",
    "\n",
    "print(x)"
   ]
  },
  {
   "cell_type": "code",
   "execution_count": 7,
   "id": "4fc02bb0-b54f-47f2-ada6-725af62adf2f",
   "metadata": {},
   "outputs": [
    {
     "name": "stdout",
     "output_type": "stream",
     "text": [
      "('apple', 'orange', 'cherry', 'orange')\n"
     ]
    }
   ],
   "source": [
    "thistuple = ('apple', 'orange', 'cherry')\n",
    "y = list(thistuple)\n",
    "\n",
    "y.append('orange')\n",
    "thistuple = tuple(y)\n",
    "print(thistuple)"
   ]
  },
  {
   "cell_type": "code",
   "execution_count": 8,
   "id": "460a87da-b6e2-49d5-8640-4592dfd5a6a9",
   "metadata": {},
   "outputs": [
    {
     "name": "stdout",
     "output_type": "stream",
     "text": [
      "('apple', 'orange', 'cherry', 'orange')\n"
     ]
    }
   ],
   "source": [
    "thistuple = ('apple', 'orange', 'cherry')\n",
    "y = ('orange',)\n",
    "thistuple += y\n",
    "\n",
    "print(thistuple)"
   ]
  },
  {
   "cell_type": "code",
   "execution_count": 9,
   "id": "fe170765-7d02-49b3-abde-8e49c4b5b009",
   "metadata": {},
   "outputs": [
    {
     "name": "stdout",
     "output_type": "stream",
     "text": [
      "('banana', 'cherry')\n"
     ]
    }
   ],
   "source": [
    "thistuple = ('apple', 'banana', 'cherry')\n",
    "y = list(thistuple)\n",
    "y.remove('apple')\n",
    "thistuple = tuple(y)\n",
    "print(thistuple)"
   ]
  },
  {
   "cell_type": "code",
   "execution_count": 10,
   "id": "d9ba466a-a2f7-45bf-8c46-823bba62edde",
   "metadata": {},
   "outputs": [
    {
     "ename": "NameError",
     "evalue": "name 'thistuple' is not defined",
     "output_type": "error",
     "traceback": [
      "\u001b[1;31m---------------------------------------------------------------------------\u001b[0m",
      "\u001b[1;31mNameError\u001b[0m                                 Traceback (most recent call last)",
      "Cell \u001b[1;32mIn[10], line 2\u001b[0m\n\u001b[0;32m      1\u001b[0m \u001b[38;5;28;01mdel\u001b[39;00m thistuple\n\u001b[1;32m----> 2\u001b[0m \u001b[38;5;28mprint\u001b[39m(thistuple)\n",
      "\u001b[1;31mNameError\u001b[0m: name 'thistuple' is not defined"
     ]
    }
   ],
   "source": [
    "del thistuple\n",
    "print(thistuple)"
   ]
  },
  {
   "cell_type": "code",
   "execution_count": 11,
   "id": "bfa3dbfb-a981-4990-b84d-f78eae56c653",
   "metadata": {},
   "outputs": [
    {
     "name": "stdout",
     "output_type": "stream",
     "text": [
      "apple\n",
      "banana\n",
      "cherry\n"
     ]
    }
   ],
   "source": [
    "fruits = ('apple', 'banana', 'cherry')\n",
    "\n",
    "(green, yellow, red) = fruits\n",
    "\n",
    "print(green)\n",
    "print(yellow)\n",
    "print(red)"
   ]
  },
  {
   "cell_type": "code",
   "execution_count": 12,
   "id": "352e6a80-16e0-49c9-886d-1a0ac009ac86",
   "metadata": {},
   "outputs": [
    {
     "name": "stdout",
     "output_type": "stream",
     "text": [
      "apple\n",
      "banana\n",
      "['cherry', 'strawberry', 'raspberry']\n"
     ]
    }
   ],
   "source": [
    "fruits = ('apple', 'banana', 'cherry', 'strawberry', 'raspberry')\n",
    "\n",
    "(green, yellow, *red) = fruits\n",
    "\n",
    "print(green)\n",
    "print(yellow)\n",
    "print(red)"
   ]
  },
  {
   "cell_type": "code",
   "execution_count": 13,
   "id": "62ff9ebe-face-422b-86f6-c774d043ab4d",
   "metadata": {},
   "outputs": [
    {
     "name": "stdout",
     "output_type": "stream",
     "text": [
      "apple\n",
      "['banana', 'cherry', 'strawberry']\n",
      "raspberry\n"
     ]
    }
   ],
   "source": [
    "(green, *tropic, red) = fruits\n",
    "\n",
    "print(green)\n",
    "print(tropic)\n",
    "print(red)"
   ]
  },
  {
   "cell_type": "code",
   "execution_count": 14,
   "id": "9ba0a4c7-d567-4660-aa06-58b6342d09cc",
   "metadata": {},
   "outputs": [
    {
     "name": "stdout",
     "output_type": "stream",
     "text": [
      "apple\n",
      "banana\n",
      "cherry\n"
     ]
    }
   ],
   "source": [
    "thistuple = ('apple', 'banana', 'cherry')\n",
    "for i in range(len(thistuple)):\n",
    "    print(thistuple[i])"
   ]
  },
  {
   "cell_type": "code",
   "execution_count": 15,
   "id": "642deda6-5a2a-401e-9387-3397357bd069",
   "metadata": {},
   "outputs": [
    {
     "name": "stdout",
     "output_type": "stream",
     "text": [
      "apple\n",
      "banana\n",
      "cherry\n"
     ]
    }
   ],
   "source": [
    "i = 0\n",
    "\n",
    "while i < len(thistuple):\n",
    "    print(thistuple[i])\n",
    "    i += 1"
   ]
  },
  {
   "cell_type": "code",
   "execution_count": 16,
   "id": "5bef08f3-15d1-4fa1-92e7-c6d64cc68a81",
   "metadata": {},
   "outputs": [
    {
     "name": "stdout",
     "output_type": "stream",
     "text": [
      "('a', 'b', 'c', 1, 2, 3)\n"
     ]
    }
   ],
   "source": [
    "tuple1 = ('a', 'b', 'c')\n",
    "tuple2 = (1, 2, 3)\n",
    "\n",
    "tuple3 = tuple1 + tuple2\n",
    "print(tuple3)"
   ]
  },
  {
   "cell_type": "code",
   "execution_count": 17,
   "id": "86f41e53-c1ff-40c4-a5df-a4105e39d403",
   "metadata": {},
   "outputs": [
    {
     "name": "stdout",
     "output_type": "stream",
     "text": [
      "('apple', 'banana', 'cherry', 'apple', 'banana', 'cherry')\n"
     ]
    }
   ],
   "source": [
    "fruits = ('apple', 'banana', 'cherry')\n",
    "mytuple = fruits * 2\n",
    "\n",
    "print(mytuple)"
   ]
  },
  {
   "cell_type": "code",
   "execution_count": null,
   "id": "6b5b1826-4079-413f-9c9d-75f69b435282",
   "metadata": {},
   "outputs": [],
   "source": []
  }
 ],
 "metadata": {
  "kernelspec": {
   "display_name": "Python 3 (ipykernel)",
   "language": "python",
   "name": "python3"
  },
  "language_info": {
   "codemirror_mode": {
    "name": "ipython",
    "version": 3
   },
   "file_extension": ".py",
   "mimetype": "text/x-python",
   "name": "python",
   "nbconvert_exporter": "python",
   "pygments_lexer": "ipython3",
   "version": "3.11.7"
  }
 },
 "nbformat": 4,
 "nbformat_minor": 5
}
