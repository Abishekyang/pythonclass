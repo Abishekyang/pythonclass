{
 "cells": [
  {
   "cell_type": "code",
   "execution_count": 1,
   "id": "5edb9659",
   "metadata": {},
   "outputs": [
    {
     "ename": "SyntaxError",
     "evalue": "invalid syntax (42128192.py, line 3)",
     "output_type": "error",
     "traceback": [
      "\u001b[1;36m  Cell \u001b[1;32mIn[1], line 3\u001b[1;36m\u001b[0m\n\u001b[1;33m    OOP is a method of programming that focuses on using and class to organize and structure Code.\u001b[0m\n\u001b[1;37m             ^\u001b[0m\n\u001b[1;31mSyntaxError\u001b[0m\u001b[1;31m:\u001b[0m invalid syntax\n"
     ]
    }
   ],
   "source": [
    "# Object Oriented Programming(OOP)\n",
    "\n",
    "OOP is a method of programming that focuses on using and class to organize and structure Code.\n",
    "\n",
    "**Object**\n",
    "- Instance of class\n",
    "    \n",
    "**class**\n",
    "-Like a blueprint for creating objects\n",
    "\n",
    "--------------------------------------\n",
    "\n",
    "- Object contains\n",
    "\n",
    "-Data(Attributes)\n",
    "-Methods(Functions)"
   ]
  },
  {
   "cell_type": "markdown",
   "id": "6bec1566",
   "metadata": {},
   "source": []
  },
  {
   "cell_type": "markdown",
   "id": "743375d4",
   "metadata": {},
   "source": []
  },
  {
   "cell_type": "code",
   "execution_count": 2,
   "id": "2851ebb0",
   "metadata": {},
   "outputs": [
    {
     "ename": "SyntaxError",
     "evalue": "invalid syntax (408545110.py, line 2)",
     "output_type": "error",
     "traceback": [
      "\u001b[1;36m  Cell \u001b[1;32mIn[2], line 2\u001b[1;36m\u001b[0m\n\u001b[1;33m    1. Encapsulation\u001b[0m\n\u001b[1;37m       ^\u001b[0m\n\u001b[1;31mSyntaxError\u001b[0m\u001b[1;31m:\u001b[0m invalid syntax\n"
     ]
    }
   ],
   "source": [
    "## Fundamental principle of OOP\n",
    "1. Encapsulation\n",
    "    - Concept of bundling the attribute/data and methods/function that work on th data into a single unit or class\n",
    "\n",
    "2. Abstraction\n",
    "    - Hiding the complex implementation details and showig only the essential features of the object.mro\n",
    "\n",
    "3. Inheritance\n",
    "    Allowing a new class to inherit attributes and methods from an existing class\n",
    "\n",
    "4. Polymorphism\n",
    "    - Allowing objects of different classes to be treated as a object of common superclass (by overriding or overloading methods).\n"
   ]
  },
  {
   "cell_type": "markdown",
   "id": "62b3b8e5",
   "metadata": {},
   "source": [
    "## Why OOP\n",
    "- Modularity\n",
    "- Code reuse\n",
    "- Real world modeling\n",
    "- Maintainability"
   ]
  },
  {
   "cell_type": "markdown",
   "id": "f80225e7",
   "metadata": {},
   "source": [
    "magic method\n",
    "'''\n",
    "__init__\n",
    "__str__\n",
    "__add__\n",
    "__del__\n",
    "'''"
   ]
  },
  {
   "cell_type": "code",
   "execution_count": 3,
   "id": "a3bb63d7",
   "metadata": {},
   "outputs": [],
   "source": [
    "# Empty class\n",
    "class Person:\n",
    "    pass"
   ]
  },
  {
   "cell_type": "code",
   "execution_count": 5,
   "id": "ac28f6d3",
   "metadata": {},
   "outputs": [
    {
     "name": "stdout",
     "output_type": "stream",
     "text": [
      "Hello, world!\n"
     ]
    }
   ],
   "source": [
    "# class with method\n",
    "class Person:\n",
    "    def say_hello(self):\n",
    "        print('Hello, world!')\n",
    "\n",
    "# Creating object\n",
    "p = Person()\n",
    "p.say_hello()"
   ]
  },
  {
   "cell_type": "code",
   "execution_count": 6,
   "id": "0a6ed7ed",
   "metadata": {},
   "outputs": [
    {
     "name": "stdout",
     "output_type": "stream",
     "text": [
      "Hello, Sita\n"
     ]
    }
   ],
   "source": [
    "# class with method and attribute\n",
    "\n",
    "class Person:\n",
    "    name = 'Sita'\n",
    "\n",
    "    def say_hello(self):\n",
    "        print(f'Hello, {self.name}')\n",
    "\n",
    "# Creating object\n",
    "p = Person()\n",
    "p.say_hello()"
   ]
  },
  {
   "cell_type": "code",
   "execution_count": 8,
   "id": "15938562",
   "metadata": {},
   "outputs": [
    {
     "name": "stdout",
     "output_type": "stream",
     "text": [
      "<__main__.Person object at 0x000002706F6B4050>\n",
      "<class '__main__.Person'>\n",
      "None\n"
     ]
    }
   ],
   "source": [
    "print(p)\n",
    "print(p.__class__)\n",
    "print(p.__doc__)"
   ]
  },
  {
   "cell_type": "code",
   "execution_count": null,
   "id": "a3c11cfe",
   "metadata": {},
   "outputs": [],
   "source": []
  }
 ],
 "metadata": {
  "kernelspec": {
   "display_name": "Python 3",
   "language": "python",
   "name": "python3"
  },
  "language_info": {
   "codemirror_mode": {
    "name": "ipython",
    "version": 3
   },
   "file_extension": ".py",
   "mimetype": "text/x-python",
   "name": "python",
   "nbconvert_exporter": "python",
   "pygments_lexer": "ipython3",
   "version": "3.12.2"
  }
 },
 "nbformat": 4,
 "nbformat_minor": 5
}
